{
 "cells": [
  {
   "cell_type": "markdown",
   "id": "817baf72",
   "metadata": {
    "id": "817baf72"
   },
   "source": [
    "# Project Title:\n",
    "Income Prediction Challenge For Azubian"
   ]
  },
  {
   "cell_type": "markdown",
   "id": "746510d1",
   "metadata": {
    "id": "746510d1"
   },
   "source": [
    "# Business Understanding:"
   ]
  },
  {
   "cell_type": "markdown",
   "id": "a7fe21bd",
   "metadata": {
    "id": "a7fe21bd"
   },
   "source": [
    "The \"Income Prediction Challenge for Azubian\" is a data-driven initiative that seeks to address the critical issue of income inequality in developing nations. The project focuses on utilizing machine learning techniques to predict whether an individual's income falls above or below a specific income threshold. By developing a robust predictive model, we aim to contribute to more accurate and cost-effective methods of monitoring key population indicators, such as income levels, between census years. This valuable information will empower policymakers to take more informed actions to mitigate and manage income inequality on a global scale."
   ]
  },
  {
   "cell_type": "markdown",
   "id": "ae78cacd",
   "metadata": {
    "id": "ae78cacd"
   },
   "source": [
    "### 1.1. Objectives:\n",
    "\n",
    "- **Income Prediction Model:**\n",
    "The primary goal is to create a machine learning model capable of determining whether an individual's income exceeds a specified threshold.\n",
    "\n",
    "\n",
    "- **Economic Inequality Mitigation:**\n",
    "By accurately predicting income levels, the project aims to support the reduction of income inequality by providing policymakers with critical insights.\n",
    "\n",
    "\n",
    "- **Cost and Accuracy Improvement:**\n",
    "This solution endeavors to improve the efficiency of income-level monitoring by offering a more cost-effective and precise method compared to traditional census methods.\n",
    "\n",
    "### 1.2. Methodology:\n",
    "\n",
    "To achieve the project objectives, we will follow the Cross-Industry Standard Process for Data Mining (CRISP-DM) framework, a process used to guide the machine learning lifecycle. It is a six-phase process consisting of these key phases:\n",
    "\n",
    "**i. Business Understanding:**\n",
    "- Gain a deep understanding of the problem, its significance, and the potential impact of addressing income inequality.\n",
    "- Define the objectives and the F1 score evaluation metric for model performance.\n",
    "\n",
    "**ii. Data Understanding:**\n",
    "- Load the provided training, testing and variable definitions datasets.\n",
    "- Explore the provided datasets, including variable descriptions.\n",
    "- Analyze the Train.csv dataset, which includes target income labels, to understand the data's structure and relationships.\n",
    "\n",
    "**iii. Data Preparation:**\n",
    "- Preprocess the data by handling missing values and data anomalies.\n",
    "- Perform feature engineering to prepare the data for model training.\n",
    "\n",
    "**iv. Modeling:**\n",
    "- Select and implement machine learning algorithms suitable for classification tasks.\n",
    "- Train the predictive models on the Train.csv dataset using features to predict income labels.\n",
    "\n",
    "**v. Evaluation:**\n",
    "- Assess the models' performance using the F1 score, which combines precision and recall, to ensure the model's accuracy and select the best performing model.\n",
    "- Perform cross validation and hyperparameter tuning.\n",
    "\n",
    "**vi. Deployment:**\n",
    "- Deploy the trained model for prediction on the Test.csv dataset, which does not include target-related columns.\n",
    "- The deployment to be done through one of these frameworks; Streamlit, Gradio or FastAPI through Docker Containerization and deployment on Hugging Face. This will allow external users to interact with the application.\n",
    "\n",
    "By following the CRISP-DM framework, we aim to create a robust income prediction model that can effectively support efforts to address income inequality, provide policymakers with valuable insights, and improve the accuracy of population monitoring between census years. This project has the potential to make a significant impact on global economic equality."
   ]
  },
  {
   "cell_type": "markdown",
   "id": "6b2789e2",
   "metadata": {
    "id": "6b2789e2"
   },
   "source": [
    "# Data Understanding"
   ]
  },
  {
   "cell_type": "markdown",
   "id": "fcf8f59d",
   "metadata": {
    "id": "fcf8f59d"
   },
   "source": [
    "## Setup"
   ]
  },
  {
   "cell_type": "markdown",
   "id": "842f635f",
   "metadata": {
    "id": "842f635f"
   },
   "source": [
    "### Installations"
   ]
  },
  {
   "cell_type": "code",
   "execution_count": 1,
   "id": "3209a29a",
   "metadata": {
    "colab": {
     "base_uri": "https://localhost:8080/"
    },
    "id": "3209a29a",
    "outputId": "e19d22ea-c6b0-4b86-8de1-4b1add48a4f8"
   },
   "outputs": [],
   "source": [
    "# %pip install termcolor\n",
    "# %pip install catboost"
   ]
  },
  {
   "cell_type": "markdown",
   "id": "48ffb97e",
   "metadata": {
    "id": "48ffb97e"
   },
   "source": [
    "### Importation of Relevant Libraries"
   ]
  },
  {
   "cell_type": "code",
   "execution_count": 2,
   "id": "de777922",
   "metadata": {
    "colab": {
     "base_uri": "https://localhost:8080/"
    },
    "id": "de777922",
    "outputId": "6eea1a3a-8304-4641-d924-6ae6561336f6"
   },
   "outputs": [],
   "source": [
    "import pandas as pd\n",
    "import numpy as np\n",
    "import seaborn as sns\n",
    "import matplotlib.pyplot as plt\n",
    "\n",
    "from sklearn.preprocessing import LabelEncoder, OneHotEncoder\n",
    "from sklearn.model_selection import train_test_split\n",
    "from sklearn.utils import resample\n",
    "from sklearn.preprocessing import StandardScaler\n",
    "from sklearn.model_selection import train_test_split\n",
    "from imblearn.over_sampling import RandomOverSampler\n",
    "from sklearn.preprocessing import MinMaxScaler\n",
    "from sklearn.preprocessing import OrdinalEncoder\n",
    "\n",
    "from catboost import CatBoostClassifier\n",
    "from sklearn.metrics import accuracy_score, classification_report\n",
    "from termcolor import colored\n",
    "import pickle"
   ]
  },
  {
   "cell_type": "markdown",
   "id": "f8421b0f",
   "metadata": {
    "id": "f8421b0f"
   },
   "source": [
    "## Data Loading"
   ]
  },
  {
   "cell_type": "markdown",
   "id": "a61641bf",
   "metadata": {
    "id": "a61641bf"
   },
   "source": [
    "### Loading the Variable Definitions, Train and Test Datasets"
   ]
  },
  {
   "cell_type": "markdown",
   "id": "b2951bd4",
   "metadata": {
    "id": "b2951bd4"
   },
   "source": [
    "#### Variable Definitions Dataset"
   ]
  },
  {
   "cell_type": "code",
   "execution_count": 3,
   "id": "addc14a1",
   "metadata": {
    "colab": {
     "base_uri": "https://localhost:8080/",
     "height": 1000
    },
    "id": "addc14a1",
    "outputId": "182622f3-1da7-4297-ac2e-e54fe6451284"
   },
   "outputs": [
    {
     "data": {
      "text/html": [
       "<div>\n",
       "<style scoped>\n",
       "    .dataframe tbody tr th:only-of-type {\n",
       "        vertical-align: middle;\n",
       "    }\n",
       "\n",
       "    .dataframe tbody tr th {\n",
       "        vertical-align: top;\n",
       "    }\n",
       "\n",
       "    .dataframe thead th {\n",
       "        text-align: right;\n",
       "    }\n",
       "</style>\n",
       "<table border=\"1\" class=\"dataframe\">\n",
       "  <thead>\n",
       "    <tr style=\"text-align: right;\">\n",
       "      <th></th>\n",
       "      <th>Column</th>\n",
       "      <th>Description</th>\n",
       "    </tr>\n",
       "  </thead>\n",
       "  <tbody>\n",
       "    <tr>\n",
       "      <th>0</th>\n",
       "      <td>age</td>\n",
       "      <td>Age Of Individual</td>\n",
       "    </tr>\n",
       "    <tr>\n",
       "      <th>1</th>\n",
       "      <td>gender</td>\n",
       "      <td>Gender</td>\n",
       "    </tr>\n",
       "    <tr>\n",
       "      <th>2</th>\n",
       "      <td>education</td>\n",
       "      <td>Education</td>\n",
       "    </tr>\n",
       "    <tr>\n",
       "      <th>3</th>\n",
       "      <td>class</td>\n",
       "      <td>Class Of Worker</td>\n",
       "    </tr>\n",
       "    <tr>\n",
       "      <th>4</th>\n",
       "      <td>education_institute</td>\n",
       "      <td>Enrolled Educational Institution in last week</td>\n",
       "    </tr>\n",
       "    <tr>\n",
       "      <th>5</th>\n",
       "      <td>marital_status</td>\n",
       "      <td>Marital_Status</td>\n",
       "    </tr>\n",
       "    <tr>\n",
       "      <th>6</th>\n",
       "      <td>race</td>\n",
       "      <td>Race</td>\n",
       "    </tr>\n",
       "    <tr>\n",
       "      <th>7</th>\n",
       "      <td>is_hispanic</td>\n",
       "      <td>Hispanic Origin</td>\n",
       "    </tr>\n",
       "    <tr>\n",
       "      <th>8</th>\n",
       "      <td>employment_commitment</td>\n",
       "      <td>Full Or Part Time Employment Stat</td>\n",
       "    </tr>\n",
       "    <tr>\n",
       "      <th>9</th>\n",
       "      <td>unemployment_reason</td>\n",
       "      <td>Reason For Unemployment</td>\n",
       "    </tr>\n",
       "    <tr>\n",
       "      <th>10</th>\n",
       "      <td>employment_stat</td>\n",
       "      <td>Has Own Business Or Is Self Employed</td>\n",
       "    </tr>\n",
       "    <tr>\n",
       "      <th>11</th>\n",
       "      <td>wage_per_hour</td>\n",
       "      <td>Wage Per Hour</td>\n",
       "    </tr>\n",
       "    <tr>\n",
       "      <th>12</th>\n",
       "      <td>is_labor_union</td>\n",
       "      <td>Member Of A Labor Union</td>\n",
       "    </tr>\n",
       "    <tr>\n",
       "      <th>13</th>\n",
       "      <td>working_week_per_year</td>\n",
       "      <td>Weeks Worked In A Year</td>\n",
       "    </tr>\n",
       "    <tr>\n",
       "      <th>14</th>\n",
       "      <td>industry_code</td>\n",
       "      <td>Category</td>\n",
       "    </tr>\n",
       "    <tr>\n",
       "      <th>15</th>\n",
       "      <td>industry_code_main</td>\n",
       "      <td>Major Industry Code</td>\n",
       "    </tr>\n",
       "    <tr>\n",
       "      <th>16</th>\n",
       "      <td>occupation_code</td>\n",
       "      <td>Category</td>\n",
       "    </tr>\n",
       "    <tr>\n",
       "      <th>17</th>\n",
       "      <td>occupation_code_main</td>\n",
       "      <td>Major Occupation Code</td>\n",
       "    </tr>\n",
       "    <tr>\n",
       "      <th>18</th>\n",
       "      <td>total_employed</td>\n",
       "      <td>Num Persons Worked For Employer</td>\n",
       "    </tr>\n",
       "    <tr>\n",
       "      <th>19</th>\n",
       "      <td>household_stat</td>\n",
       "      <td>Detailed Household And Family Stat</td>\n",
       "    </tr>\n",
       "    <tr>\n",
       "      <th>20</th>\n",
       "      <td>household_summary</td>\n",
       "      <td>Detailed Household Summary In Household</td>\n",
       "    </tr>\n",
       "    <tr>\n",
       "      <th>21</th>\n",
       "      <td>under_18_family</td>\n",
       "      <td>Family Members Under 18</td>\n",
       "    </tr>\n",
       "    <tr>\n",
       "      <th>22</th>\n",
       "      <td>veterans_admin_questionnaire</td>\n",
       "      <td>Fill Inc Questionnaire For Veterans Admin</td>\n",
       "    </tr>\n",
       "    <tr>\n",
       "      <th>23</th>\n",
       "      <td>vet_benefit</td>\n",
       "      <td>Benefits</td>\n",
       "    </tr>\n",
       "    <tr>\n",
       "      <th>24</th>\n",
       "      <td>tax_status</td>\n",
       "      <td>Tax Filer Status</td>\n",
       "    </tr>\n",
       "    <tr>\n",
       "      <th>25</th>\n",
       "      <td>gains</td>\n",
       "      <td>Gains</td>\n",
       "    </tr>\n",
       "    <tr>\n",
       "      <th>26</th>\n",
       "      <td>losses</td>\n",
       "      <td>Losses</td>\n",
       "    </tr>\n",
       "    <tr>\n",
       "      <th>27</th>\n",
       "      <td>stocks_status</td>\n",
       "      <td>Divdends From Stocks</td>\n",
       "    </tr>\n",
       "    <tr>\n",
       "      <th>28</th>\n",
       "      <td>citizenship</td>\n",
       "      <td>Citizenship</td>\n",
       "    </tr>\n",
       "    <tr>\n",
       "      <th>29</th>\n",
       "      <td>mig_year</td>\n",
       "      <td>Year</td>\n",
       "    </tr>\n",
       "    <tr>\n",
       "      <th>30</th>\n",
       "      <td>country_of_birth_own</td>\n",
       "      <td>Individual's Birth Country</td>\n",
       "    </tr>\n",
       "    <tr>\n",
       "      <th>31</th>\n",
       "      <td>country_of_birth_father</td>\n",
       "      <td>Father's Birth Country</td>\n",
       "    </tr>\n",
       "    <tr>\n",
       "      <th>32</th>\n",
       "      <td>country_of_birth_mother</td>\n",
       "      <td>Mother's Birth Country</td>\n",
       "    </tr>\n",
       "    <tr>\n",
       "      <th>33</th>\n",
       "      <td>migration_code_change_in_msa</td>\n",
       "      <td>Migration Code Change In Msa</td>\n",
       "    </tr>\n",
       "    <tr>\n",
       "      <th>34</th>\n",
       "      <td>migration_prev_sunbelt</td>\n",
       "      <td>Migration Prev Sunbelt</td>\n",
       "    </tr>\n",
       "    <tr>\n",
       "      <th>35</th>\n",
       "      <td>migration_code_move_within_reg</td>\n",
       "      <td>Migration Code Move Within Reg</td>\n",
       "    </tr>\n",
       "    <tr>\n",
       "      <th>36</th>\n",
       "      <td>migration_code_change_in_reg</td>\n",
       "      <td>Migration Code Change In Reg</td>\n",
       "    </tr>\n",
       "    <tr>\n",
       "      <th>37</th>\n",
       "      <td>residence_1_year_ago</td>\n",
       "      <td>Live In This House Year Ago?</td>\n",
       "    </tr>\n",
       "    <tr>\n",
       "      <th>38</th>\n",
       "      <td>old_residence_reg</td>\n",
       "      <td>Region Of Previous Residence</td>\n",
       "    </tr>\n",
       "    <tr>\n",
       "      <th>39</th>\n",
       "      <td>old_residence_state</td>\n",
       "      <td>State Of Previous Residence</td>\n",
       "    </tr>\n",
       "    <tr>\n",
       "      <th>40</th>\n",
       "      <td>importance_of_record</td>\n",
       "      <td>Weight Of Instance</td>\n",
       "    </tr>\n",
       "    <tr>\n",
       "      <th>41</th>\n",
       "      <td>income_above_limit</td>\n",
       "      <td>Is income above 50k?</td>\n",
       "    </tr>\n",
       "  </tbody>\n",
       "</table>\n",
       "</div>"
      ],
      "text/plain": [
       "                            Column  \\\n",
       "0                              age   \n",
       "1                           gender   \n",
       "2                        education   \n",
       "3                            class   \n",
       "4              education_institute   \n",
       "5                   marital_status   \n",
       "6                             race   \n",
       "7                      is_hispanic   \n",
       "8            employment_commitment   \n",
       "9              unemployment_reason   \n",
       "10                 employment_stat   \n",
       "11                   wage_per_hour   \n",
       "12                  is_labor_union   \n",
       "13           working_week_per_year   \n",
       "14                   industry_code   \n",
       "15              industry_code_main   \n",
       "16                 occupation_code   \n",
       "17            occupation_code_main   \n",
       "18                  total_employed   \n",
       "19                  household_stat   \n",
       "20               household_summary   \n",
       "21                 under_18_family   \n",
       "22    veterans_admin_questionnaire   \n",
       "23                     vet_benefit   \n",
       "24                      tax_status   \n",
       "25                           gains   \n",
       "26                          losses   \n",
       "27                   stocks_status   \n",
       "28                     citizenship   \n",
       "29                        mig_year   \n",
       "30            country_of_birth_own   \n",
       "31         country_of_birth_father   \n",
       "32         country_of_birth_mother   \n",
       "33    migration_code_change_in_msa   \n",
       "34          migration_prev_sunbelt   \n",
       "35  migration_code_move_within_reg   \n",
       "36    migration_code_change_in_reg   \n",
       "37            residence_1_year_ago   \n",
       "38               old_residence_reg   \n",
       "39             old_residence_state   \n",
       "40            importance_of_record   \n",
       "41              income_above_limit   \n",
       "\n",
       "                                      Description  \n",
       "0                               Age Of Individual  \n",
       "1                                          Gender  \n",
       "2                                       Education  \n",
       "3                                 Class Of Worker  \n",
       "4   Enrolled Educational Institution in last week  \n",
       "5                                  Marital_Status  \n",
       "6                                            Race  \n",
       "7                                 Hispanic Origin  \n",
       "8               Full Or Part Time Employment Stat  \n",
       "9                         Reason For Unemployment  \n",
       "10           Has Own Business Or Is Self Employed  \n",
       "11                                  Wage Per Hour  \n",
       "12                        Member Of A Labor Union  \n",
       "13                         Weeks Worked In A Year  \n",
       "14                                       Category  \n",
       "15                            Major Industry Code  \n",
       "16                                       Category  \n",
       "17                          Major Occupation Code  \n",
       "18                Num Persons Worked For Employer  \n",
       "19             Detailed Household And Family Stat  \n",
       "20        Detailed Household Summary In Household  \n",
       "21                        Family Members Under 18  \n",
       "22      Fill Inc Questionnaire For Veterans Admin  \n",
       "23                                       Benefits  \n",
       "24                               Tax Filer Status  \n",
       "25                                          Gains  \n",
       "26                                         Losses  \n",
       "27                           Divdends From Stocks  \n",
       "28                                    Citizenship  \n",
       "29                                           Year  \n",
       "30                     Individual's Birth Country  \n",
       "31                         Father's Birth Country  \n",
       "32                         Mother's Birth Country  \n",
       "33                   Migration Code Change In Msa  \n",
       "34                         Migration Prev Sunbelt  \n",
       "35                 Migration Code Move Within Reg  \n",
       "36                   Migration Code Change In Reg  \n",
       "37                   Live In This House Year Ago?  \n",
       "38                   Region Of Previous Residence  \n",
       "39                    State Of Previous Residence  \n",
       "40                             Weight Of Instance  \n",
       "41                           Is income above 50k?  "
      ]
     },
     "execution_count": 3,
     "metadata": {},
     "output_type": "execute_result"
    }
   ],
   "source": [
    "# Reading Variable Definitions dataset\n",
    "def_df = pd.read_csv('data/VariableDefinitions.csv')\n",
    "def_df"
   ]
  },
  {
   "cell_type": "markdown",
   "id": "9063ca86",
   "metadata": {
    "id": "9063ca86"
   },
   "source": [
    "These variable definitions provide a clear understanding of the features and target variable used in the dataset, which is essential for data analysis and modeling.\n"
   ]
  },
  {
   "cell_type": "markdown",
   "id": "950042e0",
   "metadata": {
    "id": "950042e0"
   },
   "source": [
    "#### Train Dataset"
   ]
  },
  {
   "cell_type": "code",
   "execution_count": 4,
   "id": "2795e62a",
   "metadata": {
    "colab": {
     "base_uri": "https://localhost:8080/",
     "height": 446
    },
    "id": "2795e62a",
    "outputId": "92b0d4b0-1e93-448e-b375-715d1c4435f9"
   },
   "outputs": [
    {
     "data": {
      "text/html": [
       "<div>\n",
       "<style scoped>\n",
       "    .dataframe tbody tr th:only-of-type {\n",
       "        vertical-align: middle;\n",
       "    }\n",
       "\n",
       "    .dataframe tbody tr th {\n",
       "        vertical-align: top;\n",
       "    }\n",
       "\n",
       "    .dataframe thead th {\n",
       "        text-align: right;\n",
       "    }\n",
       "</style>\n",
       "<table border=\"1\" class=\"dataframe\">\n",
       "  <thead>\n",
       "    <tr style=\"text-align: right;\">\n",
       "      <th></th>\n",
       "      <th>ID</th>\n",
       "      <th>age</th>\n",
       "      <th>gender</th>\n",
       "      <th>education</th>\n",
       "      <th>class</th>\n",
       "      <th>education_institute</th>\n",
       "      <th>marital_status</th>\n",
       "      <th>race</th>\n",
       "      <th>is_hispanic</th>\n",
       "      <th>employment_commitment</th>\n",
       "      <th>...</th>\n",
       "      <th>country_of_birth_mother</th>\n",
       "      <th>migration_code_change_in_msa</th>\n",
       "      <th>migration_prev_sunbelt</th>\n",
       "      <th>migration_code_move_within_reg</th>\n",
       "      <th>migration_code_change_in_reg</th>\n",
       "      <th>residence_1_year_ago</th>\n",
       "      <th>old_residence_reg</th>\n",
       "      <th>old_residence_state</th>\n",
       "      <th>importance_of_record</th>\n",
       "      <th>income_above_limit</th>\n",
       "    </tr>\n",
       "  </thead>\n",
       "  <tbody>\n",
       "    <tr>\n",
       "      <th>0</th>\n",
       "      <td>ID_TZ0000</td>\n",
       "      <td>79</td>\n",
       "      <td>Female</td>\n",
       "      <td>High school graduate</td>\n",
       "      <td>NaN</td>\n",
       "      <td>NaN</td>\n",
       "      <td>Widowed</td>\n",
       "      <td>White</td>\n",
       "      <td>All other</td>\n",
       "      <td>Not in labor force</td>\n",
       "      <td>...</td>\n",
       "      <td>US</td>\n",
       "      <td>?</td>\n",
       "      <td>?</td>\n",
       "      <td>?</td>\n",
       "      <td>?</td>\n",
       "      <td>NaN</td>\n",
       "      <td>NaN</td>\n",
       "      <td>NaN</td>\n",
       "      <td>1779.74</td>\n",
       "      <td>Below limit</td>\n",
       "    </tr>\n",
       "    <tr>\n",
       "      <th>1</th>\n",
       "      <td>ID_TZ0001</td>\n",
       "      <td>65</td>\n",
       "      <td>Female</td>\n",
       "      <td>High school graduate</td>\n",
       "      <td>NaN</td>\n",
       "      <td>NaN</td>\n",
       "      <td>Widowed</td>\n",
       "      <td>White</td>\n",
       "      <td>All other</td>\n",
       "      <td>Children or Armed Forces</td>\n",
       "      <td>...</td>\n",
       "      <td>US</td>\n",
       "      <td>unchanged</td>\n",
       "      <td>NaN</td>\n",
       "      <td>unchanged</td>\n",
       "      <td>unchanged</td>\n",
       "      <td>Same</td>\n",
       "      <td>NaN</td>\n",
       "      <td>NaN</td>\n",
       "      <td>2366.75</td>\n",
       "      <td>Below limit</td>\n",
       "    </tr>\n",
       "    <tr>\n",
       "      <th>2</th>\n",
       "      <td>ID_TZ0002</td>\n",
       "      <td>21</td>\n",
       "      <td>Male</td>\n",
       "      <td>12th grade no diploma</td>\n",
       "      <td>Federal government</td>\n",
       "      <td>NaN</td>\n",
       "      <td>Never married</td>\n",
       "      <td>Black</td>\n",
       "      <td>All other</td>\n",
       "      <td>Children or Armed Forces</td>\n",
       "      <td>...</td>\n",
       "      <td>US</td>\n",
       "      <td>unchanged</td>\n",
       "      <td>NaN</td>\n",
       "      <td>unchanged</td>\n",
       "      <td>unchanged</td>\n",
       "      <td>Same</td>\n",
       "      <td>NaN</td>\n",
       "      <td>NaN</td>\n",
       "      <td>1693.42</td>\n",
       "      <td>Below limit</td>\n",
       "    </tr>\n",
       "    <tr>\n",
       "      <th>3</th>\n",
       "      <td>ID_TZ0003</td>\n",
       "      <td>2</td>\n",
       "      <td>Female</td>\n",
       "      <td>Children</td>\n",
       "      <td>NaN</td>\n",
       "      <td>NaN</td>\n",
       "      <td>Never married</td>\n",
       "      <td>Asian or Pacific Islander</td>\n",
       "      <td>All other</td>\n",
       "      <td>Children or Armed Forces</td>\n",
       "      <td>...</td>\n",
       "      <td>India</td>\n",
       "      <td>unchanged</td>\n",
       "      <td>NaN</td>\n",
       "      <td>unchanged</td>\n",
       "      <td>unchanged</td>\n",
       "      <td>Same</td>\n",
       "      <td>NaN</td>\n",
       "      <td>NaN</td>\n",
       "      <td>1380.27</td>\n",
       "      <td>Below limit</td>\n",
       "    </tr>\n",
       "    <tr>\n",
       "      <th>4</th>\n",
       "      <td>ID_TZ0004</td>\n",
       "      <td>70</td>\n",
       "      <td>Male</td>\n",
       "      <td>High school graduate</td>\n",
       "      <td>NaN</td>\n",
       "      <td>NaN</td>\n",
       "      <td>Married-civilian spouse present</td>\n",
       "      <td>White</td>\n",
       "      <td>All other</td>\n",
       "      <td>Not in labor force</td>\n",
       "      <td>...</td>\n",
       "      <td>US</td>\n",
       "      <td>?</td>\n",
       "      <td>?</td>\n",
       "      <td>?</td>\n",
       "      <td>?</td>\n",
       "      <td>NaN</td>\n",
       "      <td>NaN</td>\n",
       "      <td>NaN</td>\n",
       "      <td>1580.79</td>\n",
       "      <td>Below limit</td>\n",
       "    </tr>\n",
       "  </tbody>\n",
       "</table>\n",
       "<p>5 rows × 43 columns</p>\n",
       "</div>"
      ],
      "text/plain": [
       "          ID  age   gender               education                class  \\\n",
       "0  ID_TZ0000   79   Female    High school graduate                  NaN   \n",
       "1  ID_TZ0001   65   Female    High school graduate                  NaN   \n",
       "2  ID_TZ0002   21     Male   12th grade no diploma   Federal government   \n",
       "3  ID_TZ0003    2   Female                Children                  NaN   \n",
       "4  ID_TZ0004   70     Male    High school graduate                  NaN   \n",
       "\n",
       "  education_institute                    marital_status  \\\n",
       "0                 NaN                           Widowed   \n",
       "1                 NaN                           Widowed   \n",
       "2                 NaN                     Never married   \n",
       "3                 NaN                     Never married   \n",
       "4                 NaN   Married-civilian spouse present   \n",
       "\n",
       "                         race is_hispanic      employment_commitment  ...  \\\n",
       "0                       White   All other         Not in labor force  ...   \n",
       "1                       White   All other   Children or Armed Forces  ...   \n",
       "2                       Black   All other   Children or Armed Forces  ...   \n",
       "3   Asian or Pacific Islander   All other   Children or Armed Forces  ...   \n",
       "4                       White   All other         Not in labor force  ...   \n",
       "\n",
       "  country_of_birth_mother  migration_code_change_in_msa  \\\n",
       "0                      US                             ?   \n",
       "1                      US                     unchanged   \n",
       "2                      US                     unchanged   \n",
       "3                   India                     unchanged   \n",
       "4                      US                             ?   \n",
       "\n",
       "   migration_prev_sunbelt migration_code_move_within_reg  \\\n",
       "0                       ?                              ?   \n",
       "1                     NaN                      unchanged   \n",
       "2                     NaN                      unchanged   \n",
       "3                     NaN                      unchanged   \n",
       "4                       ?                              ?   \n",
       "\n",
       "   migration_code_change_in_reg  residence_1_year_ago old_residence_reg  \\\n",
       "0                             ?                   NaN               NaN   \n",
       "1                     unchanged                  Same               NaN   \n",
       "2                     unchanged                  Same               NaN   \n",
       "3                     unchanged                  Same               NaN   \n",
       "4                             ?                   NaN               NaN   \n",
       "\n",
       "   old_residence_state importance_of_record  income_above_limit  \n",
       "0                  NaN              1779.74         Below limit  \n",
       "1                  NaN              2366.75         Below limit  \n",
       "2                  NaN              1693.42         Below limit  \n",
       "3                  NaN              1380.27         Below limit  \n",
       "4                  NaN              1580.79         Below limit  \n",
       "\n",
       "[5 rows x 43 columns]"
      ]
     },
     "execution_count": 4,
     "metadata": {},
     "output_type": "execute_result"
    }
   ],
   "source": [
    "# Reading train dataset\n",
    "train_df = pd.read_csv('data/Train.csv')\n",
    "train_df.head()"
   ]
  },
  {
   "cell_type": "markdown",
   "id": "9de9b212",
   "metadata": {
    "id": "9de9b212"
   },
   "source": [
    "#### Test Dataset"
   ]
  },
  {
   "cell_type": "code",
   "execution_count": 5,
   "id": "7e5e29f8",
   "metadata": {
    "colab": {
     "base_uri": "https://localhost:8080/",
     "height": 360
    },
    "id": "7e5e29f8",
    "outputId": "274762a2-2e80-4f22-91a9-95153ac49437"
   },
   "outputs": [
    {
     "data": {
      "text/html": [
       "<div>\n",
       "<style scoped>\n",
       "    .dataframe tbody tr th:only-of-type {\n",
       "        vertical-align: middle;\n",
       "    }\n",
       "\n",
       "    .dataframe tbody tr th {\n",
       "        vertical-align: top;\n",
       "    }\n",
       "\n",
       "    .dataframe thead th {\n",
       "        text-align: right;\n",
       "    }\n",
       "</style>\n",
       "<table border=\"1\" class=\"dataframe\">\n",
       "  <thead>\n",
       "    <tr style=\"text-align: right;\">\n",
       "      <th></th>\n",
       "      <th>ID</th>\n",
       "      <th>age</th>\n",
       "      <th>gender</th>\n",
       "      <th>education</th>\n",
       "      <th>class</th>\n",
       "      <th>education_institute</th>\n",
       "      <th>marital_status</th>\n",
       "      <th>race</th>\n",
       "      <th>is_hispanic</th>\n",
       "      <th>employment_commitment</th>\n",
       "      <th>...</th>\n",
       "      <th>country_of_birth_father</th>\n",
       "      <th>country_of_birth_mother</th>\n",
       "      <th>migration_code_change_in_msa</th>\n",
       "      <th>migration_prev_sunbelt</th>\n",
       "      <th>migration_code_move_within_reg</th>\n",
       "      <th>migration_code_change_in_reg</th>\n",
       "      <th>residence_1_year_ago</th>\n",
       "      <th>old_residence_reg</th>\n",
       "      <th>old_residence_state</th>\n",
       "      <th>importance_of_record</th>\n",
       "    </tr>\n",
       "  </thead>\n",
       "  <tbody>\n",
       "    <tr>\n",
       "      <th>0</th>\n",
       "      <td>ID_TZ209499</td>\n",
       "      <td>54</td>\n",
       "      <td>Male</td>\n",
       "      <td>High school graduate</td>\n",
       "      <td>Private</td>\n",
       "      <td>NaN</td>\n",
       "      <td>Married-civilian spouse present</td>\n",
       "      <td>White</td>\n",
       "      <td>All other</td>\n",
       "      <td>Children or Armed Forces</td>\n",
       "      <td>...</td>\n",
       "      <td>US</td>\n",
       "      <td>US</td>\n",
       "      <td>unchanged</td>\n",
       "      <td>NaN</td>\n",
       "      <td>unchanged</td>\n",
       "      <td>unchanged</td>\n",
       "      <td>Same</td>\n",
       "      <td>NaN</td>\n",
       "      <td>NaN</td>\n",
       "      <td>3388.96</td>\n",
       "    </tr>\n",
       "    <tr>\n",
       "      <th>1</th>\n",
       "      <td>ID_TZ209500</td>\n",
       "      <td>53</td>\n",
       "      <td>Male</td>\n",
       "      <td>5th or 6th grade</td>\n",
       "      <td>Private</td>\n",
       "      <td>NaN</td>\n",
       "      <td>Married-civilian spouse present</td>\n",
       "      <td>White</td>\n",
       "      <td>Central or South American</td>\n",
       "      <td>Full-time schedules</td>\n",
       "      <td>...</td>\n",
       "      <td>El-Salvador</td>\n",
       "      <td>El-Salvador</td>\n",
       "      <td>?</td>\n",
       "      <td>?</td>\n",
       "      <td>?</td>\n",
       "      <td>?</td>\n",
       "      <td>NaN</td>\n",
       "      <td>NaN</td>\n",
       "      <td>NaN</td>\n",
       "      <td>1177.55</td>\n",
       "    </tr>\n",
       "    <tr>\n",
       "      <th>2</th>\n",
       "      <td>ID_TZ209501</td>\n",
       "      <td>42</td>\n",
       "      <td>Male</td>\n",
       "      <td>Bachelors degree(BA AB BS)</td>\n",
       "      <td>Private</td>\n",
       "      <td>NaN</td>\n",
       "      <td>Married-civilian spouse present</td>\n",
       "      <td>White</td>\n",
       "      <td>All other</td>\n",
       "      <td>Full-time schedules</td>\n",
       "      <td>...</td>\n",
       "      <td>US</td>\n",
       "      <td>US</td>\n",
       "      <td>?</td>\n",
       "      <td>?</td>\n",
       "      <td>?</td>\n",
       "      <td>?</td>\n",
       "      <td>NaN</td>\n",
       "      <td>NaN</td>\n",
       "      <td>NaN</td>\n",
       "      <td>4898.55</td>\n",
       "    </tr>\n",
       "    <tr>\n",
       "      <th>3</th>\n",
       "      <td>ID_TZ209502</td>\n",
       "      <td>16</td>\n",
       "      <td>Female</td>\n",
       "      <td>9th grade</td>\n",
       "      <td>NaN</td>\n",
       "      <td>High school</td>\n",
       "      <td>Never married</td>\n",
       "      <td>White</td>\n",
       "      <td>All other</td>\n",
       "      <td>Children or Armed Forces</td>\n",
       "      <td>...</td>\n",
       "      <td>US</td>\n",
       "      <td>US</td>\n",
       "      <td>unchanged</td>\n",
       "      <td>NaN</td>\n",
       "      <td>unchanged</td>\n",
       "      <td>unchanged</td>\n",
       "      <td>Same</td>\n",
       "      <td>NaN</td>\n",
       "      <td>NaN</td>\n",
       "      <td>1391.44</td>\n",
       "    </tr>\n",
       "    <tr>\n",
       "      <th>4</th>\n",
       "      <td>ID_TZ209503</td>\n",
       "      <td>16</td>\n",
       "      <td>Male</td>\n",
       "      <td>9th grade</td>\n",
       "      <td>NaN</td>\n",
       "      <td>High school</td>\n",
       "      <td>Never married</td>\n",
       "      <td>White</td>\n",
       "      <td>All other</td>\n",
       "      <td>Not in labor force</td>\n",
       "      <td>...</td>\n",
       "      <td>US</td>\n",
       "      <td>US</td>\n",
       "      <td>?</td>\n",
       "      <td>?</td>\n",
       "      <td>?</td>\n",
       "      <td>?</td>\n",
       "      <td>NaN</td>\n",
       "      <td>NaN</td>\n",
       "      <td>NaN</td>\n",
       "      <td>1933.18</td>\n",
       "    </tr>\n",
       "  </tbody>\n",
       "</table>\n",
       "<p>5 rows × 42 columns</p>\n",
       "</div>"
      ],
      "text/plain": [
       "            ID  age   gender                    education     class  \\\n",
       "0  ID_TZ209499   54     Male         High school graduate   Private   \n",
       "1  ID_TZ209500   53     Male             5th or 6th grade   Private   \n",
       "2  ID_TZ209501   42     Male   Bachelors degree(BA AB BS)   Private   \n",
       "3  ID_TZ209502   16   Female                    9th grade       NaN   \n",
       "4  ID_TZ209503   16     Male                    9th grade       NaN   \n",
       "\n",
       "  education_institute                    marital_status    race  \\\n",
       "0                 NaN   Married-civilian spouse present   White   \n",
       "1                 NaN   Married-civilian spouse present   White   \n",
       "2                 NaN   Married-civilian spouse present   White   \n",
       "3         High school                     Never married   White   \n",
       "4         High school                     Never married   White   \n",
       "\n",
       "                  is_hispanic      employment_commitment  ...  \\\n",
       "0                   All other   Children or Armed Forces  ...   \n",
       "1   Central or South American        Full-time schedules  ...   \n",
       "2                   All other        Full-time schedules  ...   \n",
       "3                   All other   Children or Armed Forces  ...   \n",
       "4                   All other         Not in labor force  ...   \n",
       "\n",
       "  country_of_birth_father  country_of_birth_mother  \\\n",
       "0                      US                       US   \n",
       "1             El-Salvador              El-Salvador   \n",
       "2                      US                       US   \n",
       "3                      US                       US   \n",
       "4                      US                       US   \n",
       "\n",
       "   migration_code_change_in_msa migration_prev_sunbelt  \\\n",
       "0                     unchanged                    NaN   \n",
       "1                             ?                      ?   \n",
       "2                             ?                      ?   \n",
       "3                     unchanged                    NaN   \n",
       "4                             ?                      ?   \n",
       "\n",
       "   migration_code_move_within_reg  migration_code_change_in_reg  \\\n",
       "0                       unchanged                     unchanged   \n",
       "1                               ?                             ?   \n",
       "2                               ?                             ?   \n",
       "3                       unchanged                     unchanged   \n",
       "4                               ?                             ?   \n",
       "\n",
       "  residence_1_year_ago  old_residence_reg old_residence_state  \\\n",
       "0                 Same                NaN                 NaN   \n",
       "1                  NaN                NaN                 NaN   \n",
       "2                  NaN                NaN                 NaN   \n",
       "3                 Same                NaN                 NaN   \n",
       "4                  NaN                NaN                 NaN   \n",
       "\n",
       "   importance_of_record  \n",
       "0               3388.96  \n",
       "1               1177.55  \n",
       "2               4898.55  \n",
       "3               1391.44  \n",
       "4               1933.18  \n",
       "\n",
       "[5 rows x 42 columns]"
      ]
     },
     "execution_count": 5,
     "metadata": {},
     "output_type": "execute_result"
    }
   ],
   "source": [
    "# Reading test dataset\n",
    "test_df = pd.read_csv('data/Test.csv')\n",
    "test_df.head()"
   ]
  },
  {
   "cell_type": "markdown",
   "id": "946abe27",
   "metadata": {
    "id": "946abe27"
   },
   "source": [
    "## Hypothesis    "
   ]
  },
  {
   "cell_type": "markdown",
   "id": "2d9d423c",
   "metadata": {
    "id": "2d9d423c"
   },
   "source": [
    "**Null Hypothesis (H0):** There is no significant association between an individual's education level and the likelihood of having an income above the specified threshold.\n",
    "\n",
    "\n",
    "**Alternative Hypothesis (H1):** Individuals with higher education levels are significantly more likely to have incomes above the specified threshold.\n",
    "\n",
    "\n",
    "- The null hypothesis (H0) suggests that education level and income level are not related, meaning that having a higher education level does not increase the likelihood of earning an income above the threshold.\n",
    "\n",
    "- The alternative hypothesis (H1) posits that there is a significant association between education level and income level, indicating that higher education levels are linked to a higher likelihood of having an income above the threshold.\n",
    "\n",
    "We will conduct statistical tests to either accept or reject the null hypothesis in favor of the alternative hypothesis based on the evidence provided by the dataset."
   ]
  },
  {
   "cell_type": "markdown",
   "id": "376edf4c",
   "metadata": {
    "id": "376edf4c"
   },
   "source": [
    "## Key Analytical Questions:"
   ]
  },
  {
   "cell_type": "markdown",
   "id": "bba158e5",
   "metadata": {
    "id": "bba158e5"
   },
   "source": [
    "To gain insights into the dataset and validate the hypothesis, we can formulate several key analytical questions for EDA:\n",
    "\n",
    "i. What is the distribution of income levels in the dataset (above the threshold vs. below the threshold)?\n",
    "\n",
    "- This question will provide an initial understanding of the balance between the two income categories.\n",
    "\n",
    "ii. How does age relate to income levels in the dataset?\n",
    "\n",
    "- Analyzing the age distribution among individuals with different income levels may reveal patterns related to age and income.\n",
    "\n",
    "iii. Is there a significant gender-based income disparity?\n",
    "\n",
    "- Exploring income levels based on gender can help us understand if gender plays a role in income categorization.\n",
    "\n",
    "iv. What is the distribution of education levels among individuals with different income levels?\n",
    "\n",
    "- Analyzing the educational backgrounds of individuals in both income categories can help assess the hypothesis regarding education and income.\n",
    "\n",
    "v. Are there differences in employment status between the two income groups?\n",
    "\n",
    "- Investigating the employment status and commitment of individuals based on income categories can provide insights into the relationship between employment and income.\n",
    "\n",
    "vi. How do race and ethnicity correlate with income levels in the dataset?\n",
    "\n",
    "- Understanding the distribution of income levels across different racial and ethnic groups can shed light on potential disparities.\n",
    "\n",
    "vii. Are capital gains and losses associated with higher incomes?\n",
    "\n",
    "- Examining the presence and amounts of capital gains and losses can help determine their impact on income levels.\n",
    "\n",
    "viii. What is the relationship between occupation and income categories?\n",
    "\n",
    "- Analyzing the occupation categories and their distribution among income groups can provide insights into employment roles.\n",
    "\n",
    "ix. Do migration patterns or changes in residence relate to income levels?\n",
    "\n",
    "- Investigating migration and residence changes may reveal how geographic mobility affects income.\n",
    "\n",
    "x. How does tax status correspond to income levels?\n",
    "\n",
    "Analyzing tax filing status can provide information about the impact of tax-related factors on income.\n",
    "\n",
    "By exploring these key analytical questions, we can perform an in-depth EDA to uncover patterns, correlations, and potential factors influencing income levels. Additionally, it will help us determine whether our initial hypothesis regarding education and income holds true in this dataset."
   ]
  },
  {
   "cell_type": "markdown",
   "id": "ef063860",
   "metadata": {
    "id": "ef063860"
   },
   "source": [
    "## Exploratory Data Analysis (EDA):"
   ]
  },
  {
   "cell_type": "markdown",
   "id": "490eb17b",
   "metadata": {
    "id": "490eb17b"
   },
   "source": [
    "### Understanding the datasets"
   ]
  },
  {
   "cell_type": "markdown",
   "id": "96975d37",
   "metadata": {
    "id": "96975d37"
   },
   "source": [
    "An in-depth exploration of the datasets is presented to gain insights into the available variables,their distributions and relationships. This step will provide an initial undertanding of the datasets to identify any data quality issues that will inform the cleaning and pre-processing."
   ]
  },
  {
   "cell_type": "markdown",
   "id": "5a6dd076",
   "metadata": {
    "id": "5a6dd076"
   },
   "source": [
    "#### i. Column Information of The Datasets"
   ]
  },
  {
   "cell_type": "code",
   "execution_count": 6,
   "id": "40522943",
   "metadata": {
    "colab": {
     "base_uri": "https://localhost:8080/"
    },
    "id": "40522943",
    "outputId": "0da8dc72-e4b9-4751-d703-29765782f5f0"
   },
   "outputs": [
    {
     "name": "stdout",
     "output_type": "stream",
     "text": [
      "<class 'pandas.core.frame.DataFrame'>\n",
      "RangeIndex: 209499 entries, 0 to 209498\n",
      "Data columns (total 43 columns):\n",
      " #   Column                          Non-Null Count   Dtype  \n",
      "---  ------                          --------------   -----  \n",
      " 0   ID                              209499 non-null  object \n",
      " 1   age                             209499 non-null  int64  \n",
      " 2   gender                          209499 non-null  object \n",
      " 3   education                       209499 non-null  object \n",
      " 4   class                           104254 non-null  object \n",
      " 5   education_institute             13302 non-null   object \n",
      " 6   marital_status                  209499 non-null  object \n",
      " 7   race                            209499 non-null  object \n",
      " 8   is_hispanic                     209499 non-null  object \n",
      " 9   employment_commitment           209499 non-null  object \n",
      " 10  unemployment_reason             6520 non-null    object \n",
      " 11  employment_stat                 209499 non-null  int64  \n",
      " 12  wage_per_hour                   209499 non-null  int64  \n",
      " 13  is_labor_union                  20079 non-null   object \n",
      " 14  working_week_per_year           209499 non-null  int64  \n",
      " 15  industry_code                   209499 non-null  int64  \n",
      " 16  industry_code_main              209499 non-null  object \n",
      " 17  occupation_code                 209499 non-null  int64  \n",
      " 18  occupation_code_main            103805 non-null  object \n",
      " 19  total_employed                  209499 non-null  int64  \n",
      " 20  household_stat                  209499 non-null  object \n",
      " 21  household_summary               209499 non-null  object \n",
      " 22  under_18_family                 57845 non-null   object \n",
      " 23  veterans_admin_questionnaire    2084 non-null    object \n",
      " 24  vet_benefit                     209499 non-null  int64  \n",
      " 25  tax_status                      209499 non-null  object \n",
      " 26  gains                           209499 non-null  int64  \n",
      " 27  losses                          209499 non-null  int64  \n",
      " 28  stocks_status                   209499 non-null  int64  \n",
      " 29  citizenship                     209499 non-null  object \n",
      " 30  mig_year                        209499 non-null  int64  \n",
      " 31  country_of_birth_own            209499 non-null  object \n",
      " 32  country_of_birth_father         209499 non-null  object \n",
      " 33  country_of_birth_mother         209499 non-null  object \n",
      " 34  migration_code_change_in_msa    207911 non-null  object \n",
      " 35  migration_prev_sunbelt          121047 non-null  object \n",
      " 36  migration_code_move_within_reg  207911 non-null  object \n",
      " 37  migration_code_change_in_reg    207911 non-null  object \n",
      " 38  residence_1_year_ago            103215 non-null  object \n",
      " 39  old_residence_reg               16351 non-null   object \n",
      " 40  old_residence_state             16351 non-null   object \n",
      " 41  importance_of_record            209499 non-null  float64\n",
      " 42  income_above_limit              209499 non-null  object \n",
      "dtypes: float64(1), int64(12), object(30)\n",
      "memory usage: 68.7+ MB\n"
     ]
    }
   ],
   "source": [
    "# Column information of the train dataset\n",
    "train_df.info()"
   ]
  },
  {
   "cell_type": "markdown",
   "id": "68a31ed0",
   "metadata": {
    "id": "68a31ed0"
   },
   "source": [
    "- The **train dataset** contains **209,499 rows** and **43 columns**.\n",
    "\n",
    "- The columns include various demographic and socioeconomic features, as well as the target variable \"income_above_limit,\" which indicates whether the individual's income is above or below the income threshold ($50,000)\n",
    "\n",
    "\n",
    "- Many columns contain missing values. For example, 'class,' 'education_institute,' 'unemployment_reason,' 'is_labor_union,' 'under_18_family,' 'veterans_admin_questionnaire,' 'old_residence_reg,' 'old_residence_state,' 'migration_code_change_in_msa,' 'migration_prev_sunbelt,' 'migration_code_move_within_reg,' and 'migration_code_change_in_reg' have significant missing values."
   ]
  },
  {
   "cell_type": "code",
   "execution_count": 7,
   "id": "9e19b7e5",
   "metadata": {
    "colab": {
     "base_uri": "https://localhost:8080/"
    },
    "id": "9e19b7e5",
    "outputId": "d6588767-df63-4d03-e7ec-9ab71213279e"
   },
   "outputs": [
    {
     "name": "stdout",
     "output_type": "stream",
     "text": [
      "<class 'pandas.core.frame.DataFrame'>\n",
      "RangeIndex: 89786 entries, 0 to 89785\n",
      "Data columns (total 42 columns):\n",
      " #   Column                          Non-Null Count  Dtype  \n",
      "---  ------                          --------------  -----  \n",
      " 0   ID                              89786 non-null  object \n",
      " 1   age                             89786 non-null  int64  \n",
      " 2   gender                          89786 non-null  object \n",
      " 3   education                       89786 non-null  object \n",
      " 4   class                           44707 non-null  object \n",
      " 5   education_institute             5616 non-null   object \n",
      " 6   marital_status                  89786 non-null  object \n",
      " 7   race                            89786 non-null  object \n",
      " 8   is_hispanic                     89786 non-null  object \n",
      " 9   employment_commitment           89786 non-null  object \n",
      " 10  unemployment_reason             2680 non-null   object \n",
      " 11  employment_stat                 89786 non-null  int64  \n",
      " 12  wage_per_hour                   89786 non-null  int64  \n",
      " 13  is_labor_union                  8464 non-null   object \n",
      " 14  working_week_per_year           89786 non-null  int64  \n",
      " 15  industry_code                   89786 non-null  int64  \n",
      " 16  industry_code_main              89786 non-null  object \n",
      " 17  occupation_code                 89786 non-null  int64  \n",
      " 18  occupation_code_main            44513 non-null  object \n",
      " 19  total_employed                  89786 non-null  int64  \n",
      " 20  household_stat                  89786 non-null  object \n",
      " 21  household_summary               89786 non-null  object \n",
      " 22  under_18_family                 24814 non-null  object \n",
      " 23  veterans_admin_questionnaire    927 non-null    object \n",
      " 24  vet_benefit                     89786 non-null  int64  \n",
      " 25  tax_status                      89786 non-null  object \n",
      " 26  gains                           89786 non-null  int64  \n",
      " 27  losses                          89786 non-null  int64  \n",
      " 28  stocks_status                   89786 non-null  int64  \n",
      " 29  citizenship                     89786 non-null  object \n",
      " 30  mig_year                        89786 non-null  int64  \n",
      " 31  country_of_birth_own            89786 non-null  object \n",
      " 32  country_of_birth_father         89786 non-null  object \n",
      " 33  country_of_birth_mother         89786 non-null  object \n",
      " 34  migration_code_change_in_msa    89135 non-null  object \n",
      " 35  migration_prev_sunbelt          52062 non-null  object \n",
      " 36  migration_code_move_within_reg  89135 non-null  object \n",
      " 37  migration_code_change_in_reg    89135 non-null  object \n",
      " 38  residence_1_year_ago            44189 non-null  object \n",
      " 39  old_residence_reg               7116 non-null   object \n",
      " 40  old_residence_state             7116 non-null   object \n",
      " 41  importance_of_record            89786 non-null  float64\n",
      "dtypes: float64(1), int64(12), object(29)\n",
      "memory usage: 28.8+ MB\n"
     ]
    }
   ],
   "source": [
    "# Column information of the test dataset\n",
    "test_df.info()"
   ]
  },
  {
   "cell_type": "markdown",
   "id": "f798bc82",
   "metadata": {
    "id": "f798bc82"
   },
   "source": [
    "The test dataset has 89786 data entries and 42 columns."
   ]
  },
  {
   "cell_type": "markdown",
   "id": "d9fc29fc",
   "metadata": {
    "id": "d9fc29fc"
   },
   "source": [
    "#### ii. Shape of The Datasets"
   ]
  },
  {
   "cell_type": "code",
   "execution_count": 8,
   "id": "eef28115",
   "metadata": {
    "colab": {
     "base_uri": "https://localhost:8080/"
    },
    "id": "eef28115",
    "outputId": "e8e9ea46-384b-487a-cc4a-1af8cbcacb8a"
   },
   "outputs": [
    {
     "data": {
      "text/plain": [
       "(209499, 43)"
      ]
     },
     "execution_count": 8,
     "metadata": {},
     "output_type": "execute_result"
    }
   ],
   "source": [
    "# The shape of the train dataset\n",
    "train_df.shape"
   ]
  },
  {
   "cell_type": "code",
   "execution_count": 9,
   "id": "5c8bed06",
   "metadata": {
    "colab": {
     "base_uri": "https://localhost:8080/"
    },
    "id": "5c8bed06",
    "outputId": "ffa89a2d-47ad-4c71-e36b-9afac72584a0"
   },
   "outputs": [
    {
     "data": {
      "text/plain": [
       "(89786, 42)"
      ]
     },
     "execution_count": 9,
     "metadata": {},
     "output_type": "execute_result"
    }
   ],
   "source": [
    "# The shape of the test dataset\n",
    "test_df.shape"
   ]
  },
  {
   "cell_type": "markdown",
   "id": "590c6563",
   "metadata": {
    "id": "590c6563"
   },
   "source": [
    "#### iii. Summary Statistics Datasets"
   ]
  },
  {
   "cell_type": "code",
   "execution_count": 10,
   "id": "af2c0e15",
   "metadata": {
    "colab": {
     "base_uri": "https://localhost:8080/",
     "height": 320
    },
    "id": "af2c0e15",
    "outputId": "89f49d6a-8b8e-4d7b-88c7-f08b48640283"
   },
   "outputs": [
    {
     "data": {
      "text/html": [
       "<div>\n",
       "<style scoped>\n",
       "    .dataframe tbody tr th:only-of-type {\n",
       "        vertical-align: middle;\n",
       "    }\n",
       "\n",
       "    .dataframe tbody tr th {\n",
       "        vertical-align: top;\n",
       "    }\n",
       "\n",
       "    .dataframe thead th {\n",
       "        text-align: right;\n",
       "    }\n",
       "</style>\n",
       "<table border=\"1\" class=\"dataframe\">\n",
       "  <thead>\n",
       "    <tr style=\"text-align: right;\">\n",
       "      <th></th>\n",
       "      <th>age</th>\n",
       "      <th>employment_stat</th>\n",
       "      <th>wage_per_hour</th>\n",
       "      <th>working_week_per_year</th>\n",
       "      <th>industry_code</th>\n",
       "      <th>occupation_code</th>\n",
       "      <th>total_employed</th>\n",
       "      <th>vet_benefit</th>\n",
       "      <th>gains</th>\n",
       "      <th>losses</th>\n",
       "      <th>stocks_status</th>\n",
       "      <th>mig_year</th>\n",
       "      <th>importance_of_record</th>\n",
       "    </tr>\n",
       "  </thead>\n",
       "  <tbody>\n",
       "    <tr>\n",
       "      <th>count</th>\n",
       "      <td>209499.000</td>\n",
       "      <td>209499.000</td>\n",
       "      <td>209499.000</td>\n",
       "      <td>209499.000</td>\n",
       "      <td>209499.000</td>\n",
       "      <td>209499.000</td>\n",
       "      <td>209499.000</td>\n",
       "      <td>209499.000</td>\n",
       "      <td>209499.000</td>\n",
       "      <td>209499.000</td>\n",
       "      <td>209499.000</td>\n",
       "      <td>209499.0</td>\n",
       "      <td>209499.000</td>\n",
       "    </tr>\n",
       "    <tr>\n",
       "      <th>mean</th>\n",
       "      <td>34.519</td>\n",
       "      <td>0.177</td>\n",
       "      <td>55.433</td>\n",
       "      <td>23.159</td>\n",
       "      <td>15.332</td>\n",
       "      <td>11.322</td>\n",
       "      <td>1.956</td>\n",
       "      <td>1.516</td>\n",
       "      <td>435.927</td>\n",
       "      <td>36.882</td>\n",
       "      <td>194.533</td>\n",
       "      <td>94.5</td>\n",
       "      <td>1740.888</td>\n",
       "    </tr>\n",
       "    <tr>\n",
       "      <th>std</th>\n",
       "      <td>22.307</td>\n",
       "      <td>0.556</td>\n",
       "      <td>276.757</td>\n",
       "      <td>24.398</td>\n",
       "      <td>18.050</td>\n",
       "      <td>14.461</td>\n",
       "      <td>2.365</td>\n",
       "      <td>0.851</td>\n",
       "      <td>4696.360</td>\n",
       "      <td>270.383</td>\n",
       "      <td>1956.376</td>\n",
       "      <td>0.5</td>\n",
       "      <td>995.560</td>\n",
       "    </tr>\n",
       "    <tr>\n",
       "      <th>min</th>\n",
       "      <td>0.000</td>\n",
       "      <td>0.000</td>\n",
       "      <td>0.000</td>\n",
       "      <td>0.000</td>\n",
       "      <td>0.000</td>\n",
       "      <td>0.000</td>\n",
       "      <td>0.000</td>\n",
       "      <td>0.000</td>\n",
       "      <td>0.000</td>\n",
       "      <td>0.000</td>\n",
       "      <td>0.000</td>\n",
       "      <td>94.0</td>\n",
       "      <td>37.870</td>\n",
       "    </tr>\n",
       "    <tr>\n",
       "      <th>25%</th>\n",
       "      <td>15.000</td>\n",
       "      <td>0.000</td>\n",
       "      <td>0.000</td>\n",
       "      <td>0.000</td>\n",
       "      <td>0.000</td>\n",
       "      <td>0.000</td>\n",
       "      <td>0.000</td>\n",
       "      <td>2.000</td>\n",
       "      <td>0.000</td>\n",
       "      <td>0.000</td>\n",
       "      <td>0.000</td>\n",
       "      <td>94.0</td>\n",
       "      <td>1061.290</td>\n",
       "    </tr>\n",
       "    <tr>\n",
       "      <th>50%</th>\n",
       "      <td>33.000</td>\n",
       "      <td>0.000</td>\n",
       "      <td>0.000</td>\n",
       "      <td>8.000</td>\n",
       "      <td>0.000</td>\n",
       "      <td>0.000</td>\n",
       "      <td>1.000</td>\n",
       "      <td>2.000</td>\n",
       "      <td>0.000</td>\n",
       "      <td>0.000</td>\n",
       "      <td>0.000</td>\n",
       "      <td>94.0</td>\n",
       "      <td>1617.040</td>\n",
       "    </tr>\n",
       "    <tr>\n",
       "      <th>75%</th>\n",
       "      <td>50.000</td>\n",
       "      <td>0.000</td>\n",
       "      <td>0.000</td>\n",
       "      <td>52.000</td>\n",
       "      <td>33.000</td>\n",
       "      <td>26.000</td>\n",
       "      <td>4.000</td>\n",
       "      <td>2.000</td>\n",
       "      <td>0.000</td>\n",
       "      <td>0.000</td>\n",
       "      <td>0.000</td>\n",
       "      <td>95.0</td>\n",
       "      <td>2185.480</td>\n",
       "    </tr>\n",
       "    <tr>\n",
       "      <th>max</th>\n",
       "      <td>90.000</td>\n",
       "      <td>2.000</td>\n",
       "      <td>9999.000</td>\n",
       "      <td>52.000</td>\n",
       "      <td>51.000</td>\n",
       "      <td>46.000</td>\n",
       "      <td>6.000</td>\n",
       "      <td>2.000</td>\n",
       "      <td>99999.000</td>\n",
       "      <td>4608.000</td>\n",
       "      <td>99999.000</td>\n",
       "      <td>95.0</td>\n",
       "      <td>18656.300</td>\n",
       "    </tr>\n",
       "  </tbody>\n",
       "</table>\n",
       "</div>"
      ],
      "text/plain": [
       "              age  employment_stat  wage_per_hour  working_week_per_year  \\\n",
       "count  209499.000       209499.000     209499.000             209499.000   \n",
       "mean       34.519            0.177         55.433                 23.159   \n",
       "std        22.307            0.556        276.757                 24.398   \n",
       "min         0.000            0.000          0.000                  0.000   \n",
       "25%        15.000            0.000          0.000                  0.000   \n",
       "50%        33.000            0.000          0.000                  8.000   \n",
       "75%        50.000            0.000          0.000                 52.000   \n",
       "max        90.000            2.000       9999.000                 52.000   \n",
       "\n",
       "       industry_code  occupation_code  total_employed  vet_benefit  \\\n",
       "count     209499.000       209499.000      209499.000   209499.000   \n",
       "mean          15.332           11.322           1.956        1.516   \n",
       "std           18.050           14.461           2.365        0.851   \n",
       "min            0.000            0.000           0.000        0.000   \n",
       "25%            0.000            0.000           0.000        2.000   \n",
       "50%            0.000            0.000           1.000        2.000   \n",
       "75%           33.000           26.000           4.000        2.000   \n",
       "max           51.000           46.000           6.000        2.000   \n",
       "\n",
       "            gains      losses  stocks_status  mig_year  importance_of_record  \n",
       "count  209499.000  209499.000     209499.000  209499.0            209499.000  \n",
       "mean      435.927      36.882        194.533      94.5              1740.888  \n",
       "std      4696.360     270.383       1956.376       0.5               995.560  \n",
       "min         0.000       0.000          0.000      94.0                37.870  \n",
       "25%         0.000       0.000          0.000      94.0              1061.290  \n",
       "50%         0.000       0.000          0.000      94.0              1617.040  \n",
       "75%         0.000       0.000          0.000      95.0              2185.480  \n",
       "max     99999.000    4608.000      99999.000      95.0             18656.300  "
      ]
     },
     "execution_count": 10,
     "metadata": {},
     "output_type": "execute_result"
    }
   ],
   "source": [
    "# Summary Statistics of The Train Dataset\n",
    "train_df.describe().round(3)"
   ]
  },
  {
   "cell_type": "code",
   "execution_count": 11,
   "id": "26aa295b",
   "metadata": {
    "colab": {
     "base_uri": "https://localhost:8080/",
     "height": 320
    },
    "id": "26aa295b",
    "outputId": "8abef0d6-3d87-425d-b21c-0765784033ed"
   },
   "outputs": [
    {
     "data": {
      "text/html": [
       "<div>\n",
       "<style scoped>\n",
       "    .dataframe tbody tr th:only-of-type {\n",
       "        vertical-align: middle;\n",
       "    }\n",
       "\n",
       "    .dataframe tbody tr th {\n",
       "        vertical-align: top;\n",
       "    }\n",
       "\n",
       "    .dataframe thead th {\n",
       "        text-align: right;\n",
       "    }\n",
       "</style>\n",
       "<table border=\"1\" class=\"dataframe\">\n",
       "  <thead>\n",
       "    <tr style=\"text-align: right;\">\n",
       "      <th></th>\n",
       "      <th>age</th>\n",
       "      <th>employment_stat</th>\n",
       "      <th>wage_per_hour</th>\n",
       "      <th>working_week_per_year</th>\n",
       "      <th>industry_code</th>\n",
       "      <th>occupation_code</th>\n",
       "      <th>total_employed</th>\n",
       "      <th>vet_benefit</th>\n",
       "      <th>gains</th>\n",
       "      <th>losses</th>\n",
       "      <th>stocks_status</th>\n",
       "      <th>mig_year</th>\n",
       "      <th>importance_of_record</th>\n",
       "    </tr>\n",
       "  </thead>\n",
       "  <tbody>\n",
       "    <tr>\n",
       "      <th>count</th>\n",
       "      <td>89786.000</td>\n",
       "      <td>89786.000</td>\n",
       "      <td>89786.000</td>\n",
       "      <td>89786.000</td>\n",
       "      <td>89786.000</td>\n",
       "      <td>89786.000</td>\n",
       "      <td>89786.000</td>\n",
       "      <td>89786.000</td>\n",
       "      <td>89786.000</td>\n",
       "      <td>89786.000</td>\n",
       "      <td>89786.000</td>\n",
       "      <td>89786.000</td>\n",
       "      <td>89786.000</td>\n",
       "    </tr>\n",
       "    <tr>\n",
       "      <th>mean</th>\n",
       "      <td>34.586</td>\n",
       "      <td>0.176</td>\n",
       "      <td>54.339</td>\n",
       "      <td>23.224</td>\n",
       "      <td>15.377</td>\n",
       "      <td>11.298</td>\n",
       "      <td>1.956</td>\n",
       "      <td>1.518</td>\n",
       "      <td>421.978</td>\n",
       "      <td>36.773</td>\n",
       "      <td>198.926</td>\n",
       "      <td>94.501</td>\n",
       "      <td>1738.264</td>\n",
       "    </tr>\n",
       "    <tr>\n",
       "      <th>std</th>\n",
       "      <td>22.346</td>\n",
       "      <td>0.554</td>\n",
       "      <td>265.198</td>\n",
       "      <td>24.418</td>\n",
       "      <td>18.063</td>\n",
       "      <td>14.445</td>\n",
       "      <td>2.364</td>\n",
       "      <td>0.849</td>\n",
       "      <td>4610.516</td>\n",
       "      <td>268.401</td>\n",
       "      <td>1893.917</td>\n",
       "      <td>0.500</td>\n",
       "      <td>990.837</td>\n",
       "    </tr>\n",
       "    <tr>\n",
       "      <th>min</th>\n",
       "      <td>0.000</td>\n",
       "      <td>0.000</td>\n",
       "      <td>0.000</td>\n",
       "      <td>0.000</td>\n",
       "      <td>0.000</td>\n",
       "      <td>0.000</td>\n",
       "      <td>0.000</td>\n",
       "      <td>0.000</td>\n",
       "      <td>0.000</td>\n",
       "      <td>0.000</td>\n",
       "      <td>0.000</td>\n",
       "      <td>94.000</td>\n",
       "      <td>42.820</td>\n",
       "    </tr>\n",
       "    <tr>\n",
       "      <th>25%</th>\n",
       "      <td>15.000</td>\n",
       "      <td>0.000</td>\n",
       "      <td>0.000</td>\n",
       "      <td>0.000</td>\n",
       "      <td>0.000</td>\n",
       "      <td>0.000</td>\n",
       "      <td>0.000</td>\n",
       "      <td>2.000</td>\n",
       "      <td>0.000</td>\n",
       "      <td>0.000</td>\n",
       "      <td>0.000</td>\n",
       "      <td>94.000</td>\n",
       "      <td>1059.115</td>\n",
       "    </tr>\n",
       "    <tr>\n",
       "      <th>50%</th>\n",
       "      <td>33.000</td>\n",
       "      <td>0.000</td>\n",
       "      <td>0.000</td>\n",
       "      <td>8.000</td>\n",
       "      <td>0.000</td>\n",
       "      <td>0.000</td>\n",
       "      <td>1.000</td>\n",
       "      <td>2.000</td>\n",
       "      <td>0.000</td>\n",
       "      <td>0.000</td>\n",
       "      <td>0.000</td>\n",
       "      <td>95.000</td>\n",
       "      <td>1617.345</td>\n",
       "    </tr>\n",
       "    <tr>\n",
       "      <th>75%</th>\n",
       "      <td>50.000</td>\n",
       "      <td>0.000</td>\n",
       "      <td>0.000</td>\n",
       "      <td>52.000</td>\n",
       "      <td>33.000</td>\n",
       "      <td>26.000</td>\n",
       "      <td>4.000</td>\n",
       "      <td>2.000</td>\n",
       "      <td>0.000</td>\n",
       "      <td>0.000</td>\n",
       "      <td>0.000</td>\n",
       "      <td>95.000</td>\n",
       "      <td>2193.735</td>\n",
       "    </tr>\n",
       "    <tr>\n",
       "      <th>max</th>\n",
       "      <td>90.000</td>\n",
       "      <td>2.000</td>\n",
       "      <td>9400.000</td>\n",
       "      <td>52.000</td>\n",
       "      <td>51.000</td>\n",
       "      <td>46.000</td>\n",
       "      <td>6.000</td>\n",
       "      <td>2.000</td>\n",
       "      <td>99999.000</td>\n",
       "      <td>4608.000</td>\n",
       "      <td>99999.000</td>\n",
       "      <td>95.000</td>\n",
       "      <td>12960.200</td>\n",
       "    </tr>\n",
       "  </tbody>\n",
       "</table>\n",
       "</div>"
      ],
      "text/plain": [
       "             age  employment_stat  wage_per_hour  working_week_per_year  \\\n",
       "count  89786.000        89786.000      89786.000              89786.000   \n",
       "mean      34.586            0.176         54.339                 23.224   \n",
       "std       22.346            0.554        265.198                 24.418   \n",
       "min        0.000            0.000          0.000                  0.000   \n",
       "25%       15.000            0.000          0.000                  0.000   \n",
       "50%       33.000            0.000          0.000                  8.000   \n",
       "75%       50.000            0.000          0.000                 52.000   \n",
       "max       90.000            2.000       9400.000                 52.000   \n",
       "\n",
       "       industry_code  occupation_code  total_employed  vet_benefit      gains  \\\n",
       "count      89786.000        89786.000       89786.000    89786.000  89786.000   \n",
       "mean          15.377           11.298           1.956        1.518    421.978   \n",
       "std           18.063           14.445           2.364        0.849   4610.516   \n",
       "min            0.000            0.000           0.000        0.000      0.000   \n",
       "25%            0.000            0.000           0.000        2.000      0.000   \n",
       "50%            0.000            0.000           1.000        2.000      0.000   \n",
       "75%           33.000           26.000           4.000        2.000      0.000   \n",
       "max           51.000           46.000           6.000        2.000  99999.000   \n",
       "\n",
       "          losses  stocks_status   mig_year  importance_of_record  \n",
       "count  89786.000      89786.000  89786.000             89786.000  \n",
       "mean      36.773        198.926     94.501              1738.264  \n",
       "std      268.401       1893.917      0.500               990.837  \n",
       "min        0.000          0.000     94.000                42.820  \n",
       "25%        0.000          0.000     94.000              1059.115  \n",
       "50%        0.000          0.000     95.000              1617.345  \n",
       "75%        0.000          0.000     95.000              2193.735  \n",
       "max     4608.000      99999.000     95.000             12960.200  "
      ]
     },
     "execution_count": 11,
     "metadata": {},
     "output_type": "execute_result"
    }
   ],
   "source": [
    "# Summary Statistics of The Test Dataset\n",
    "test_df.describe().round(3)"
   ]
  },
  {
   "cell_type": "markdown",
   "id": "3652db63",
   "metadata": {
    "id": "3652db63"
   },
   "source": [
    "#### iv. Checking for Missing Values in The Datasets"
   ]
  },
  {
   "cell_type": "code",
   "execution_count": 12,
   "id": "8d954231",
   "metadata": {
    "colab": {
     "base_uri": "https://localhost:8080/",
     "height": 1000
    },
    "id": "8d954231",
    "outputId": "1ba5384c-3dc8-40b3-e289-7898d106ba45",
    "scrolled": false
   },
   "outputs": [
    {
     "name": "stdout",
     "output_type": "stream",
     "text": [
      "Missing values in the Train dataset:\n",
      "************************************\n",
      "                        Column  Missing Values  Missing Values Percentage (%)\n",
      "  veterans_admin_questionnaire          207415                          99.01\n",
      "           unemployment_reason          202979                          96.89\n",
      "           education_institute          196197                          93.65\n",
      "             old_residence_reg          193148                          92.20\n",
      "           old_residence_state          193148                          92.20\n",
      "                is_labor_union          189420                          90.42\n",
      "               under_18_family          151654                          72.39\n",
      "          residence_1_year_ago          106284                          50.73\n",
      "          occupation_code_main          105694                          50.45\n",
      "                         class          105245                          50.24\n",
      "        migration_prev_sunbelt           88452                          42.22\n",
      "  migration_code_change_in_msa            1588                           0.76\n",
      "migration_code_move_within_reg            1588                           0.76\n",
      "  migration_code_change_in_reg            1588                           0.76\n",
      "==============================================================================\n",
      "\n"
     ]
    },
    {
     "data": {
      "image/png": "[encoded data removed]",
      "text/plain": [
       "<Figure size 1200x800 with 1 Axes>"
      ]
     },
     "metadata": {},
     "output_type": "display_data"
    },
    {
     "name": "stdout",
     "output_type": "stream",
     "text": [
      "Missing values in the Test dataset:\n",
      "***********************************\n",
      "                        Column  Missing Values  Missing Values Percentage (%)\n",
      "  veterans_admin_questionnaire           88859                          98.97\n",
      "           unemployment_reason           87106                          97.02\n",
      "           education_institute           84170                          93.75\n",
      "             old_residence_reg           82670                          92.07\n",
      "           old_residence_state           82670                          92.07\n",
      "                is_labor_union           81322                          90.57\n",
      "               under_18_family           64972                          72.36\n",
      "          residence_1_year_ago           45597                          50.78\n",
      "          occupation_code_main           45273                          50.42\n",
      "                         class           45079                          50.21\n",
      "        migration_prev_sunbelt           37724                          42.02\n",
      "  migration_code_change_in_msa             651                           0.73\n",
      "migration_code_move_within_reg             651                           0.73\n",
      "  migration_code_change_in_reg             651                           0.73\n",
      "==============================================================================\n",
      "\n"
     ]
    },
    {
     "data": {
      "image/png": "[encoded data removed]",
      "text/plain": [
       "<Figure size 1200x800 with 1 Axes>"
      ]
     },
     "metadata": {},
     "output_type": "display_data"
    }
   ],
   "source": [
    "# Define The datasets\n",
    "datasets = {'train': train_df, 'test': test_df}\n",
    "\n",
    "# Define a function to print the missing values in the datasets\n",
    "def show_missing_values(datasets):\n",
    "    for name, data in datasets.items():\n",
    "        title = f\"Missing values in the {name.capitalize()} dataset:\"\n",
    "\n",
    "        # Create an underline of asterisks\n",
    "        underline = '*' * len(title)\n",
    "        print(title)\n",
    "        print(underline)\n",
    "\n",
    "        # Calculate the sum of missing values for each column\n",
    "        missing_values = data.isnull().sum()\n",
    "\n",
    "        # Exclude columns with 0 as missing values\n",
    "        missing_values = missing_values[missing_values > 0]\n",
    "\n",
    "        # Check if there are any columns with missing values\n",
    "        if not missing_values.empty:\n",
    "\n",
    "            # Calculate the percentage of missing values\n",
    "            missing_percentages = ((missing_values / len(data)) * 100).round(2)\n",
    "\n",
    "            # Create a DataFrame with columns sorted by missing values percentage (highest to lowest)\n",
    "            missing_info = pd.DataFrame({\n",
    "                'Column': missing_values.index,\n",
    "                'Missing Values': missing_values,\n",
    "                'Missing Values Percentage (%)': missing_percentages\n",
    "            })\n",
    "\n",
    "            # Sort the DataFrame by missing values percentage in descending order\n",
    "            missing_info = missing_info.sort_values(by='Missing Values Percentage (%)', ascending=False)\n",
    "\n",
    "            # Use to_string to remove index column\n",
    "            print(missing_info.to_string(index=False))\n",
    "            print('===' * 26)\n",
    "        else:\n",
    "            # If no missing values found, indicate that\n",
    "            print(\"No missing values found.\")\n",
    "        print()\n",
    "        # Set the plot size\n",
    "        plt.figure(figsize=(12, 8))\n",
    "\n",
    "        # Create a horizontal bar graph with the Viridis palette\n",
    "        ax = sns.barplot(x=\"Missing Values Percentage (%)\", y=\"Column\", data=missing_info, palette=\"viridis\")\n",
    "\n",
    "        # Set the axis labels and title\n",
    "        ax.set(xlabel=\"Missing Values Percentage (%)\", ylabel=\"Column\", title=f\"Missing Values in the {name.capitalize()} Dataset\")\n",
    "\n",
    "        # Display the plot\n",
    "        plt.show()\n",
    "\n",
    "# Call the function to show missing values in the datasets\n",
    "show_missing_values(datasets)"
   ]
  },
  {
   "cell_type": "markdown",
   "id": "3a8ee5cb",
   "metadata": {
    "id": "3a8ee5cb"
   },
   "source": [
    "Some columns such as veterans_admin_questionnaire, unemployment_reason, education_institute, old_residence_reg, old_residence_state, is_labor_union, and under_18_family have more than 70% of missing values. These need to be handled."
   ]
  },
  {
   "cell_type": "code",
   "execution_count": 13,
   "id": "1133cab1",
   "metadata": {
    "colab": {
     "base_uri": "https://localhost:8080/"
    },
    "id": "1133cab1",
    "outputId": "6311af1e-564b-4170-8cca-17a5df35b704",
    "scrolled": false
   },
   "outputs": [
    {
     "name": "stdout",
     "output_type": "stream",
     "text": [
      "Unique values and missing value percentages in the 'train' dataset:\n",
      "Column: class\n",
      "*************\n",
      "Unique Values: [nan ' Federal government' ' Private' ' Local government'\n",
      " ' Self-employed-incorporated' ' Self-employed-not incorporated'\n",
      " ' State government' ' Without pay' ' Never worked']\n",
      "Missing Values Percentage: 50.24%\n",
      "==============================================================================\n",
      "\n",
      "Column: education_institute\n",
      "***************************\n",
      "Unique Values: [nan ' High school' ' College or university']\n",
      "Missing Values Percentage: 93.65%\n",
      "==============================================================================\n",
      "\n",
      "Column: unemployment_reason\n",
      "***************************\n",
      "Unique Values: [nan ' Other job loser' ' Re-entrant' ' Job leaver'\n",
      " ' Job loser - on layoff' ' New entrant']\n",
      "Missing Values Percentage: 96.89%\n",
      "==============================================================================\n",
      "\n",
      "Column: is_labor_union\n",
      "**********************\n",
      "Unique Values: [nan ' No' 'Same']\n",
      "Missing Values Percentage: 90.42%\n",
      "==============================================================================\n",
      "\n",
      "Column: occupation_code_main\n",
      "****************************\n",
      "Unique Values: [nan ' Adm support including clerical' ' Other service'\n",
      " ' Executive admin and managerial' ' Sales'\n",
      " ' Machine operators assmblrs & inspctrs'\n",
      " ' Precision production craft & repair' ' Professional specialty'\n",
      " ' Handlers equip cleaners etc ' ' Transportation and material moving'\n",
      " ' Farming forestry and fishing' ' Private household services'\n",
      " ' Technicians and related support' ' Protective services' ' Armed Forces']\n",
      "Missing Values Percentage: 50.45%\n",
      "==============================================================================\n",
      "\n",
      "Column: under_18_family\n",
      "***********************\n",
      "Unique Values: [nan ' Both parents present' ' Mother only present' ' Father only present'\n",
      " ' Neither parent present']\n",
      "Missing Values Percentage: 72.39%\n",
      "==============================================================================\n",
      "\n",
      "Column: veterans_admin_questionnaire\n",
      "************************************\n",
      "Unique Values: [nan ' No' 'Same']\n",
      "Missing Values Percentage: 99.01%\n",
      "==============================================================================\n",
      "\n",
      "Column: migration_code_change_in_msa\n",
      "************************************\n",
      "Unique Values: [' ?' 'unchanged' ' MSA to MSA' nan ' NonMSA to nonMSA' ' MSA to nonMSA'\n",
      " ' Not identifiable' ' NonMSA to MSA' ' Abroad to MSA' ' Abroad to nonMSA']\n",
      "Missing Values Percentage: 0.76%\n",
      "==============================================================================\n",
      "\n",
      "Column: migration_prev_sunbelt\n",
      "******************************\n",
      "Unique Values: [' ?' nan ' No' 'Same']\n",
      "Missing Values Percentage: 42.22%\n",
      "==============================================================================\n",
      "\n",
      "Column: migration_code_move_within_reg\n",
      "**************************************\n",
      "Unique Values: [' ?' 'unchanged' ' Same county' ' Different state in South'\n",
      " ' Different county same state' nan ' Different state in West'\n",
      " ' Different state in Northeast' ' Abroad' ' Different state in Midwest']\n",
      "Missing Values Percentage: 0.76%\n",
      "==============================================================================\n",
      "\n",
      "Column: migration_code_change_in_reg\n",
      "************************************\n",
      "Unique Values: [' ?' 'unchanged' ' Same county' ' Different state same division'\n",
      " ' Different county same state' nan ' Different region' ' Abroad'\n",
      " ' Different division same region']\n",
      "Missing Values Percentage: 0.76%\n",
      "==============================================================================\n",
      "\n",
      "Column: residence_1_year_ago\n",
      "****************************\n",
      "Unique Values: [nan 'Same' ' No']\n",
      "Missing Values Percentage: 50.73%\n",
      "==============================================================================\n",
      "\n",
      "Column: old_residence_reg\n",
      "*************************\n",
      "Unique Values: [nan ' South' ' Northeast' ' West' ' Midwest' ' Abroad']\n",
      "Missing Values Percentage: 92.20%\n",
      "==============================================================================\n",
      "\n",
      "Column: old_residence_state\n",
      "***************************\n",
      "Unique Values: [nan ' District of Columbia' ' Michigan' ' Florida' ' Texas' ' California'\n",
      " ' North Carolina' ' Arkansas' ' Arizona' ' Ohio' ' Nebraska' ' Oregon'\n",
      " ' Utah' ' Oklahoma' ' Alaska' ' West Virginia' ' Wisconsin' ' Wyoming'\n",
      " ' South Carolina' ' Maryland' ' Nevada' ' Minnesota' ' North Dakota'\n",
      " ' Louisiana' ' Abroad' ' Kansas' ' New Jersey' ' Tennessee' ' Alabama'\n",
      " ' ?' ' Massachusetts' ' Indiana' ' Iowa' ' Vermont' ' Colorado'\n",
      " ' New Hampshire' ' New York' ' Idaho' ' Kentucky' ' Pennsylvania'\n",
      " ' New Mexico' ' Mississippi' ' Delaware' ' Illinois' ' Virginia'\n",
      " ' Montana' ' South Dakota' ' Connecticut' ' Georgia' ' Maine' ' Missouri']\n",
      "Missing Values Percentage: 92.20%\n",
      "==============================================================================\n",
      "\n"
     ]
    }
   ],
   "source": [
    "# Define a function to print unique values and missing value percentages for columns with missing values\n",
    "def print_unique_and_missing(dataset):\n",
    "    for column in dataset.columns:\n",
    "        if dataset[column].isnull().any():\n",
    "\n",
    "            # Calculate the missing values percentage\n",
    "            missing_percentage = (dataset[column].isnull().sum() / len(dataset)) * 100\n",
    "\n",
    "            # Create an underline of asterisks\n",
    "            underline = '*' * len(f\"Column: {column}\")\n",
    "            print(f\"Column: {column}\")\n",
    "            print(underline)\n",
    "\n",
    "            # Print the unique values\n",
    "            unique_values = dataset[column].unique()\n",
    "            print(f\"Unique Values: {unique_values}\")\n",
    "\n",
    "            # Print the missing values percentage\n",
    "            print(f\"Missing Values Percentage: {missing_percentage:.2f}%\")\n",
    "            print('===' * 26)\n",
    "            print()\n",
    "\n",
    "\n",
    "# Print unique values and missing value percentages for columns with missing values in the 'train' dataset\n",
    "print(\"Unique values and missing value percentages in the 'train' dataset:\")\n",
    "print_unique_and_missing(train_df)"
   ]
  },
  {
   "cell_type": "code",
   "execution_count": 14,
   "id": "ef279b43",
   "metadata": {
    "colab": {
     "base_uri": "https://localhost:8080/"
    },
    "id": "ef279b43",
    "outputId": "29bb32a5-b2f0-47a1-9afd-a02c8339b4b5",
    "scrolled": false
   },
   "outputs": [
    {
     "name": "stdout",
     "output_type": "stream",
     "text": [
      "Unique values and missing value percentages in the 'test' dataset:\n",
      "Column: class\n",
      "*************\n",
      "Unique Values: [' Private' nan ' Federal government' ' Local government'\n",
      " ' Self-employed-incorporated' ' Self-employed-not incorporated'\n",
      " ' State government' ' Never worked' ' Without pay']\n",
      "Missing Values Percentage: 50.21%\n",
      "==============================================================================\n",
      "\n",
      "Column: education_institute\n",
      "***************************\n",
      "Unique Values: [nan ' High school' ' College or university']\n",
      "Missing Values Percentage: 93.75%\n",
      "==============================================================================\n",
      "\n",
      "Column: unemployment_reason\n",
      "***************************\n",
      "Unique Values: [nan ' Re-entrant' ' Other job loser' ' New entrant'\n",
      " ' Job loser - on layoff' ' Job leaver']\n",
      "Missing Values Percentage: 97.02%\n",
      "==============================================================================\n",
      "\n",
      "Column: is_labor_union\n",
      "**********************\n",
      "Unique Values: [' No' nan 'Same']\n",
      "Missing Values Percentage: 90.57%\n",
      "==============================================================================\n",
      "\n",
      "Column: occupation_code_main\n",
      "****************************\n",
      "Unique Values: [' Transportation and material moving'\n",
      " ' Machine operators assmblrs & inspctrs' ' Professional specialty' nan\n",
      " ' Adm support including clerical' ' Precision production craft & repair'\n",
      " ' Technicians and related support' ' Executive admin and managerial'\n",
      " ' Handlers equip cleaners etc ' ' Other service' ' Sales'\n",
      " ' Protective services' ' Farming forestry and fishing'\n",
      " ' Private household services' ' Armed Forces']\n",
      "Missing Values Percentage: 50.42%\n",
      "==============================================================================\n",
      "\n",
      "Column: under_18_family\n",
      "***********************\n",
      "Unique Values: [nan ' Both parents present' ' Mother only present' ' Father only present'\n",
      " ' Neither parent present']\n",
      "Missing Values Percentage: 72.36%\n",
      "==============================================================================\n",
      "\n",
      "Column: veterans_admin_questionnaire\n",
      "************************************\n",
      "Unique Values: [nan ' No' 'Same']\n",
      "Missing Values Percentage: 98.97%\n",
      "==============================================================================\n",
      "\n",
      "Column: migration_code_change_in_msa\n",
      "************************************\n",
      "Unique Values: ['unchanged' ' ?' ' MSA to MSA' ' NonMSA to nonMSA' ' Not identifiable'\n",
      " ' Abroad to MSA' nan ' MSA to nonMSA' ' NonMSA to MSA'\n",
      " ' Abroad to nonMSA']\n",
      "Missing Values Percentage: 0.73%\n",
      "==============================================================================\n",
      "\n",
      "Column: migration_prev_sunbelt\n",
      "******************************\n",
      "Unique Values: [nan ' ?' 'Same' ' No']\n",
      "Missing Values Percentage: 42.02%\n",
      "==============================================================================\n",
      "\n",
      "Column: migration_code_move_within_reg\n",
      "**************************************\n",
      "Unique Values: ['unchanged' ' ?' ' Different county same state' ' Same county'\n",
      " ' Different state in West' ' Abroad' nan ' Different state in Midwest'\n",
      " ' Different state in South' ' Different state in Northeast']\n",
      "Missing Values Percentage: 0.73%\n",
      "==============================================================================\n",
      "\n",
      "Column: migration_code_change_in_reg\n",
      "************************************\n",
      "Unique Values: ['unchanged' ' ?' ' Different county same state' ' Same county'\n",
      " ' Different division same region' ' Abroad' nan\n",
      " ' Different state same division' ' Different region']\n",
      "Missing Values Percentage: 0.73%\n",
      "==============================================================================\n",
      "\n",
      "Column: residence_1_year_ago\n",
      "****************************\n",
      "Unique Values: ['Same' nan ' No']\n",
      "Missing Values Percentage: 50.78%\n",
      "==============================================================================\n",
      "\n",
      "Column: old_residence_reg\n",
      "*************************\n",
      "Unique Values: [nan ' West' ' South' ' Midwest' ' Abroad' ' Northeast']\n",
      "Missing Values Percentage: 92.07%\n",
      "==============================================================================\n",
      "\n",
      "Column: old_residence_state\n",
      "***************************\n",
      "Unique Values: [nan ' Arizona' ' Alabama' ' ?' ' Minnesota' ' California' ' Abroad'\n",
      " ' Indiana' ' Utah' ' Pennsylvania' ' North Dakota' ' Colorado' ' Montana'\n",
      " ' Kansas' ' Virginia' ' Massachusetts' ' Michigan' ' New Mexico'\n",
      " ' Louisiana' ' Georgia' ' Florida' ' West Virginia' ' Arkansas' ' Oregon'\n",
      " ' Tennessee' ' Oklahoma' ' South Carolina' ' North Carolina' ' Alaska'\n",
      " ' New York' ' Maryland' ' Vermont' ' Nebraska' ' Connecticut' ' Nevada'\n",
      " ' Texas' ' Wyoming' ' New Hampshire' ' Kentucky' ' Ohio' ' Mississippi'\n",
      " ' South Dakota' ' Illinois' ' Delaware' ' Maine' ' Wisconsin' ' Missouri'\n",
      " ' Idaho' ' Iowa' ' District of Columbia' ' New Jersey']\n",
      "Missing Values Percentage: 92.07%\n",
      "==============================================================================\n",
      "\n"
     ]
    }
   ],
   "source": [
    "# Print unique values and missing value percentages for columns with missing values in the 'test' dataset\n",
    "print(\"Unique values and missing value percentages in the 'test' dataset:\")\n",
    "print_unique_and_missing(test_df)"
   ]
  },
  {
   "cell_type": "markdown",
   "id": "3bd09cb0",
   "metadata": {
    "id": "3bd09cb0"
   },
   "source": [
    "###### Handling Missing Values and Leading Blank Spaces\n",
    "In this section, we address missing values in the dataset. Proper handling of missing data is crucial for robust analysis and ensures data consistency.\n",
    "\n",
    "There are several instances of '?' in different columns of the dataset. These should be replaced with NaN values since they also symbolize missing values.\n",
    "\n",
    "We observed that some columns such as the 'class' and 'occupation_code_main' columns have leading blank spaces that may impact data analysis. We must remove these spaces and replace the '?' with NaN, we use the following code:"
   ]
  },
  {
   "cell_type": "code",
   "execution_count": 15,
   "id": "afd6bb88",
   "metadata": {
    "id": "afd6bb88"
   },
   "outputs": [],
   "source": [
    "def process_dataset(dataset):\n",
    "\n",
    "    # Remove leading spaces from all columns in the dataset\n",
    "    dataset = dataset.apply(lambda x: x.str.strip() if x.dtype == \"object\" else x)\n",
    "\n",
    "    # Replace '?' with NaN for the entire DataFrame\n",
    "    dataset = dataset.replace('?', np.nan)\n",
    "\n",
    "    return dataset"
   ]
  },
  {
   "cell_type": "code",
   "execution_count": 16,
   "id": "2814f9ad",
   "metadata": {
    "id": "2814f9ad"
   },
   "outputs": [],
   "source": [
    "# Process the 'train' dataset\n",
    "train_df = process_dataset(train_df)\n",
    "\n",
    "# Process the 'test' dataset\n",
    "test_df = process_dataset(test_df)\n",
    "\n",
    "# Define a function to print unique values and missing value percentages for columns with missing values\n",
    "def print_missing_values(dataset):\n",
    "    for column in dataset.columns:\n",
    "        if dataset[column].isnull().any():\n",
    "            unique_values = dataset[column].unique()\n",
    "\n",
    "            # Calculate the missing values percentage\n",
    "            missing_percentage = (dataset[column].isnull().sum() / len(dataset)) * 100\n",
    "\n",
    "            # Create an underline of asterisks\n",
    "            underline = '*' * len(f\"Column: {column}\")\n",
    "            print(f\"Column: {column}\")\n",
    "            print(underline)\n",
    "\n",
    "            # Print the unique values\n",
    "            print(f\"Unique Values: {unique_values}\")\n",
    "\n",
    "            # Print the missing values percentage\n",
    "            print(f\"Missing Values Percentage: {missing_percentage:.2f}%\")\n",
    "            print('===' * 29)\n",
    "            print()"
   ]
  },
  {
   "cell_type": "code",
   "execution_count": 17,
   "id": "9cae2159",
   "metadata": {
    "colab": {
     "base_uri": "https://localhost:8080/"
    },
    "id": "9cae2159",
    "outputId": "1f569597-9892-4be6-d8c3-d6b9f4d9878c",
    "scrolled": false
   },
   "outputs": [
    {
     "name": "stdout",
     "output_type": "stream",
     "text": [
      "Column: class\n",
      "*************\n",
      "Unique Values: [nan 'Federal government' 'Private' 'Local government'\n",
      " 'Self-employed-incorporated' 'Self-employed-not incorporated'\n",
      " 'State government' 'Without pay' 'Never worked']\n",
      "Missing Values Percentage: 50.24%\n",
      "=======================================================================================\n",
      "\n",
      "Column: education_institute\n",
      "***************************\n",
      "Unique Values: [nan 'High school' 'College or university']\n",
      "Missing Values Percentage: 93.65%\n",
      "=======================================================================================\n",
      "\n",
      "Column: unemployment_reason\n",
      "***************************\n",
      "Unique Values: [nan 'Other job loser' 'Re-entrant' 'Job leaver' 'Job loser - on layoff'\n",
      " 'New entrant']\n",
      "Missing Values Percentage: 96.89%\n",
      "=======================================================================================\n",
      "\n",
      "Column: is_labor_union\n",
      "**********************\n",
      "Unique Values: [nan 'No' 'Same']\n",
      "Missing Values Percentage: 90.42%\n",
      "=======================================================================================\n",
      "\n",
      "Column: occupation_code_main\n",
      "****************************\n",
      "Unique Values: [nan 'Adm support including clerical' 'Other service'\n",
      " 'Executive admin and managerial' 'Sales'\n",
      " 'Machine operators assmblrs & inspctrs'\n",
      " 'Precision production craft & repair' 'Professional specialty'\n",
      " 'Handlers equip cleaners etc' 'Transportation and material moving'\n",
      " 'Farming forestry and fishing' 'Private household services'\n",
      " 'Technicians and related support' 'Protective services' 'Armed Forces']\n",
      "Missing Values Percentage: 50.45%\n",
      "=======================================================================================\n",
      "\n",
      "Column: under_18_family\n",
      "***********************\n",
      "Unique Values: [nan 'Both parents present' 'Mother only present' 'Father only present'\n",
      " 'Neither parent present']\n",
      "Missing Values Percentage: 72.39%\n",
      "=======================================================================================\n",
      "\n",
      "Column: veterans_admin_questionnaire\n",
      "************************************\n",
      "Unique Values: [nan 'No' 'Same']\n",
      "Missing Values Percentage: 99.01%\n",
      "=======================================================================================\n",
      "\n",
      "Column: country_of_birth_own\n",
      "****************************\n",
      "Unique Values: ['US' nan 'El-Salvador' 'Mexico' 'Philippines' 'Cambodia' 'China'\n",
      " 'Hungary' 'Puerto-Rico' 'England' 'Dominican-Republic' 'Japan' 'Canada'\n",
      " 'Ecuador' 'Italy' 'Cuba' 'Peru' 'Taiwan' 'South Korea' 'Poland'\n",
      " 'Nicaragua' 'Germany' 'Guatemala' 'India' 'Ireland' 'Honduras' 'France'\n",
      " 'Trinadad&Tobago' 'Thailand' 'Iran' 'Vietnam' 'Portugal' 'Laos' 'Panama'\n",
      " 'Scotland' 'Columbia' 'Jamaica' 'Greece' 'Haiti' 'Yugoslavia'\n",
      " 'Outlying-U S (Guam USVI etc)' 'Holand-Netherlands' 'Hong Kong']\n",
      "Missing Values Percentage: 1.75%\n",
      "=======================================================================================\n",
      "\n",
      "Column: country_of_birth_father\n",
      "*******************************\n",
      "Unique Values: ['US' 'India' nan 'Poland' 'Germany' 'El-Salvador' 'Mexico' 'Puerto-Rico'\n",
      " 'Philippines' 'Greece' 'Canada' 'Ireland' 'Cambodia' 'Ecuador' 'China'\n",
      " 'Hungary' 'Dominican-Republic' 'Japan' 'Italy' 'Cuba' 'Peru' 'Jamaica'\n",
      " 'South Korea' 'Yugoslavia' 'Nicaragua' 'Columbia' 'Guatemala' 'France'\n",
      " 'England' 'Iran' 'Honduras' 'Haiti' 'Trinadad&Tobago'\n",
      " 'Outlying-U S (Guam USVI etc)' 'Thailand' 'Vietnam' 'Hong Kong'\n",
      " 'Portugal' 'Laos' 'Scotland' 'Taiwan' 'Holand-Netherlands' 'Panama']\n",
      "Missing Values Percentage: 3.43%\n",
      "=======================================================================================\n",
      "\n",
      "Column: country_of_birth_mother\n",
      "*******************************\n",
      "Unique Values: ['US' 'India' nan 'Peru' 'Germany' 'El-Salvador' 'Mexico' 'Puerto-Rico'\n",
      " 'Philippines' 'Canada' 'France' 'Cambodia' 'Italy' 'Ecuador' 'China'\n",
      " 'Hungary' 'Dominican-Republic' 'Japan' 'England' 'Cuba' 'Poland'\n",
      " 'South Korea' 'Yugoslavia' 'Scotland' 'Nicaragua' 'Guatemala'\n",
      " 'Holand-Netherlands' 'Greece' 'Ireland' 'Honduras' 'Haiti'\n",
      " 'Outlying-U S (Guam USVI etc)' 'Trinadad&Tobago' 'Thailand' 'Jamaica'\n",
      " 'Iran' 'Vietnam' 'Columbia' 'Portugal' 'Laos' 'Taiwan' 'Hong Kong'\n",
      " 'Panama']\n",
      "Missing Values Percentage: 3.11%\n",
      "=======================================================================================\n",
      "\n",
      "Column: migration_code_change_in_msa\n",
      "************************************\n",
      "Unique Values: [nan 'unchanged' 'MSA to MSA' 'NonMSA to nonMSA' 'MSA to nonMSA'\n",
      " 'Not identifiable' 'NonMSA to MSA' 'Abroad to MSA' 'Abroad to nonMSA']\n",
      "Missing Values Percentage: 50.73%\n",
      "=======================================================================================\n",
      "\n",
      "Column: migration_prev_sunbelt\n",
      "******************************\n",
      "Unique Values: [nan 'No' 'Same']\n",
      "Missing Values Percentage: 92.20%\n",
      "=======================================================================================\n",
      "\n",
      "Column: migration_code_move_within_reg\n",
      "**************************************\n",
      "Unique Values: [nan 'unchanged' 'Same county' 'Different state in South'\n",
      " 'Different county same state' 'Different state in West'\n",
      " 'Different state in Northeast' 'Abroad' 'Different state in Midwest']\n",
      "Missing Values Percentage: 50.73%\n",
      "=======================================================================================\n",
      "\n",
      "Column: migration_code_change_in_reg\n",
      "************************************\n",
      "Unique Values: [nan 'unchanged' 'Same county' 'Different state same division'\n",
      " 'Different county same state' 'Different region' 'Abroad'\n",
      " 'Different division same region']\n",
      "Missing Values Percentage: 50.73%\n",
      "=======================================================================================\n",
      "\n",
      "Column: residence_1_year_ago\n",
      "****************************\n",
      "Unique Values: [nan 'Same' 'No']\n",
      "Missing Values Percentage: 50.73%\n",
      "=======================================================================================\n",
      "\n",
      "Column: old_residence_reg\n",
      "*************************\n",
      "Unique Values: [nan 'South' 'Northeast' 'West' 'Midwest' 'Abroad']\n",
      "Missing Values Percentage: 92.20%\n",
      "=======================================================================================\n",
      "\n",
      "Column: old_residence_state\n",
      "***************************\n",
      "Unique Values: [nan 'District of Columbia' 'Michigan' 'Florida' 'Texas' 'California'\n",
      " 'North Carolina' 'Arkansas' 'Arizona' 'Ohio' 'Nebraska' 'Oregon' 'Utah'\n",
      " 'Oklahoma' 'Alaska' 'West Virginia' 'Wisconsin' 'Wyoming'\n",
      " 'South Carolina' 'Maryland' 'Nevada' 'Minnesota' 'North Dakota'\n",
      " 'Louisiana' 'Abroad' 'Kansas' 'New Jersey' 'Tennessee' 'Alabama'\n",
      " 'Massachusetts' 'Indiana' 'Iowa' 'Vermont' 'Colorado' 'New Hampshire'\n",
      " 'New York' 'Idaho' 'Kentucky' 'Pennsylvania' 'New Mexico' 'Mississippi'\n",
      " 'Delaware' 'Illinois' 'Virginia' 'Montana' 'South Dakota' 'Connecticut'\n",
      " 'Georgia' 'Maine' 'Missouri']\n",
      "Missing Values Percentage: 92.55%\n",
      "=======================================================================================\n",
      "\n"
     ]
    }
   ],
   "source": [
    "# Print unique values and missing value percentages for columns with missing values in the 'train' dataset\n",
    "print_missing_values(train_df)"
   ]
  },
  {
   "cell_type": "code",
   "execution_count": 18,
   "id": "873937fe",
   "metadata": {
    "colab": {
     "base_uri": "https://localhost:8080/"
    },
    "id": "873937fe",
    "outputId": "3fe1ac78-f261-4379-ab3c-b846955e1483",
    "scrolled": false
   },
   "outputs": [
    {
     "name": "stdout",
     "output_type": "stream",
     "text": [
      "Column: class\n",
      "*************\n",
      "Unique Values: ['Private' nan 'Federal government' 'Local government'\n",
      " 'Self-employed-incorporated' 'Self-employed-not incorporated'\n",
      " 'State government' 'Never worked' 'Without pay']\n",
      "Missing Values Percentage: 50.21%\n",
      "=======================================================================================\n",
      "\n",
      "Column: education_institute\n",
      "***************************\n",
      "Unique Values: [nan 'High school' 'College or university']\n",
      "Missing Values Percentage: 93.75%\n",
      "=======================================================================================\n",
      "\n",
      "Column: unemployment_reason\n",
      "***************************\n",
      "Unique Values: [nan 'Re-entrant' 'Other job loser' 'New entrant' 'Job loser - on layoff'\n",
      " 'Job leaver']\n",
      "Missing Values Percentage: 97.02%\n",
      "=======================================================================================\n",
      "\n",
      "Column: is_labor_union\n",
      "**********************\n",
      "Unique Values: ['No' nan 'Same']\n",
      "Missing Values Percentage: 90.57%\n",
      "=======================================================================================\n",
      "\n",
      "Column: occupation_code_main\n",
      "****************************\n",
      "Unique Values: ['Transportation and material moving'\n",
      " 'Machine operators assmblrs & inspctrs' 'Professional specialty' nan\n",
      " 'Adm support including clerical' 'Precision production craft & repair'\n",
      " 'Technicians and related support' 'Executive admin and managerial'\n",
      " 'Handlers equip cleaners etc' 'Other service' 'Sales'\n",
      " 'Protective services' 'Farming forestry and fishing'\n",
      " 'Private household services' 'Armed Forces']\n",
      "Missing Values Percentage: 50.42%\n",
      "=======================================================================================\n",
      "\n",
      "Column: under_18_family\n",
      "***********************\n",
      "Unique Values: [nan 'Both parents present' 'Mother only present' 'Father only present'\n",
      " 'Neither parent present']\n",
      "Missing Values Percentage: 72.36%\n",
      "=======================================================================================\n",
      "\n",
      "Column: veterans_admin_questionnaire\n",
      "************************************\n",
      "Unique Values: [nan 'No' 'Same']\n",
      "Missing Values Percentage: 98.97%\n",
      "=======================================================================================\n",
      "\n",
      "Column: country_of_birth_own\n",
      "****************************\n",
      "Unique Values: ['US' 'El-Salvador' 'Puerto-Rico' 'Guatemala' nan 'Taiwan' 'Honduras'\n",
      " 'Philippines' 'Mexico' 'England' 'South Korea' 'Vietnam' 'Germany'\n",
      " 'Hungary' 'Nicaragua' 'Cuba' 'Columbia' 'Peru' 'Canada' 'Italy'\n",
      " 'Portugal' 'Trinadad&Tobago' 'Ecuador' 'Poland' 'India' 'Jamaica' 'Japan'\n",
      " 'Dominican-Republic' 'Haiti' 'Iran' 'Ireland' 'Panama' 'China' 'Cambodia'\n",
      " 'Greece' 'Thailand' 'France' 'Hong Kong' 'Yugoslavia' 'Laos'\n",
      " 'Outlying-U S (Guam USVI etc)' 'Scotland' 'Holand-Netherlands']\n",
      "Missing Values Percentage: 1.66%\n",
      "=======================================================================================\n",
      "\n",
      "Column: country_of_birth_father\n",
      "*******************************\n",
      "Unique Values: ['US' 'El-Salvador' 'Nicaragua' nan 'China' 'Mexico' 'Philippines'\n",
      " 'Germany' 'Italy' 'England' 'Dominican-Republic'\n",
      " 'Outlying-U S (Guam USVI etc)' 'Vietnam' 'Puerto-Rico' 'Poland' 'India'\n",
      " 'Hungary' 'Canada' 'Cuba' 'Scotland' 'Portugal' 'France' 'Columbia'\n",
      " 'Guatemala' 'Ecuador' 'Jamaica' 'Peru' 'Trinadad&Tobago' 'South Korea'\n",
      " 'Yugoslavia' 'Cambodia' 'Japan' 'Greece' 'Haiti' 'Iran' 'Honduras'\n",
      " 'Ireland' 'Panama' 'Thailand' 'Taiwan' 'Hong Kong' 'Laos'\n",
      " 'Holand-Netherlands']\n",
      "Missing Values Percentage: 3.30%\n",
      "=======================================================================================\n",
      "\n",
      "Column: country_of_birth_mother\n",
      "*******************************\n",
      "Unique Values: ['US' 'El-Salvador' 'Puerto-Rico' 'Nicaragua' nan 'Taiwan' 'Mexico'\n",
      " 'Philippines' 'Italy' 'England' 'Guatemala' 'Portugal' 'Vietnam' 'Canada'\n",
      " 'Germany' 'India' 'Hungary' 'Cuba' 'Columbia' 'Ecuador' 'Thailand' 'Peru'\n",
      " 'Japan' 'Trinadad&Tobago' 'Poland' 'South Korea' 'Yugoslavia' 'Jamaica'\n",
      " 'Scotland' 'Dominican-Republic' 'Greece' 'Ireland' 'France' 'Haiti'\n",
      " 'Iran' 'Honduras' 'Panama' 'China' 'Cambodia' 'Hong Kong'\n",
      " 'Outlying-U S (Guam USVI etc)' 'Laos' 'Holand-Netherlands']\n",
      "Missing Values Percentage: 2.98%\n",
      "=======================================================================================\n",
      "\n",
      "Column: migration_code_change_in_msa\n",
      "************************************\n",
      "Unique Values: ['unchanged' nan 'MSA to MSA' 'NonMSA to nonMSA' 'Not identifiable'\n",
      " 'Abroad to MSA' 'MSA to nonMSA' 'NonMSA to MSA' 'Abroad to nonMSA']\n",
      "Missing Values Percentage: 50.78%\n",
      "=======================================================================================\n",
      "\n",
      "Column: migration_prev_sunbelt\n",
      "******************************\n",
      "Unique Values: [nan 'Same' 'No']\n",
      "Missing Values Percentage: 92.07%\n",
      "=======================================================================================\n",
      "\n",
      "Column: migration_code_move_within_reg\n",
      "**************************************\n",
      "Unique Values: ['unchanged' nan 'Different county same state' 'Same county'\n",
      " 'Different state in West' 'Abroad' 'Different state in Midwest'\n",
      " 'Different state in South' 'Different state in Northeast']\n",
      "Missing Values Percentage: 50.78%\n",
      "=======================================================================================\n",
      "\n",
      "Column: migration_code_change_in_reg\n",
      "************************************\n",
      "Unique Values: ['unchanged' nan 'Different county same state' 'Same county'\n",
      " 'Different division same region' 'Abroad' 'Different state same division'\n",
      " 'Different region']\n",
      "Missing Values Percentage: 50.78%\n",
      "=======================================================================================\n",
      "\n",
      "Column: residence_1_year_ago\n",
      "****************************\n",
      "Unique Values: ['Same' nan 'No']\n",
      "Missing Values Percentage: 50.78%\n",
      "=======================================================================================\n",
      "\n",
      "Column: old_residence_reg\n",
      "*************************\n",
      "Unique Values: [nan 'West' 'South' 'Midwest' 'Abroad' 'Northeast']\n",
      "Missing Values Percentage: 92.07%\n",
      "=======================================================================================\n",
      "\n",
      "Column: old_residence_state\n",
      "***************************\n",
      "Unique Values: [nan 'Arizona' 'Alabama' 'Minnesota' 'California' 'Abroad' 'Indiana'\n",
      " 'Utah' 'Pennsylvania' 'North Dakota' 'Colorado' 'Montana' 'Kansas'\n",
      " 'Virginia' 'Massachusetts' 'Michigan' 'New Mexico' 'Louisiana' 'Georgia'\n",
      " 'Florida' 'West Virginia' 'Arkansas' 'Oregon' 'Tennessee' 'Oklahoma'\n",
      " 'South Carolina' 'North Carolina' 'Alaska' 'New York' 'Maryland'\n",
      " 'Vermont' 'Nebraska' 'Connecticut' 'Nevada' 'Texas' 'Wyoming'\n",
      " 'New Hampshire' 'Kentucky' 'Ohio' 'Mississippi' 'South Dakota' 'Illinois'\n",
      " 'Delaware' 'Maine' 'Wisconsin' 'Missouri' 'Idaho' 'Iowa'\n",
      " 'District of Columbia' 'New Jersey']\n",
      "Missing Values Percentage: 92.41%\n",
      "=======================================================================================\n",
      "\n"
     ]
    }
   ],
   "source": [
    "# Print unique values and missing value percentages for columns with missing values in the 'test' dataset\n",
    "print_missing_values(test_df)"
   ]
  },
  {
   "cell_type": "code",
   "execution_count": 19,
   "id": "b3c6df35",
   "metadata": {
    "colab": {
     "base_uri": "https://localhost:8080/"
    },
    "id": "b3c6df35",
    "outputId": "1371a984-0578-40e9-e69d-0a3c1a6c10d4"
   },
   "outputs": [
    {
     "name": "stdout",
     "output_type": "stream",
     "text": [
      "Dropped columns in train: ['education_institute', 'unemployment_reason', 'is_labor_union', 'under_18_family', 'veterans_admin_questionnaire', 'migration_prev_sunbelt', 'old_residence_reg', 'old_residence_state']\n",
      "\n",
      "Dropped columns in test: ['education_institute', 'unemployment_reason', 'is_labor_union', 'under_18_family', 'veterans_admin_questionnaire', 'migration_prev_sunbelt', 'old_residence_reg', 'old_residence_state']\n"
     ]
    }
   ],
   "source": [
    "# Define a threshold percentage for missing values\n",
    "threshold = 0.70\n",
    "\n",
    "# Create an empty list to store columns that exceed the threshold\n",
    "train_columns_to_drop = []\n",
    "test_columns_to_drop = []\n",
    "\n",
    "\n",
    "# Iterate through each column in the train dataset\n",
    "for col in train_df.columns:\n",
    "\n",
    "    # Calculate the percentage of missing values for the current column\n",
    "    missing_percentage = train_df[col].isnull().sum() / len(train_df)\n",
    "\n",
    "    # Check if the missing percentage is greater than the defined threshold\n",
    "    if missing_percentage > threshold:\n",
    "\n",
    "        # If it exceeds the threshold, add the column name to the list\n",
    "        train_columns_to_drop.append(col)\n",
    "\n",
    "\n",
    "# Iterate through each column in the test dataset\n",
    "for col in test_df.columns:\n",
    "\n",
    "    # Calculate the percentage of missing values for the current column\n",
    "    missing_percentage = test_df[col].isnull().sum() / len(test_df)\n",
    "\n",
    "    # Check if the missing percentage is greater than the defined threshold\n",
    "    if missing_percentage > threshold:\n",
    "\n",
    "        # If it exceeds the threshold, add the column name to the list\n",
    "        test_columns_to_drop.append(col)\n",
    "\n",
    "# Drop the identified columns with high missing values from both the train and test datasets\n",
    "train_df.drop(columns=train_columns_to_drop, inplace=True)\n",
    "test_df.drop(columns=test_columns_to_drop, inplace=True)\n",
    "\n",
    "print(f\"Dropped columns in train: {train_columns_to_drop}\")\n",
    "print()\n",
    "print(f\"Dropped columns in test: {test_columns_to_drop}\")"
   ]
  },
  {
   "cell_type": "code",
   "execution_count": 20,
   "id": "1f798506",
   "metadata": {
    "colab": {
     "base_uri": "https://localhost:8080/"
    },
    "id": "1f798506",
    "outputId": "3479386f-e6a4-406b-9225-06d1af35e95f"
   },
   "outputs": [
    {
     "name": "stdout",
     "output_type": "stream",
     "text": [
      "Missing values in the Train dataset:\n",
      "************************************\n",
      "                        Column  Missing Values  Missing Values Percentage (%)\n",
      "                         class          105245                          50.24\n",
      "          occupation_code_main          105694                          50.45\n",
      "          country_of_birth_own            3667                           1.75\n",
      "       country_of_birth_father            7181                           3.43\n",
      "       country_of_birth_mother            6516                           3.11\n",
      "  migration_code_change_in_msa          106284                          50.73\n",
      "migration_code_move_within_reg          106284                          50.73\n",
      "  migration_code_change_in_reg          106284                          50.73\n",
      "          residence_1_year_ago          106284                          50.73\n",
      "==============================================================================\n",
      "\n",
      "Missing values in the Test dataset:\n",
      "***********************************\n",
      "                        Column  Missing Values  Missing Values Percentage (%)\n",
      "                         class           45079                          50.21\n",
      "          occupation_code_main           45273                          50.42\n",
      "          country_of_birth_own            1490                           1.66\n",
      "       country_of_birth_father            2961                           3.30\n",
      "       country_of_birth_mother            2675                           2.98\n",
      "  migration_code_change_in_msa           45597                          50.78\n",
      "migration_code_move_within_reg           45597                          50.78\n",
      "  migration_code_change_in_reg           45597                          50.78\n",
      "          residence_1_year_ago           45597                          50.78\n",
      "==============================================================================\n",
      "\n"
     ]
    }
   ],
   "source": [
    "# Define The datasets\n",
    "datasets = {'train': train_df, 'test': test_df}\n",
    "\n",
    "# Define a function to print the missing values in the datasets\n",
    "def show_missing_values(datasets):\n",
    "    for name, data in datasets.items():\n",
    "        title = f\"Missing values in the {name.capitalize()} dataset:\"\n",
    "\n",
    "        # Create an underline of asterisks\n",
    "        underline = '*' * len(title)\n",
    "        print(title)\n",
    "        print(underline)\n",
    "\n",
    "        # Calculate the sum of missing values for each column\n",
    "        missing_values = data.isnull().sum()\n",
    "\n",
    "        # Exclude columns with 0 as missing values\n",
    "        missing_values = missing_values[missing_values > 0]\n",
    "\n",
    "        # Check if there are any columns with missing values\n",
    "        if not missing_values.empty:\n",
    "\n",
    "            # Calculate the percentage of missing values\n",
    "            missing_percentages = ((missing_values / len(data)) * 100).round(2)\n",
    "\n",
    "            # Display the columns with missing values, the count of missing values, and their percentages\n",
    "            missing_info = pd.DataFrame({\n",
    "                'Column': missing_values.index,\n",
    "                'Missing Values': missing_values,\n",
    "                'Missing Values Percentage (%)': missing_percentages\n",
    "            })\n",
    "\n",
    "            # Use to_string to remove index column\n",
    "            print(missing_info.to_string(index=False))\n",
    "            print('===' * 26)\n",
    "        else:\n",
    "            # If no missing values found, indicate that\n",
    "            print(\"No missing values found.\")\n",
    "        print()\n",
    "\n",
    "# Call the function to show missing values in the datasets\n",
    "show_missing_values(datasets)"
   ]
  },
  {
   "cell_type": "markdown",
   "id": "67f8e11b",
   "metadata": {
    "id": "67f8e11b"
   },
   "source": [
    "##### `class` and `occupation_code_main`\n",
    "\n",
    "- **Class:** This column represents an individual's working class and has a missing value percentage of approximately 50.24%. The class of worker indicates whether a person is employed in various sectors, including the federal government, private sector, local government, state government, self-employed, or if they have never been employed or are working without pay. This column is crucial for analysis as an individual's worker class may significantly impact their income. Therefore, it is essential to retain and further analyze this column to develop an appropriate strategy for handling the missing values.\n",
    "\n",
    "\n",
    "- **Occupation Code Main:** This column denotes the major occupation code of an individual and also has a missing values percentage of around 50.45%.\n",
    "\n",
    "\n",
    "- **Handling Strategy:** Given the substantial percentage of missing values, we can consider imputing these gaps. One approach is to replace missing values with the most common class or occupation in each column (mode imputation)."
   ]
  },
  {
   "cell_type": "code",
   "execution_count": 21,
   "id": "019b015d",
   "metadata": {
    "colab": {
     "base_uri": "https://localhost:8080/"
    },
    "id": "019b015d",
    "outputId": "2585b320-f205-44f0-aa7c-c221757efe0d"
   },
   "outputs": [
    {
     "data": {
      "text/plain": [
       "array([nan, 'Federal government', 'Private', 'Local government',\n",
       "       'Self-employed-incorporated', 'Self-employed-not incorporated',\n",
       "       'State government', 'Without pay', 'Never worked'], dtype=object)"
      ]
     },
     "execution_count": 21,
     "metadata": {},
     "output_type": "execute_result"
    }
   ],
   "source": [
    "# Handling the missing values in the 'Class' Column by observing neighbouring columns\n",
    "train_df[\"class\"].unique()"
   ]
  },
  {
   "cell_type": "code",
   "execution_count": 22,
   "id": "dd583a91",
   "metadata": {
    "colab": {
     "base_uri": "https://localhost:8080/",
     "height": 739
    },
    "id": "dd583a91",
    "outputId": "d11fae6f-298f-43ab-e8c6-c6c20f24529c"
   },
   "outputs": [
    {
     "data": {
      "text/html": [
       "<div>\n",
       "<style scoped>\n",
       "    .dataframe tbody tr th:only-of-type {\n",
       "        vertical-align: middle;\n",
       "    }\n",
       "\n",
       "    .dataframe tbody tr th {\n",
       "        vertical-align: top;\n",
       "    }\n",
       "\n",
       "    .dataframe thead th {\n",
       "        text-align: right;\n",
       "    }\n",
       "</style>\n",
       "<table border=\"1\" class=\"dataframe\">\n",
       "  <thead>\n",
       "    <tr style=\"text-align: right;\">\n",
       "      <th></th>\n",
       "      <th>ID</th>\n",
       "      <th>age</th>\n",
       "      <th>gender</th>\n",
       "      <th>education</th>\n",
       "      <th>class</th>\n",
       "      <th>marital_status</th>\n",
       "      <th>race</th>\n",
       "      <th>is_hispanic</th>\n",
       "      <th>employment_commitment</th>\n",
       "      <th>employment_stat</th>\n",
       "      <th>...</th>\n",
       "      <th>mig_year</th>\n",
       "      <th>country_of_birth_own</th>\n",
       "      <th>country_of_birth_father</th>\n",
       "      <th>country_of_birth_mother</th>\n",
       "      <th>migration_code_change_in_msa</th>\n",
       "      <th>migration_code_move_within_reg</th>\n",
       "      <th>migration_code_change_in_reg</th>\n",
       "      <th>residence_1_year_ago</th>\n",
       "      <th>importance_of_record</th>\n",
       "      <th>income_above_limit</th>\n",
       "    </tr>\n",
       "  </thead>\n",
       "  <tbody>\n",
       "    <tr>\n",
       "      <th>0</th>\n",
       "      <td>ID_TZ0000</td>\n",
       "      <td>79</td>\n",
       "      <td>Female</td>\n",
       "      <td>High school graduate</td>\n",
       "      <td>NaN</td>\n",
       "      <td>Widowed</td>\n",
       "      <td>White</td>\n",
       "      <td>All other</td>\n",
       "      <td>Not in labor force</td>\n",
       "      <td>0</td>\n",
       "      <td>...</td>\n",
       "      <td>95</td>\n",
       "      <td>US</td>\n",
       "      <td>US</td>\n",
       "      <td>US</td>\n",
       "      <td>NaN</td>\n",
       "      <td>NaN</td>\n",
       "      <td>NaN</td>\n",
       "      <td>NaN</td>\n",
       "      <td>1779.74</td>\n",
       "      <td>Below limit</td>\n",
       "    </tr>\n",
       "    <tr>\n",
       "      <th>1</th>\n",
       "      <td>ID_TZ0001</td>\n",
       "      <td>65</td>\n",
       "      <td>Female</td>\n",
       "      <td>High school graduate</td>\n",
       "      <td>NaN</td>\n",
       "      <td>Widowed</td>\n",
       "      <td>White</td>\n",
       "      <td>All other</td>\n",
       "      <td>Children or Armed Forces</td>\n",
       "      <td>0</td>\n",
       "      <td>...</td>\n",
       "      <td>94</td>\n",
       "      <td>US</td>\n",
       "      <td>US</td>\n",
       "      <td>US</td>\n",
       "      <td>unchanged</td>\n",
       "      <td>unchanged</td>\n",
       "      <td>unchanged</td>\n",
       "      <td>Same</td>\n",
       "      <td>2366.75</td>\n",
       "      <td>Below limit</td>\n",
       "    </tr>\n",
       "    <tr>\n",
       "      <th>3</th>\n",
       "      <td>ID_TZ0003</td>\n",
       "      <td>2</td>\n",
       "      <td>Female</td>\n",
       "      <td>Children</td>\n",
       "      <td>NaN</td>\n",
       "      <td>Never married</td>\n",
       "      <td>Asian or Pacific Islander</td>\n",
       "      <td>All other</td>\n",
       "      <td>Children or Armed Forces</td>\n",
       "      <td>0</td>\n",
       "      <td>...</td>\n",
       "      <td>94</td>\n",
       "      <td>US</td>\n",
       "      <td>India</td>\n",
       "      <td>India</td>\n",
       "      <td>unchanged</td>\n",
       "      <td>unchanged</td>\n",
       "      <td>unchanged</td>\n",
       "      <td>Same</td>\n",
       "      <td>1380.27</td>\n",
       "      <td>Below limit</td>\n",
       "    </tr>\n",
       "    <tr>\n",
       "      <th>4</th>\n",
       "      <td>ID_TZ0004</td>\n",
       "      <td>70</td>\n",
       "      <td>Male</td>\n",
       "      <td>High school graduate</td>\n",
       "      <td>NaN</td>\n",
       "      <td>Married-civilian spouse present</td>\n",
       "      <td>White</td>\n",
       "      <td>All other</td>\n",
       "      <td>Not in labor force</td>\n",
       "      <td>0</td>\n",
       "      <td>...</td>\n",
       "      <td>95</td>\n",
       "      <td>US</td>\n",
       "      <td>US</td>\n",
       "      <td>US</td>\n",
       "      <td>NaN</td>\n",
       "      <td>NaN</td>\n",
       "      <td>NaN</td>\n",
       "      <td>NaN</td>\n",
       "      <td>1580.79</td>\n",
       "      <td>Below limit</td>\n",
       "    </tr>\n",
       "    <tr>\n",
       "      <th>8</th>\n",
       "      <td>ID_TZ0008</td>\n",
       "      <td>73</td>\n",
       "      <td>Female</td>\n",
       "      <td>7th and 8th grade</td>\n",
       "      <td>NaN</td>\n",
       "      <td>Married-civilian spouse present</td>\n",
       "      <td>Black</td>\n",
       "      <td>All other</td>\n",
       "      <td>Not in labor force</td>\n",
       "      <td>0</td>\n",
       "      <td>...</td>\n",
       "      <td>95</td>\n",
       "      <td>US</td>\n",
       "      <td>US</td>\n",
       "      <td>US</td>\n",
       "      <td>NaN</td>\n",
       "      <td>NaN</td>\n",
       "      <td>NaN</td>\n",
       "      <td>NaN</td>\n",
       "      <td>1267.30</td>\n",
       "      <td>Below limit</td>\n",
       "    </tr>\n",
       "    <tr>\n",
       "      <th>...</th>\n",
       "      <td>...</td>\n",
       "      <td>...</td>\n",
       "      <td>...</td>\n",
       "      <td>...</td>\n",
       "      <td>...</td>\n",
       "      <td>...</td>\n",
       "      <td>...</td>\n",
       "      <td>...</td>\n",
       "      <td>...</td>\n",
       "      <td>...</td>\n",
       "      <td>...</td>\n",
       "      <td>...</td>\n",
       "      <td>...</td>\n",
       "      <td>...</td>\n",
       "      <td>...</td>\n",
       "      <td>...</td>\n",
       "      <td>...</td>\n",
       "      <td>...</td>\n",
       "      <td>...</td>\n",
       "      <td>...</td>\n",
       "      <td>...</td>\n",
       "    </tr>\n",
       "    <tr>\n",
       "      <th>209488</th>\n",
       "      <td>ID_TZ9999</td>\n",
       "      <td>76</td>\n",
       "      <td>Female</td>\n",
       "      <td>Some college but no degree</td>\n",
       "      <td>NaN</td>\n",
       "      <td>Never married</td>\n",
       "      <td>White</td>\n",
       "      <td>All other</td>\n",
       "      <td>Not in labor force</td>\n",
       "      <td>0</td>\n",
       "      <td>...</td>\n",
       "      <td>95</td>\n",
       "      <td>US</td>\n",
       "      <td>NaN</td>\n",
       "      <td>NaN</td>\n",
       "      <td>NaN</td>\n",
       "      <td>NaN</td>\n",
       "      <td>NaN</td>\n",
       "      <td>NaN</td>\n",
       "      <td>2570.89</td>\n",
       "      <td>Below limit</td>\n",
       "    </tr>\n",
       "    <tr>\n",
       "      <th>209492</th>\n",
       "      <td>ID_TZ99993</td>\n",
       "      <td>44</td>\n",
       "      <td>Female</td>\n",
       "      <td>1st 2nd 3rd or 4th grade</td>\n",
       "      <td>NaN</td>\n",
       "      <td>Married-civilian spouse present</td>\n",
       "      <td>White</td>\n",
       "      <td>Mexican (Mexicano)</td>\n",
       "      <td>Not in labor force</td>\n",
       "      <td>0</td>\n",
       "      <td>...</td>\n",
       "      <td>95</td>\n",
       "      <td>Mexico</td>\n",
       "      <td>Mexico</td>\n",
       "      <td>Mexico</td>\n",
       "      <td>NaN</td>\n",
       "      <td>NaN</td>\n",
       "      <td>NaN</td>\n",
       "      <td>NaN</td>\n",
       "      <td>1142.78</td>\n",
       "      <td>Below limit</td>\n",
       "    </tr>\n",
       "    <tr>\n",
       "      <th>209494</th>\n",
       "      <td>ID_TZ99995</td>\n",
       "      <td>16</td>\n",
       "      <td>Female</td>\n",
       "      <td>7th and 8th grade</td>\n",
       "      <td>NaN</td>\n",
       "      <td>Never married</td>\n",
       "      <td>White</td>\n",
       "      <td>All other</td>\n",
       "      <td>Not in labor force</td>\n",
       "      <td>0</td>\n",
       "      <td>...</td>\n",
       "      <td>95</td>\n",
       "      <td>US</td>\n",
       "      <td>US</td>\n",
       "      <td>US</td>\n",
       "      <td>NaN</td>\n",
       "      <td>NaN</td>\n",
       "      <td>NaN</td>\n",
       "      <td>NaN</td>\n",
       "      <td>2170.60</td>\n",
       "      <td>Below limit</td>\n",
       "    </tr>\n",
       "    <tr>\n",
       "      <th>209495</th>\n",
       "      <td>ID_TZ99996</td>\n",
       "      <td>78</td>\n",
       "      <td>Male</td>\n",
       "      <td>Bachelors degree(BA AB BS)</td>\n",
       "      <td>NaN</td>\n",
       "      <td>Married-civilian spouse present</td>\n",
       "      <td>White</td>\n",
       "      <td>All other</td>\n",
       "      <td>Not in labor force</td>\n",
       "      <td>0</td>\n",
       "      <td>...</td>\n",
       "      <td>95</td>\n",
       "      <td>US</td>\n",
       "      <td>US</td>\n",
       "      <td>Canada</td>\n",
       "      <td>NaN</td>\n",
       "      <td>NaN</td>\n",
       "      <td>NaN</td>\n",
       "      <td>NaN</td>\n",
       "      <td>1029.57</td>\n",
       "      <td>Below limit</td>\n",
       "    </tr>\n",
       "    <tr>\n",
       "      <th>209496</th>\n",
       "      <td>ID_TZ99997</td>\n",
       "      <td>8</td>\n",
       "      <td>Female</td>\n",
       "      <td>Children</td>\n",
       "      <td>NaN</td>\n",
       "      <td>Never married</td>\n",
       "      <td>White</td>\n",
       "      <td>All other</td>\n",
       "      <td>Children or Armed Forces</td>\n",
       "      <td>0</td>\n",
       "      <td>...</td>\n",
       "      <td>95</td>\n",
       "      <td>US</td>\n",
       "      <td>US</td>\n",
       "      <td>US</td>\n",
       "      <td>NaN</td>\n",
       "      <td>NaN</td>\n",
       "      <td>NaN</td>\n",
       "      <td>NaN</td>\n",
       "      <td>791.61</td>\n",
       "      <td>Below limit</td>\n",
       "    </tr>\n",
       "  </tbody>\n",
       "</table>\n",
       "<p>105245 rows × 35 columns</p>\n",
       "</div>"
      ],
      "text/plain": [
       "                ID  age  gender                   education class  \\\n",
       "0        ID_TZ0000   79  Female        High school graduate   NaN   \n",
       "1        ID_TZ0001   65  Female        High school graduate   NaN   \n",
       "3        ID_TZ0003    2  Female                    Children   NaN   \n",
       "4        ID_TZ0004   70    Male        High school graduate   NaN   \n",
       "8        ID_TZ0008   73  Female           7th and 8th grade   NaN   \n",
       "...            ...  ...     ...                         ...   ...   \n",
       "209488   ID_TZ9999   76  Female  Some college but no degree   NaN   \n",
       "209492  ID_TZ99993   44  Female    1st 2nd 3rd or 4th grade   NaN   \n",
       "209494  ID_TZ99995   16  Female           7th and 8th grade   NaN   \n",
       "209495  ID_TZ99996   78    Male  Bachelors degree(BA AB BS)   NaN   \n",
       "209496  ID_TZ99997    8  Female                    Children   NaN   \n",
       "\n",
       "                         marital_status                       race  \\\n",
       "0                               Widowed                      White   \n",
       "1                               Widowed                      White   \n",
       "3                         Never married  Asian or Pacific Islander   \n",
       "4       Married-civilian spouse present                      White   \n",
       "8       Married-civilian spouse present                      Black   \n",
       "...                                 ...                        ...   \n",
       "209488                    Never married                      White   \n",
       "209492  Married-civilian spouse present                      White   \n",
       "209494                    Never married                      White   \n",
       "209495  Married-civilian spouse present                      White   \n",
       "209496                    Never married                      White   \n",
       "\n",
       "               is_hispanic     employment_commitment  employment_stat  ...  \\\n",
       "0                All other        Not in labor force                0  ...   \n",
       "1                All other  Children or Armed Forces                0  ...   \n",
       "3                All other  Children or Armed Forces                0  ...   \n",
       "4                All other        Not in labor force                0  ...   \n",
       "8                All other        Not in labor force                0  ...   \n",
       "...                    ...                       ...              ...  ...   \n",
       "209488           All other        Not in labor force                0  ...   \n",
       "209492  Mexican (Mexicano)        Not in labor force                0  ...   \n",
       "209494           All other        Not in labor force                0  ...   \n",
       "209495           All other        Not in labor force                0  ...   \n",
       "209496           All other  Children or Armed Forces                0  ...   \n",
       "\n",
       "        mig_year  country_of_birth_own  country_of_birth_father  \\\n",
       "0             95                    US                       US   \n",
       "1             94                    US                       US   \n",
       "3             94                    US                    India   \n",
       "4             95                    US                       US   \n",
       "8             95                    US                       US   \n",
       "...          ...                   ...                      ...   \n",
       "209488        95                    US                      NaN   \n",
       "209492        95                Mexico                   Mexico   \n",
       "209494        95                    US                       US   \n",
       "209495        95                    US                       US   \n",
       "209496        95                    US                       US   \n",
       "\n",
       "       country_of_birth_mother  migration_code_change_in_msa  \\\n",
       "0                           US                           NaN   \n",
       "1                           US                     unchanged   \n",
       "3                        India                     unchanged   \n",
       "4                           US                           NaN   \n",
       "8                           US                           NaN   \n",
       "...                        ...                           ...   \n",
       "209488                     NaN                           NaN   \n",
       "209492                  Mexico                           NaN   \n",
       "209494                      US                           NaN   \n",
       "209495                  Canada                           NaN   \n",
       "209496                      US                           NaN   \n",
       "\n",
       "       migration_code_move_within_reg  migration_code_change_in_reg  \\\n",
       "0                                 NaN                           NaN   \n",
       "1                           unchanged                     unchanged   \n",
       "3                           unchanged                     unchanged   \n",
       "4                                 NaN                           NaN   \n",
       "8                                 NaN                           NaN   \n",
       "...                               ...                           ...   \n",
       "209488                            NaN                           NaN   \n",
       "209492                            NaN                           NaN   \n",
       "209494                            NaN                           NaN   \n",
       "209495                            NaN                           NaN   \n",
       "209496                            NaN                           NaN   \n",
       "\n",
       "       residence_1_year_ago importance_of_record  income_above_limit  \n",
       "0                       NaN              1779.74         Below limit  \n",
       "1                      Same              2366.75         Below limit  \n",
       "3                      Same              1380.27         Below limit  \n",
       "4                       NaN              1580.79         Below limit  \n",
       "8                       NaN              1267.30         Below limit  \n",
       "...                     ...                  ...                 ...  \n",
       "209488                  NaN              2570.89         Below limit  \n",
       "209492                  NaN              1142.78         Below limit  \n",
       "209494                  NaN              2170.60         Below limit  \n",
       "209495                  NaN              1029.57         Below limit  \n",
       "209496                  NaN               791.61         Below limit  \n",
       "\n",
       "[105245 rows x 35 columns]"
      ]
     },
     "execution_count": 22,
     "metadata": {},
     "output_type": "execute_result"
    }
   ],
   "source": [
    "# Display the rows with null values in the 'class' column\n",
    "null_class = train_df[train_df[\"class\"].isnull()]\n",
    "null_class"
   ]
  },
  {
   "cell_type": "markdown",
   "id": "41dec720",
   "metadata": {
    "id": "41dec720"
   },
   "source": [
    "When examining the rows with missing values in the 'Class' column, it appears that some individuals are primarily young (below 18), with 'Not in labor force' and 'Children or Armed Forces' listed as their 'employment_commitment' status. This suggests that some missing values in the 'Class' column are due to individuals who are children or not yet part of the labor force due to their age. These should be investigated further."
   ]
  },
  {
   "cell_type": "code",
   "execution_count": 23,
   "id": "8d032dfc",
   "metadata": {
    "colab": {
     "base_uri": "https://localhost:8080/"
    },
    "id": "8d032dfc",
    "outputId": "abd5a937-dcf6-41a8-feb4-2d29373618d8"
   },
   "outputs": [
    {
     "name": "stdout",
     "output_type": "stream",
     "text": [
      "Missing values in 'class' column for Train before imputation: 105245\n",
      "Missing values in 'class' column for Test before imputation: 45079\n"
     ]
    }
   ],
   "source": [
    "# Check remaining missing values in the 'class' column\n",
    "missing_values_before_imputation_train = train_df['class'].isnull().sum()\n",
    "missing_values_before_imputation_test = test_df['class'].isnull().sum()\n",
    "print(f\"Missing values in 'class' column for Train before imputation: {missing_values_before_imputation_train}\")\n",
    "print(f\"Missing values in 'class' column for Test before imputation: {missing_values_before_imputation_test}\")"
   ]
  },
  {
   "cell_type": "code",
   "execution_count": 24,
   "id": "e3a30683",
   "metadata": {
    "colab": {
     "base_uri": "https://localhost:8080/"
    },
    "id": "e3a30683",
    "outputId": "d688db1b-d9d2-4082-f2aa-81f00ba9ab2c"
   },
   "outputs": [
    {
     "data": {
      "text/plain": [
       "Private                           75617\n",
       "Self-employed-not incorporated     8957\n",
       "Local government                   8093\n",
       "State government                   4480\n",
       "Self-employed-incorporated         3444\n",
       "Federal government                 3047\n",
       "Never worked                        449\n",
       "Without pay                         167\n",
       "Name: class, dtype: int64"
      ]
     },
     "execution_count": 24,
     "metadata": {},
     "output_type": "execute_result"
    }
   ],
   "source": [
    "train_df[\"class\"].value_counts()"
   ]
  },
  {
   "cell_type": "markdown",
   "id": "88e46a46",
   "metadata": {
    "id": "88e46a46"
   },
   "source": [
    "The most frequent class is **Private**. Therefore, we should impute the missing values in the 'class' column with this most frequnt class (mode)."
   ]
  },
  {
   "cell_type": "code",
   "execution_count": 25,
   "id": "11a04cfe",
   "metadata": {
    "colab": {
     "base_uri": "https://localhost:8080/"
    },
    "id": "11a04cfe",
    "outputId": "f42b1162-70c0-4656-bbca-fc84fea8acdd"
   },
   "outputs": [
    {
     "name": "stdout",
     "output_type": "stream",
     "text": [
      "Missing values in 'class' column for Train after imputation: 0\n",
      "Missing values in 'class' column for Test after imputation: 0\n"
     ]
    }
   ],
   "source": [
    "# Impute missing values in the 'class' column with the most frequent class\n",
    "# Define the imputation value\n",
    "imputation_value = train_df['class'].mode()[0]\n",
    "\n",
    "# Impute missing 'class' values with the most frequent class in the 'train' dataset\n",
    "train_df['class'].fillna(imputation_value, inplace=True)\n",
    "test_df['class'].fillna(imputation_value, inplace=True)\n",
    "\n",
    "# Verify the imputation in both DataFrames\n",
    "missing_values_after_imputation_train = train_df['class'].isnull().sum()\n",
    "missing_values_after_imputation_test = test_df['class'].isnull().sum()\n",
    "print(f\"Missing values in 'class' column for Train after imputation: {missing_values_after_imputation_train}\")\n",
    "print(f\"Missing values in 'class' column for Test after imputation: {missing_values_after_imputation_test}\")"
   ]
  },
  {
   "cell_type": "code",
   "execution_count": 26,
   "id": "5f87e024",
   "metadata": {
    "colab": {
     "base_uri": "https://localhost:8080/"
    },
    "id": "5f87e024",
    "outputId": "e6d23d6c-8f5e-4d46-bdba-999dae2363b3"
   },
   "outputs": [
    {
     "data": {
      "text/plain": [
       "array([nan, 'Adm support including clerical', 'Other service',\n",
       "       'Executive admin and managerial', 'Sales',\n",
       "       'Machine operators assmblrs & inspctrs',\n",
       "       'Precision production craft & repair', 'Professional specialty',\n",
       "       'Handlers equip cleaners etc',\n",
       "       'Transportation and material moving',\n",
       "       'Farming forestry and fishing', 'Private household services',\n",
       "       'Technicians and related support', 'Protective services',\n",
       "       'Armed Forces'], dtype=object)"
      ]
     },
     "execution_count": 26,
     "metadata": {},
     "output_type": "execute_result"
    }
   ],
   "source": [
    "# Handling Missing Values for 'occupation_code_main' column by observing neighbouring columns\n",
    "train_df[\"occupation_code_main\"].unique()"
   ]
  },
  {
   "cell_type": "markdown",
   "id": "8eb4756c",
   "metadata": {
    "id": "8eb4756c"
   },
   "source": [
    "- The column \"occupation_code_main\" represents the major occupation code of individuals, and it has various unique values that describe different occupation categories.\n",
    "\n",
    "\n",
    "- These values include 'Adm support including clerical,' 'Sales,' 'Machine operators assmblrs & inspctrs,' 'Professional specialty,' 'Transportation and material moving,' and more.\n",
    "\n",
    "\n",
    "- This column is essential for understanding the occupation of individuals in the dataset because it indicates the occupation of an individual which might have a relationship with their income since some occupations tend to pay more than others."
   ]
  },
  {
   "cell_type": "code",
   "execution_count": 27,
   "id": "108ef0fc",
   "metadata": {
    "colab": {
     "base_uri": "https://localhost:8080/"
    },
    "id": "108ef0fc",
    "outputId": "416dceed-d504-47c2-9712-94d42789cdc1"
   },
   "outputs": [
    {
     "data": {
      "text/plain": [
       "array([ 0, 26, 31,  2, 17, 36, 33,  8, 10, 40, 29, 39, 23, 34, 43, 38,  3,\n",
       "       35, 19, 25, 27, 24, 30,  1, 32, 15,  5, 28, 37, 12,  4, 16,  7, 14,\n",
       "       44, 18, 13,  9, 42, 21, 41, 22, 11, 45,  6, 20, 46], dtype=int64)"
      ]
     },
     "execution_count": 27,
     "metadata": {},
     "output_type": "execute_result"
    }
   ],
   "source": [
    "train_df[\"occupation_code\"].unique()"
   ]
  },
  {
   "cell_type": "code",
   "execution_count": 28,
   "id": "75e59aa2",
   "metadata": {
    "colab": {
     "base_uri": "https://localhost:8080/"
    },
    "id": "75e59aa2",
    "outputId": "a011a7c0-bb0b-4fc2-e5f5-c7f6a189848d"
   },
   "outputs": [
    {
     "name": "stdout",
     "output_type": "stream",
     "text": [
      "Missing values in 'occupation_code_main' before imputation: 105694\n"
     ]
    }
   ],
   "source": [
    "# Check missing values in 'occupation_code_main' column before imputation\n",
    "missing_values_before = train_df['occupation_code_main'].isnull().sum()\n",
    "print(f\"Missing values in 'occupation_code_main' before imputation: {missing_values_before}\")"
   ]
  },
  {
   "cell_type": "code",
   "execution_count": 29,
   "id": "90661d97",
   "metadata": {
    "colab": {
     "base_uri": "https://localhost:8080/",
     "height": 424
    },
    "id": "90661d97",
    "outputId": "8e6f92d6-c4ca-434e-94a5-ae5ba6598f82"
   },
   "outputs": [
    {
     "data": {
      "text/html": [
       "<div>\n",
       "<style scoped>\n",
       "    .dataframe tbody tr th:only-of-type {\n",
       "        vertical-align: middle;\n",
       "    }\n",
       "\n",
       "    .dataframe tbody tr th {\n",
       "        vertical-align: top;\n",
       "    }\n",
       "\n",
       "    .dataframe thead th {\n",
       "        text-align: right;\n",
       "    }\n",
       "</style>\n",
       "<table border=\"1\" class=\"dataframe\">\n",
       "  <thead>\n",
       "    <tr style=\"text-align: right;\">\n",
       "      <th></th>\n",
       "      <th>age</th>\n",
       "      <th>occupation_code_main</th>\n",
       "      <th>occupation_code</th>\n",
       "      <th>education</th>\n",
       "    </tr>\n",
       "  </thead>\n",
       "  <tbody>\n",
       "    <tr>\n",
       "      <th>0</th>\n",
       "      <td>79</td>\n",
       "      <td>NaN</td>\n",
       "      <td>0</td>\n",
       "      <td>High school graduate</td>\n",
       "    </tr>\n",
       "    <tr>\n",
       "      <th>1</th>\n",
       "      <td>65</td>\n",
       "      <td>NaN</td>\n",
       "      <td>0</td>\n",
       "      <td>High school graduate</td>\n",
       "    </tr>\n",
       "    <tr>\n",
       "      <th>3</th>\n",
       "      <td>2</td>\n",
       "      <td>NaN</td>\n",
       "      <td>0</td>\n",
       "      <td>Children</td>\n",
       "    </tr>\n",
       "    <tr>\n",
       "      <th>4</th>\n",
       "      <td>70</td>\n",
       "      <td>NaN</td>\n",
       "      <td>0</td>\n",
       "      <td>High school graduate</td>\n",
       "    </tr>\n",
       "    <tr>\n",
       "      <th>8</th>\n",
       "      <td>73</td>\n",
       "      <td>NaN</td>\n",
       "      <td>0</td>\n",
       "      <td>7th and 8th grade</td>\n",
       "    </tr>\n",
       "    <tr>\n",
       "      <th>...</th>\n",
       "      <td>...</td>\n",
       "      <td>...</td>\n",
       "      <td>...</td>\n",
       "      <td>...</td>\n",
       "    </tr>\n",
       "    <tr>\n",
       "      <th>209488</th>\n",
       "      <td>76</td>\n",
       "      <td>NaN</td>\n",
       "      <td>0</td>\n",
       "      <td>Some college but no degree</td>\n",
       "    </tr>\n",
       "    <tr>\n",
       "      <th>209492</th>\n",
       "      <td>44</td>\n",
       "      <td>NaN</td>\n",
       "      <td>0</td>\n",
       "      <td>1st 2nd 3rd or 4th grade</td>\n",
       "    </tr>\n",
       "    <tr>\n",
       "      <th>209494</th>\n",
       "      <td>16</td>\n",
       "      <td>NaN</td>\n",
       "      <td>0</td>\n",
       "      <td>7th and 8th grade</td>\n",
       "    </tr>\n",
       "    <tr>\n",
       "      <th>209495</th>\n",
       "      <td>78</td>\n",
       "      <td>NaN</td>\n",
       "      <td>0</td>\n",
       "      <td>Bachelors degree(BA AB BS)</td>\n",
       "    </tr>\n",
       "    <tr>\n",
       "      <th>209496</th>\n",
       "      <td>8</td>\n",
       "      <td>NaN</td>\n",
       "      <td>0</td>\n",
       "      <td>Children</td>\n",
       "    </tr>\n",
       "  </tbody>\n",
       "</table>\n",
       "<p>105694 rows × 4 columns</p>\n",
       "</div>"
      ],
      "text/plain": [
       "        age occupation_code_main  occupation_code                   education\n",
       "0        79                  NaN                0        High school graduate\n",
       "1        65                  NaN                0        High school graduate\n",
       "3         2                  NaN                0                    Children\n",
       "4        70                  NaN                0        High school graduate\n",
       "8        73                  NaN                0           7th and 8th grade\n",
       "...     ...                  ...              ...                         ...\n",
       "209488   76                  NaN                0  Some college but no degree\n",
       "209492   44                  NaN                0    1st 2nd 3rd or 4th grade\n",
       "209494   16                  NaN                0           7th and 8th grade\n",
       "209495   78                  NaN                0  Bachelors degree(BA AB BS)\n",
       "209496    8                  NaN                0                    Children\n",
       "\n",
       "[105694 rows x 4 columns]"
      ]
     },
     "execution_count": 29,
     "metadata": {},
     "output_type": "execute_result"
    }
   ],
   "source": [
    "# Display the rows with null values in the 'occupation_code_main' column\n",
    "null_occupation = train_df[train_df[\"occupation_code_main\"].isnull()]\n",
    "\n",
    "# Display specific columns in the DataFrame\n",
    "null_occupation[['age', 'occupation_code_main', 'occupation_code', 'education']]"
   ]
  },
  {
   "cell_type": "code",
   "execution_count": 30,
   "id": "3d8d0bc3",
   "metadata": {
    "colab": {
     "base_uri": "https://localhost:8080/",
     "height": 424
    },
    "id": "3d8d0bc3",
    "outputId": "26e8ead7-8279-4d4c-9257-9bf678472946"
   },
   "outputs": [
    {
     "data": {
      "text/html": [
       "<div>\n",
       "<style scoped>\n",
       "    .dataframe tbody tr th:only-of-type {\n",
       "        vertical-align: middle;\n",
       "    }\n",
       "\n",
       "    .dataframe tbody tr th {\n",
       "        vertical-align: top;\n",
       "    }\n",
       "\n",
       "    .dataframe thead th {\n",
       "        text-align: right;\n",
       "    }\n",
       "</style>\n",
       "<table border=\"1\" class=\"dataframe\">\n",
       "  <thead>\n",
       "    <tr style=\"text-align: right;\">\n",
       "      <th></th>\n",
       "      <th>age</th>\n",
       "      <th>occupation_code_main</th>\n",
       "      <th>occupation_code</th>\n",
       "      <th>education</th>\n",
       "    </tr>\n",
       "  </thead>\n",
       "  <tbody>\n",
       "    <tr>\n",
       "      <th>2</th>\n",
       "      <td>21</td>\n",
       "      <td>Adm support including clerical</td>\n",
       "      <td>26</td>\n",
       "      <td>12th grade no diploma</td>\n",
       "    </tr>\n",
       "    <tr>\n",
       "      <th>5</th>\n",
       "      <td>45</td>\n",
       "      <td>Other service</td>\n",
       "      <td>31</td>\n",
       "      <td>Bachelors degree(BA AB BS)</td>\n",
       "    </tr>\n",
       "    <tr>\n",
       "      <th>6</th>\n",
       "      <td>53</td>\n",
       "      <td>Executive admin and managerial</td>\n",
       "      <td>2</td>\n",
       "      <td>High school graduate</td>\n",
       "    </tr>\n",
       "    <tr>\n",
       "      <th>7</th>\n",
       "      <td>22</td>\n",
       "      <td>Sales</td>\n",
       "      <td>17</td>\n",
       "      <td>High school graduate</td>\n",
       "    </tr>\n",
       "    <tr>\n",
       "      <th>9</th>\n",
       "      <td>22</td>\n",
       "      <td>Machine operators assmblrs &amp; inspctrs</td>\n",
       "      <td>36</td>\n",
       "      <td>11th grade</td>\n",
       "    </tr>\n",
       "    <tr>\n",
       "      <th>...</th>\n",
       "      <td>...</td>\n",
       "      <td>...</td>\n",
       "      <td>...</td>\n",
       "      <td>...</td>\n",
       "    </tr>\n",
       "    <tr>\n",
       "      <th>209490</th>\n",
       "      <td>23</td>\n",
       "      <td>Professional specialty</td>\n",
       "      <td>4</td>\n",
       "      <td>Bachelors degree(BA AB BS)</td>\n",
       "    </tr>\n",
       "    <tr>\n",
       "      <th>209491</th>\n",
       "      <td>65</td>\n",
       "      <td>Adm support including clerical</td>\n",
       "      <td>26</td>\n",
       "      <td>Bachelors degree(BA AB BS)</td>\n",
       "    </tr>\n",
       "    <tr>\n",
       "      <th>209493</th>\n",
       "      <td>26</td>\n",
       "      <td>Other service</td>\n",
       "      <td>31</td>\n",
       "      <td>Associates degree-occup /vocational</td>\n",
       "    </tr>\n",
       "    <tr>\n",
       "      <th>209497</th>\n",
       "      <td>26</td>\n",
       "      <td>Handlers equip cleaners etc</td>\n",
       "      <td>42</td>\n",
       "      <td>Some college but no degree</td>\n",
       "    </tr>\n",
       "    <tr>\n",
       "      <th>209498</th>\n",
       "      <td>19</td>\n",
       "      <td>Adm support including clerical</td>\n",
       "      <td>26</td>\n",
       "      <td>11th grade</td>\n",
       "    </tr>\n",
       "  </tbody>\n",
       "</table>\n",
       "<p>103805 rows × 4 columns</p>\n",
       "</div>"
      ],
      "text/plain": [
       "        age                   occupation_code_main  occupation_code  \\\n",
       "2        21         Adm support including clerical               26   \n",
       "5        45                          Other service               31   \n",
       "6        53         Executive admin and managerial                2   \n",
       "7        22                                  Sales               17   \n",
       "9        22  Machine operators assmblrs & inspctrs               36   \n",
       "...     ...                                    ...              ...   \n",
       "209490   23                 Professional specialty                4   \n",
       "209491   65         Adm support including clerical               26   \n",
       "209493   26                          Other service               31   \n",
       "209497   26            Handlers equip cleaners etc               42   \n",
       "209498   19         Adm support including clerical               26   \n",
       "\n",
       "                                  education  \n",
       "2                     12th grade no diploma  \n",
       "5                Bachelors degree(BA AB BS)  \n",
       "6                      High school graduate  \n",
       "7                      High school graduate  \n",
       "9                                11th grade  \n",
       "...                                     ...  \n",
       "209490           Bachelors degree(BA AB BS)  \n",
       "209491           Bachelors degree(BA AB BS)  \n",
       "209493  Associates degree-occup /vocational  \n",
       "209497           Some college but no degree  \n",
       "209498                           11th grade  \n",
       "\n",
       "[103805 rows x 4 columns]"
      ]
     },
     "execution_count": 30,
     "metadata": {},
     "output_type": "execute_result"
    }
   ],
   "source": [
    "# Display the rows with null values in the 'occupation_code_main' column\n",
    "not_null_occupation = train_df[train_df[\"occupation_code_main\"].notnull()]\n",
    "\n",
    "# Display specific columns in the DataFrame\n",
    "not_null_occupation[['age', 'occupation_code_main', 'occupation_code', 'education']]"
   ]
  },
  {
   "cell_type": "code",
   "execution_count": 31,
   "id": "cbf5a051",
   "metadata": {
    "colab": {
     "base_uri": "https://localhost:8080/"
    },
    "id": "cbf5a051",
    "outputId": "a335ad5d-3607-4182-c70d-25e4343ba1e0"
   },
   "outputs": [
    {
     "data": {
      "text/plain": [
       "array([26, 31,  2, 17, 36, 33,  8, 10, 40, 29, 39, 23, 34, 43, 38,  3, 35,\n",
       "       19, 25, 27, 24, 30,  1, 32, 15,  5, 28, 37, 12,  4, 16,  7, 14, 44,\n",
       "       18, 13,  9, 42, 21, 41, 22, 11, 45,  6, 20, 46], dtype=int64)"
      ]
     },
     "execution_count": 31,
     "metadata": {},
     "output_type": "execute_result"
    }
   ],
   "source": [
    "not_null_occupation['occupation_code'].unique()"
   ]
  },
  {
   "cell_type": "code",
   "execution_count": 32,
   "id": "57efffed",
   "metadata": {
    "colab": {
     "base_uri": "https://localhost:8080/"
    },
    "id": "57efffed",
    "outputId": "44c141e1-9a3d-4293-bc7f-4418fe01204f"
   },
   "outputs": [
    {
     "data": {
      "text/plain": [
       "array([0], dtype=int64)"
      ]
     },
     "execution_count": 32,
     "metadata": {},
     "output_type": "execute_result"
    }
   ],
   "source": [
    "null_occupation['occupation_code'].unique()"
   ]
  },
  {
   "cell_type": "markdown",
   "id": "3d61c660",
   "metadata": {
    "id": "3d61c660"
   },
   "source": [
    "We cannot use the 'occupation_code' column to use the not_null_occupation dataframe to map the missing values of the 'occupation_code_main' column in the null_occupation dataframe. This is because all the missing values have '0' as their occupation_code which is not present in the not_null_occupation dataframe."
   ]
  },
  {
   "cell_type": "code",
   "execution_count": 33,
   "id": "69a9426c",
   "metadata": {
    "colab": {
     "base_uri": "https://localhost:8080/"
    },
    "id": "69a9426c",
    "outputId": "5e01348a-9180-46fa-84d7-917df625d8d7"
   },
   "outputs": [
    {
     "name": "stdout",
     "output_type": "stream",
     "text": [
      "Missing values in 'occupation_code_main' for the train dataframe after imputation: 0\n",
      "Missing values in 'occupation_code_main' for the test dataframe after imputation: 0\n"
     ]
    }
   ],
   "source": [
    "# Replace remaining null values in 'occupation_code_main' column with 'Unknown' for both train and test dataframes\n",
    "train_df['occupation_code_main'].fillna('Unknown', inplace=True)\n",
    "test_df['occupation_code_main'].fillna('Unknown', inplace=True)\n",
    "\n",
    "# Check missing values in 'occupation_code_main' column after imputation for both dataframes\n",
    "missing_values_after_train = train_df['occupation_code_main'].isnull().sum()\n",
    "missing_values_after_test = test_df['occupation_code_main'].isnull().sum()\n",
    "\n",
    "# Check missing values in 'occupation_code_main' column\n",
    "print(f\"Missing values in 'occupation_code_main' for the train dataframe after imputation: {missing_values_after_train}\")\n",
    "print(f\"Missing values in 'occupation_code_main' for the test dataframe after imputation: {missing_values_after_test}\")"
   ]
  },
  {
   "cell_type": "markdown",
   "id": "5bbde99c",
   "metadata": {
    "id": "5bbde99c"
   },
   "source": [
    "##### `country_of_birth_own`, `country_of_birth_father`, and `country_of_birth_mother`\n",
    "\n",
    "- **Handling Strategy:** Given that these columns have a relatively low percentage of missing values (approximately 1.66%, 3.30%, and 2.98% respectively), we can consider imputing the missing values using mode imputation. This means replacing the missing values in each column with the most common value observed in that specific column. Mode imputation is suitable for these columns as it retains the existing distribution of values while filling in the gaps."
   ]
  },
  {
   "cell_type": "code",
   "execution_count": 34,
   "id": "18b038bb",
   "metadata": {
    "id": "18b038bb"
   },
   "outputs": [],
   "source": [
    "# Columns to impute using mode imputation\n",
    "columns_to_impute = ['country_of_birth_own', 'country_of_birth_father', 'country_of_birth_mother']\n",
    "\n",
    "# Loop through the specified columns and perform mode imputation for the train dataset\n",
    "for column in columns_to_impute:\n",
    "    mode_value_train = train_df[column].mode()[0]\n",
    "    train_df[column].fillna(mode_value_train, inplace=True)\n",
    "\n",
    "# Perform mode imputation for the test dataset\n",
    "for column in columns_to_impute:\n",
    "    mode_value_test = test_df[column].mode()[0]\n",
    "    test_df[column].fillna(mode_value_test, inplace=True)"
   ]
  },
  {
   "cell_type": "markdown",
   "id": "819382f1",
   "metadata": {
    "id": "819382f1"
   },
   "source": [
    "##### `migration_code_change_in_msa`, `migration_code_move_within_reg`, `migration_code_change_in_reg`, and `residence_1_year_ago`\n",
    "\n",
    "- These columns have a relatively high percentage of missing values (around 50.73 for the train_df and 50.78% for the test_df).\n",
    "- **Handling Strategy:** We need to check whether the columns are relevant for our analysis before going ahead with an appropriate imputation strategy."
   ]
  },
  {
   "cell_type": "code",
   "execution_count": 35,
   "id": "0cc3d056",
   "metadata": {
    "colab": {
     "base_uri": "https://localhost:8080/"
    },
    "id": "0cc3d056",
    "outputId": "ea18c7bc-0e17-4bdc-9acb-356f92549db8"
   },
   "outputs": [
    {
     "name": "stdout",
     "output_type": "stream",
     "text": [
      "Unique values for 'migration_code_change_in_msa': [nan 'unchanged' 'MSA to MSA' 'NonMSA to nonMSA' 'MSA to nonMSA'\n",
      " 'Not identifiable' 'NonMSA to MSA' 'Abroad to MSA' 'Abroad to nonMSA']\n",
      "==============================================================================\n",
      "\n",
      "Unique values for 'migration_code_move_within_reg': [nan 'unchanged' 'Same county' 'Different state in South'\n",
      " 'Different county same state' 'Different state in West'\n",
      " 'Different state in Northeast' 'Abroad' 'Different state in Midwest']\n",
      "==============================================================================\n",
      "\n",
      "Unique values for 'migration_code_change_in_reg': [nan 'unchanged' 'Same county' 'Different state same division'\n",
      " 'Different county same state' 'Different region' 'Abroad'\n",
      " 'Different division same region']\n",
      "==============================================================================\n",
      "\n",
      "Unique values for 'residence_1_year_ago': [nan 'Same' 'No']\n",
      "==============================================================================\n",
      "\n"
     ]
    }
   ],
   "source": [
    "# Assess the relevance of the columns\n",
    "relevant_columns = ['migration_code_change_in_msa', 'migration_code_move_within_reg', 'migration_code_change_in_reg', 'residence_1_year_ago']\n",
    "\n",
    "for column in relevant_columns:\n",
    "    # Check unique values to assess relevance\n",
    "    unique_values = train_df[column].unique()\n",
    "    print(f\"Unique values for '{column}': {unique_values}\")\n",
    "    print('===' * 26)\n",
    "    print()"
   ]
  },
  {
   "cell_type": "code",
   "execution_count": 36,
   "id": "956a43e4",
   "metadata": {
    "id": "956a43e4"
   },
   "outputs": [],
   "source": [
    "# List of columns to drop\n",
    "columns_to_drop = ['migration_code_change_in_msa', 'migration_code_move_within_reg', 'migration_code_change_in_reg', 'residence_1_year_ago']\n",
    "\n",
    "# Drop the specified columns from the train DataFrame\n",
    "train_df.drop(columns=columns_to_drop, inplace=True)\n",
    "\n",
    "# Drop the specified columns from the test DataFrame\n",
    "test_df.drop(columns=columns_to_drop, inplace=True)"
   ]
  },
  {
   "cell_type": "markdown",
   "id": "3c58f93e",
   "metadata": {
    "id": "3c58f93e"
   },
   "source": [
    "- The decision to drop the columns 'migration_code_change_in_msa,' 'migration_code_move_within_reg,' 'migration_code_change_in_reg,' and 'residence_1_year_ago' is supported by the unique values observed in these columns.\n",
    "\n",
    "- Given the high percentage of missing values and the nature of the unique values, it is unlikely that these columns will significantly impact the prediction of an individual's income.\n",
    "\n",
    "- The unique values are either missing, indicating an unchanged status, or showing various types of transitions in residence, which may not provide meaningful information for predicting income.\n",
    "\n",
    "- Consequently, removing these columns is a logical step to streamline the dataset and enhance the accuracy and interpretability of the analysis or predictive model."
   ]
  },
  {
   "cell_type": "code",
   "execution_count": 37,
   "id": "e8ffef5b",
   "metadata": {
    "colab": {
     "base_uri": "https://localhost:8080/"
    },
    "id": "e8ffef5b",
    "outputId": "f2df0b1f-2cf1-4f33-9aaf-722764bf0c1c"
   },
   "outputs": [
    {
     "name": "stdout",
     "output_type": "stream",
     "text": [
      "Number of missing values in 'train_df': 0\n",
      "Number of missing values in 'test_df': 0\n"
     ]
    }
   ],
   "source": [
    "# Confirm if there are any missing values left in the train and test datasets.\n",
    "# Calculate the number of missing values in the 'train_df' and 'test_df' dataframes\n",
    "missing_values_train = train_df.isnull().sum().sum()\n",
    "missing_values_test = test_df.isnull().sum().sum()\n",
    "\n",
    "# Print the number of missing values\n",
    "print(f\"Number of missing values in 'train_df': {missing_values_train}\")\n",
    "print(f\"Number of missing values in 'test_df': {missing_values_test}\")"
   ]
  },
  {
   "cell_type": "markdown",
   "id": "5737078e",
   "metadata": {
    "id": "5737078e"
   },
   "source": [
    "We have handled all the missing values in the train and test datasets."
   ]
  },
  {
   "cell_type": "markdown",
   "id": "d8b54f08",
   "metadata": {
    "id": "d8b54f08"
   },
   "source": [
    "# Univariate, Bivariate and Multivariate Analysis"
   ]
  },
  {
   "cell_type": "markdown",
   "id": "b7317caa",
   "metadata": {
    "id": "b7317caa"
   },
   "source": [
    "## Univariate Analysis"
   ]
  },
  {
   "cell_type": "code",
   "execution_count": 38,
   "id": "c3b3b614",
   "metadata": {
    "colab": {
     "base_uri": "https://localhost:8080/",
     "height": 522
    },
    "id": "c3b3b614",
    "outputId": "23abbb9b-7327-4d82-9fc9-ade2cb2279a8"
   },
   "outputs": [
    {
     "data": {
      "image/png": "[encoded data removed]",
      "text/plain": [
       "<Figure size 800x500 with 1 Axes>"
      ]
     },
     "metadata": {},
     "output_type": "display_data"
    },
    {
     "name": "stdout",
     "output_type": "stream",
     "text": [
      "Insights for the Distribution of Sepsiss:\n",
      "- There are 12998 participants with income above 50k (Above Limit) and 196501 below 50k (Below Limit).\n"
     ]
    }
   ],
   "source": [
    "# Mapping the values in the target column\n",
    "train_df['income_above_limit'] = train_df['income_above_limit'].map({'Below limit': 0, 'Above limit': 1})\n",
    "\n",
    "# Plot the distribution of The Target Column\n",
    "plt.figure(figsize=(8, 5))\n",
    "sns.countplot(data=train_df, x='income_above_limit', palette='viridis')\n",
    "plt.title('Distribution of Target Variable(income_above_limit)')\n",
    "plt.xlabel('income_above_limit')\n",
    "plt.ylabel('Count')\n",
    "plt.show()\n",
    "\n",
    "\n",
    "# Insights\n",
    "income_counts = train_df['income_above_limit'].value_counts()\n",
    "print(\"Insights for the Distribution of Sepsiss:\")\n",
    "print(f\"- There are {income_counts[1]} participants with income above 50k (Above Limit) and {income_counts[0]} below 50k (Below Limit).\")"
   ]
  },
  {
   "cell_type": "markdown",
   "id": "04d86f8e",
   "metadata": {
    "id": "04d86f8e"
   },
   "source": [
    "This reveals a significant class imbalance, with a relatively small number of participants in the high-income category compared to the low-income category. This significant disparity in class distribution may have implications for modeling and predictive accuracy. Class imbalances can lead to models that are biased toward the majority class, potentially impacting the model's ability to accurately predict the minority class (Above Limit). Addressing this class imbalance through techniques like oversampling, undersampling, or using appropriate evaluation metrics will be important in building a robust income prediction model."
   ]
  },
  {
   "cell_type": "markdown",
   "id": "9eb3369c",
   "metadata": {
    "id": "9eb3369c"
   },
   "source": [
    "# Feature Engineering"
   ]
  },
  {
   "cell_type": "code",
   "execution_count": 39,
   "id": "65b65494",
   "metadata": {
    "colab": {
     "base_uri": "https://localhost:8080/"
    },
    "id": "65b65494",
    "outputId": "63d8563d-35a0-4885-a669-49d0340055cf",
    "scrolled": false
   },
   "outputs": [
    {
     "name": "stdout",
     "output_type": "stream",
     "text": [
      "Unique values for 'ID': ['ID_TZ0000' 'ID_TZ0001' 'ID_TZ0002' ... 'ID_TZ99997' 'ID_TZ99998'\n",
      " 'ID_TZ99999']\n",
      "==============================================================================\n",
      "\n",
      "Unique values for 'age': [79 65 21  2 70 45 53 22 73 30  4 16 43 36  5 88 40 47 59 69 50 27 39 85\n",
      " 29 41 14 33 67 52 11  9 13 19 26 23 37 58 63 46 62 28 31  3 18 78 15 38\n",
      "  7 35  1 20  0 48 24 56 25  8 66 71 32 75 51 10 44 42 55 74 77 34 80 17\n",
      " 83 86 12 68 60 57 64 72 90 61 82  6 84 49 76 54 89 81 87]\n",
      "==============================================================================\n",
      "\n",
      "Unique values for 'gender': ['Female' 'Male']\n",
      "==============================================================================\n",
      "\n",
      "Unique values for 'education': ['High school graduate' '12th grade no diploma' 'Children'\n",
      " 'Bachelors degree(BA AB BS)' '7th and 8th grade' '11th grade' '9th grade'\n",
      " 'Masters degree(MA MS MEng MEd MSW MBA)' '10th grade'\n",
      " 'Associates degree-academic program' '1st 2nd 3rd or 4th grade'\n",
      " 'Some college but no degree' 'Less than 1st grade'\n",
      " 'Associates degree-occup /vocational'\n",
      " 'Prof school degree (MD DDS DVM LLB JD)' '5th or 6th grade'\n",
      " 'Doctorate degree(PhD EdD)']\n",
      "==============================================================================\n",
      "\n",
      "Unique values for 'class': ['Private' 'Federal government' 'Local government'\n",
      " 'Self-employed-incorporated' 'Self-employed-not incorporated'\n",
      " 'State government' 'Without pay' 'Never worked']\n",
      "==============================================================================\n",
      "\n",
      "Unique values for 'marital_status': ['Widowed' 'Never married' 'Married-civilian spouse present' 'Divorced'\n",
      " 'Married-spouse absent' 'Separated' 'Married-A F spouse present']\n",
      "==============================================================================\n",
      "\n",
      "Unique values for 'race': ['White' 'Black' 'Asian or Pacific Islander' 'Amer Indian Aleut or Eskimo'\n",
      " 'Other']\n",
      "==============================================================================\n",
      "\n",
      "Unique values for 'is_hispanic': ['All other' 'Mexican-American' 'Central or South American'\n",
      " 'Mexican (Mexicano)' 'Puerto Rican' 'Other Spanish' 'NA' 'Cuban'\n",
      " 'Do not know' 'Chicano']\n",
      "==============================================================================\n",
      "\n",
      "Unique values for 'employment_commitment': ['Not in labor force' 'Children or Armed Forces' 'Full-time schedules'\n",
      " 'PT for econ reasons usually PT' 'Unemployed full-time'\n",
      " 'PT for non-econ reasons usually FT' 'PT for econ reasons usually FT'\n",
      " 'Unemployed part- time']\n",
      "==============================================================================\n",
      "\n",
      "Unique values for 'employment_stat': [0 2 1]\n",
      "==============================================================================\n",
      "\n",
      "Unique values for 'wage_per_hour': [   0  500  825 ... 1949 1495  557]\n",
      "==============================================================================\n",
      "\n",
      "Unique values for 'working_week_per_year': [52  0 15  1 48 39 37 32 51 49 42 26 47  4 16 30 20 36 28 19 45  8 50 46\n",
      "  9 40 18 25 38 12 44  5 35  2 10 34  6 24  3 41 14 43 13 17 21 22 33 23\n",
      "  7 29 27 11 31]\n",
      "==============================================================================\n",
      "\n",
      "Unique values for 'industry_code': [ 0 41 33 35 22 29 38 42 43  4  8 50  5 23  2 37 34 45  3 31 36  1 47 39\n",
      " 19 32 25  6 30 15 16 24 40 48 27 44  9 12 11 21 17 28  7 13 14 18 49 20\n",
      " 26 46 51 10]\n",
      "==============================================================================\n",
      "\n",
      "Unique values for 'industry_code_main': ['Not in universe or children' 'Hospital services' 'Retail trade'\n",
      " 'Finance insurance and real estate' 'Manufacturing-nondurable goods'\n",
      " 'Transportation' 'Business and repair services' 'Medical except hospital'\n",
      " 'Education' 'Construction' 'Manufacturing-durable goods'\n",
      " 'Public administration' 'Agriculture' 'Other professional services'\n",
      " 'Mining' 'Utilities and sanitary services' 'Private household services'\n",
      " 'Personal services except private HH' 'Wholesale trade' 'Communications'\n",
      " 'Entertainment' 'Social services' 'Forestry and fisheries' 'Armed Forces']\n",
      "==============================================================================\n",
      "\n",
      "Unique values for 'occupation_code': [ 0 26 31  2 17 36 33  8 10 40 29 39 23 34 43 38  3 35 19 25 27 24 30  1\n",
      " 32 15  5 28 37 12  4 16  7 14 44 18 13  9 42 21 41 22 11 45  6 20 46]\n",
      "==============================================================================\n",
      "\n",
      "Unique values for 'occupation_code_main': ['Unknown' 'Adm support including clerical' 'Other service'\n",
      " 'Executive admin and managerial' 'Sales'\n",
      " 'Machine operators assmblrs & inspctrs'\n",
      " 'Precision production craft & repair' 'Professional specialty'\n",
      " 'Handlers equip cleaners etc' 'Transportation and material moving'\n",
      " 'Farming forestry and fishing' 'Private household services'\n",
      " 'Technicians and related support' 'Protective services' 'Armed Forces']\n",
      "==============================================================================\n",
      "\n",
      "Unique values for 'total_employed': [2 0 4 6 1 3 5]\n",
      "==============================================================================\n",
      "\n",
      "Unique values for 'household_stat': ['Householder' 'Nonfamily householder'\n",
      " 'Child 18+ never marr Not in a subfamily'\n",
      " 'Child <18 never marr not in subfamily' 'Spouse of householder'\n",
      " 'Child 18+ spouse of subfamily RP' 'Secondary individual'\n",
      " 'Child 18+ never marr RP of subfamily'\n",
      " 'Other Rel 18+ spouse of subfamily RP'\n",
      " 'Grandchild <18 never marr not in subfamily'\n",
      " 'Other Rel <18 never marr child of subfamily RP'\n",
      " 'Other Rel 18+ ever marr RP of subfamily'\n",
      " 'Other Rel 18+ ever marr not in subfamily'\n",
      " 'Child 18+ ever marr Not in a subfamily' 'RP of unrelated subfamily'\n",
      " 'Child 18+ ever marr RP of subfamily'\n",
      " 'Other Rel 18+ never marr not in subfamily'\n",
      " 'Child under 18 of RP of unrel subfamily'\n",
      " 'Grandchild <18 never marr child of subfamily RP'\n",
      " 'Grandchild 18+ never marr not in subfamily'\n",
      " 'Other Rel <18 never marr not in subfamily' 'In group quarters'\n",
      " 'Grandchild 18+ ever marr not in subfamily'\n",
      " 'Other Rel 18+ never marr RP of subfamily'\n",
      " 'Child <18 never marr RP of subfamily'\n",
      " 'Grandchild 18+ never marr RP of subfamily'\n",
      " 'Spouse of RP of unrelated subfamily'\n",
      " 'Grandchild 18+ ever marr RP of subfamily'\n",
      " 'Child <18 ever marr not in subfamily'\n",
      " 'Child <18 ever marr RP of subfamily'\n",
      " 'Other Rel <18 ever marr RP of subfamily'\n",
      " 'Grandchild 18+ spouse of subfamily RP'\n",
      " 'Child <18 spouse of subfamily RP'\n",
      " 'Other Rel <18 ever marr not in subfamily'\n",
      " 'Other Rel <18 never married RP of subfamily'\n",
      " 'Other Rel <18 spouse of subfamily RP'\n",
      " 'Grandchild <18 ever marr not in subfamily'\n",
      " 'Grandchild <18 never marr RP of subfamily']\n",
      "==============================================================================\n",
      "\n",
      "Unique values for 'household_summary': ['Householder' 'Child 18 or older' 'Child under 18 never married'\n",
      " 'Spouse of householder' 'Nonrelative of householder'\n",
      " 'Other relative of householder' 'Group Quarters- Secondary individual'\n",
      " 'Child under 18 ever married']\n",
      "==============================================================================\n",
      "\n",
      "Unique values for 'vet_benefit': [2 0 1]\n",
      "==============================================================================\n",
      "\n",
      "Unique values for 'tax_status': ['Head of household' 'Single' 'Nonfiler' 'Joint both 65+'\n",
      " 'Joint both under 65' 'Joint one under 65 & one 65+']\n",
      "==============================================================================\n",
      "\n",
      "Unique values for 'gains': [    0   991  2964  7688 99999  1848  7298  4508 15024  2290   114  3674\n",
      " 14344 20051  6849  1173  2414 10605  5178  1409 25124 11678   594  4650\n",
      "  7896  3411  2062  5060  3908   401 15020  4787  4386  3103  2329  1506\n",
      "   914  6514  6767 18481  2228  1086  1455 14084 10520  3471  4101  4064\n",
      "  2635  2829  8614 15831  2597 27828  2407 10566  7443  2354  5013  4934\n",
      "  1831  3325  2993  3418  3942  2907  2346  7262  4416  2176  2885  1055\n",
      "  5721  1424  3273  1797  9386  3464  2580  2174  2009  3137  6097  6418\n",
      "  3432 13550  4865 22040  2936  2050  6497  2977  5455  9562  3887  2105\n",
      "  1151  4931  2538  7978  2202  1264  2653  7430  3818  3781  3456  2774\n",
      "  6612  5556  4687  2463  6723  1111  2961 25236  6360  2387  1471 34095\n",
      "  3800  4594 41310  2227  1140  2601  2036  1090  8530  1731  1639  2098]\n",
      "==============================================================================\n",
      "\n",
      "Unique values for 'losses': [   0 2001 1977 2002 1408  625 1848 2415 1340 1672 1602 2206 1902 1740\n",
      " 2339 1411 1887 2258 1741 2559 2444 2704 1579 1138 1504 3004 2377 1485\n",
      " 1721 1669 3770  880 1668 2547 2042 2149  419 1974 2057 1628 1092 1590\n",
      " 2051 1980 2603 1825  323 1876 3500 4356 2267 2163 1719 2179 2824 1573\n",
      " 1594 1651 1617  213 1258 1648 1436 1844 2027 1421 2246 1564 2129 1429\n",
      " 1755 2205 2788 1539 2174 3900 2457 2489 2392 1816 2090 2754 1735 2231\n",
      " 3175  810 2597 2467 2282 1944  653 1762 1021 2352 1510 1870 2238 1911\n",
      " 2722 1380  772 3683  974 4608 1726 2201  155 2080 1956 2472 1640 2465\n",
      " 2519 2769]\n",
      "==============================================================================\n",
      "\n",
      "Unique values for 'stocks_status': [ 292    0  400 ... 5531 5149 3508]\n",
      "==============================================================================\n",
      "\n",
      "Unique values for 'citizenship': ['Native' 'Foreign born- Not a citizen of U S'\n",
      " 'Foreign born- U S citizen by naturalization'\n",
      " 'Native- Born abroad of American Parent(s)'\n",
      " 'Native- Born in Puerto Rico or U S Outlying']\n",
      "==============================================================================\n",
      "\n",
      "Unique values for 'mig_year': [95 94]\n",
      "==============================================================================\n",
      "\n",
      "Unique values for 'country_of_birth_own': ['US' 'El-Salvador' 'Mexico' 'Philippines' 'Cambodia' 'China' 'Hungary'\n",
      " 'Puerto-Rico' 'England' 'Dominican-Republic' 'Japan' 'Canada' 'Ecuador'\n",
      " 'Italy' 'Cuba' 'Peru' 'Taiwan' 'South Korea' 'Poland' 'Nicaragua'\n",
      " 'Germany' 'Guatemala' 'India' 'Ireland' 'Honduras' 'France'\n",
      " 'Trinadad&Tobago' 'Thailand' 'Iran' 'Vietnam' 'Portugal' 'Laos' 'Panama'\n",
      " 'Scotland' 'Columbia' 'Jamaica' 'Greece' 'Haiti' 'Yugoslavia'\n",
      " 'Outlying-U S (Guam USVI etc)' 'Holand-Netherlands' 'Hong Kong']\n",
      "==============================================================================\n",
      "\n",
      "Unique values for 'country_of_birth_father': ['US' 'India' 'Poland' 'Germany' 'El-Salvador' 'Mexico' 'Puerto-Rico'\n",
      " 'Philippines' 'Greece' 'Canada' 'Ireland' 'Cambodia' 'Ecuador' 'China'\n",
      " 'Hungary' 'Dominican-Republic' 'Japan' 'Italy' 'Cuba' 'Peru' 'Jamaica'\n",
      " 'South Korea' 'Yugoslavia' 'Nicaragua' 'Columbia' 'Guatemala' 'France'\n",
      " 'England' 'Iran' 'Honduras' 'Haiti' 'Trinadad&Tobago'\n",
      " 'Outlying-U S (Guam USVI etc)' 'Thailand' 'Vietnam' 'Hong Kong'\n",
      " 'Portugal' 'Laos' 'Scotland' 'Taiwan' 'Holand-Netherlands' 'Panama']\n",
      "==============================================================================\n",
      "\n",
      "Unique values for 'country_of_birth_mother': ['US' 'India' 'Peru' 'Germany' 'El-Salvador' 'Mexico' 'Puerto-Rico'\n",
      " 'Philippines' 'Canada' 'France' 'Cambodia' 'Italy' 'Ecuador' 'China'\n",
      " 'Hungary' 'Dominican-Republic' 'Japan' 'England' 'Cuba' 'Poland'\n",
      " 'South Korea' 'Yugoslavia' 'Scotland' 'Nicaragua' 'Guatemala'\n",
      " 'Holand-Netherlands' 'Greece' 'Ireland' 'Honduras' 'Haiti'\n",
      " 'Outlying-U S (Guam USVI etc)' 'Trinadad&Tobago' 'Thailand' 'Jamaica'\n",
      " 'Iran' 'Vietnam' 'Columbia' 'Portugal' 'Laos' 'Taiwan' 'Hong Kong'\n",
      " 'Panama']\n",
      "==============================================================================\n",
      "\n",
      "Unique values for 'importance_of_record': [1779.74 2366.75 1693.42 ... 1454.52 2170.6   791.61]\n",
      "==============================================================================\n",
      "\n",
      "Unique values for 'income_above_limit': [0 1]\n",
      "==============================================================================\n",
      "\n"
     ]
    }
   ],
   "source": [
    "# Check for the unique values of the columns\n",
    "for column in train_df:\n",
    "    # Check unique values to assess relevance\n",
    "    unique_values = train_df[column].unique()\n",
    "    print(f\"Unique values for '{column}': {unique_values}\")\n",
    "    print('===' * 26)\n",
    "    print()"
   ]
  },
  {
   "cell_type": "markdown",
   "id": "pp9voBcpOG5g",
   "metadata": {
    "id": "pp9voBcpOG5g"
   },
   "source": [
    "## Rename Class Column to worker_class"
   ]
  },
  {
   "cell_type": "code",
   "execution_count": 40,
   "id": "VUnhplTsNE57",
   "metadata": {
    "id": "VUnhplTsNE57"
   },
   "outputs": [],
   "source": [
    "# Rename the column in train_df\n",
    "train_df = train_df.rename(columns={'class': 'worker_class'})\n",
    "\n",
    "# Rename the column in test_df\n",
    "test_df = test_df.rename(columns={'class': 'worker_class'})"
   ]
  },
  {
   "cell_type": "markdown",
   "id": "f61d6720",
   "metadata": {
    "id": "f61d6720"
   },
   "source": [
    "## Missing Values Imputation"
   ]
  },
  {
   "cell_type": "code",
   "execution_count": 41,
   "id": "3c9ac435",
   "metadata": {
    "id": "3c9ac435"
   },
   "outputs": [],
   "source": [
    "# Calculate the mode of 'is_hispanic' column\n",
    "mode_value = train_df['is_hispanic'].mode()[0]\n",
    "\n",
    "# Replace 'NA' values with the mode\n",
    "train_df['is_hispanic'] = train_df['is_hispanic'].replace('NA', mode_value)\n",
    "test_df['is_hispanic'] = test_df['is_hispanic'].replace('NA', mode_value)"
   ]
  },
  {
   "cell_type": "code",
   "execution_count": 42,
   "id": "2f6b576c",
   "metadata": {
    "colab": {
     "base_uri": "https://localhost:8080/"
    },
    "id": "2f6b576c",
    "outputId": "f01722b7-7fe6-42b4-840f-ee6b621f0357"
   },
   "outputs": [
    {
     "data": {
      "text/plain": [
       "array(['All other', 'Mexican-American', 'Central or South American',\n",
       "       'Mexican (Mexicano)', 'Puerto Rican', 'Other Spanish', 'Cuban',\n",
       "       'Do not know', 'Chicano'], dtype=object)"
      ]
     },
     "execution_count": 42,
     "metadata": {},
     "output_type": "execute_result"
    }
   ],
   "source": [
    "train_df['is_hispanic'].unique()"
   ]
  },
  {
   "cell_type": "code",
   "execution_count": 43,
   "id": "3f2ba1e6",
   "metadata": {
    "colab": {
     "base_uri": "https://localhost:8080/"
    },
    "id": "3f2ba1e6",
    "outputId": "54679839-00e6-4a40-b68c-292f63225acd"
   },
   "outputs": [
    {
     "data": {
      "text/plain": [
       "array(['All other', 'Central or South American', 'Puerto Rican',\n",
       "       'Mexican (Mexicano)', 'Mexican-American', 'Chicano',\n",
       "       'Other Spanish', 'Cuban', 'Do not know'], dtype=object)"
      ]
     },
     "execution_count": 43,
     "metadata": {},
     "output_type": "execute_result"
    }
   ],
   "source": [
    "test_df['is_hispanic'].unique()"
   ]
  },
  {
   "cell_type": "markdown",
   "id": "207187d5",
   "metadata": {
    "id": "207187d5"
   },
   "source": [
    "## Feature Combination"
   ]
  },
  {
   "cell_type": "markdown",
   "id": "fd0e659b",
   "metadata": {
    "id": "fd0e659b"
   },
   "source": [
    "Feature combination is a valuable technique where new features are created by mathematically merging existing ones to capture relationships between variables and may simplify a dataset and highlight essential information. In our case, let's focus on the combining the 'gains' and 'losses' columns"
   ]
  },
  {
   "cell_type": "code",
   "execution_count": 44,
   "id": "23b91c9b",
   "metadata": {
    "id": "23b91c9b"
   },
   "outputs": [],
   "source": [
    "# # Feature Combination: Total Income\n",
    "# train_df['total_income'] = train_df['gains'] - train_df['losses']\n",
    "# test_df['total_income'] = test_df['gains'] - test_df['losses']"
   ]
  },
  {
   "cell_type": "markdown",
   "id": "0b84c2ff",
   "metadata": {
    "id": "0b84c2ff"
   },
   "source": [
    "The new feature created, \"total Income,\" is calculated by subtracting 'losses' from 'gains.' This combination results in a 'total_income' feature in both the train_df and test_df, representing net income by considering both gains and losses."
   ]
  },
  {
   "cell_type": "markdown",
   "id": "9e10157b",
   "metadata": {
    "id": "9e10157b"
   },
   "source": [
    "## Creating new Features"
   ]
  },
  {
   "cell_type": "code",
   "execution_count": 45,
   "id": "d291f564",
   "metadata": {
    "id": "d291f564"
   },
   "outputs": [],
   "source": [
    "# # Creating 'born_in_us' feature\n",
    "# train_df['born_in_us'] = (train_df['country_of_birth_own'] == 'US').astype(int)\n",
    "# test_df['born_in_us'] = (test_df['country_of_birth_own'] == 'US').astype(int)"
   ]
  },
  {
   "cell_type": "markdown",
   "id": "79343397",
   "metadata": {
    "id": "79343397"
   },
   "source": [
    "We are introducing a binary feature named 'born_in_us' to indicate an individual's place of birth in the United States. This feature is coded as 1 for \"Yes\" (born in the US) and 0 for \"No\" (born outside the US). The 'born_in_us' feature carries significance in our income prediction task for several key reasons:\n",
    "\n",
    "- **Cultural and Language Differences:** People born in the US may have distinct cultural and language backgrounds, potentially influencing their job opportunities and income levels.\n",
    "\n",
    "\n",
    "- **Citizenship Status:** US-born individuals are more likely to be citizens, impacting job eligibility and government benefit entitlement, which can, in turn, affect income.\n",
    "\n",
    "\n",
    "- **Discrimination:** Discrimination based on nationality or ethnicity can play a role in income disparities. US-born individuals may encounter different forms of discrimination compared to immigrants.\n",
    "\n",
    "\n",
    "- **Education and Training:** Place of birth can shape an individual's access to education and training, directly influencing their income-earning potential.\n",
    "\n",
    "By incorporating the 'born_in_us' feature, our machine learning model gains the ability to capture these socio-economic dynamics, potentially enhancing the accuracy of income predictions. This feature aids the model in comprehending income variations based on an individual's birthplace."
   ]
  },
  {
   "cell_type": "markdown",
   "id": "c1c48b0e",
   "metadata": {
    "id": "c1c48b0e"
   },
   "source": [
    "## Drop Unncessary Columns"
   ]
  },
  {
   "cell_type": "code",
   "execution_count": 46,
   "id": "a0ed8fab",
   "metadata": {
    "id": "a0ed8fab"
   },
   "outputs": [],
   "source": [
    "# Create a copy of the dataframes\n",
    "train_df_final=train_df.copy()\n",
    "test_df_final=test_df.copy()\n",
    "\n",
    "# Drop Unnecessary Columns\n",
    "cols_to_drop = ['ID', 'country_of_birth_father', 'country_of_birth_mother']\n",
    "\n",
    "train_df_final = train_df_final.drop(columns=cols_to_drop)\n",
    "test_df_final = test_df_final .drop(columns=cols_to_drop)"
   ]
  },
  {
   "cell_type": "markdown",
   "id": "e75d1113",
   "metadata": {
    "id": "e75d1113"
   },
   "source": [
    "The columns \"country_of_birth_father,\" and \"country_of_birth_mother\" represent the birthplaces of different family members. While these columns might provide interesting demographic information, their impact on one's income is likely to be indirect. In other words, the specific country of birth of a person's parents may not directly determine their income. We drop the columns \"ID\", \"country_of_birth_father\" and \"country_of_birth_mother\" to simplify our analysis and reduce the risk of introducing unnecessary complexity in our model."
   ]
  },
  {
   "cell_type": "markdown",
   "id": "d36a84da",
   "metadata": {},
   "source": [
    "## Extract the target column and drop it from the train dataset"
   ]
  },
  {
   "cell_type": "code",
   "execution_count": 47,
   "id": "71dd9ba1",
   "metadata": {},
   "outputs": [
    {
     "data": {
      "text/html": [
       "<div>\n",
       "<style scoped>\n",
       "    .dataframe tbody tr th:only-of-type {\n",
       "        vertical-align: middle;\n",
       "    }\n",
       "\n",
       "    .dataframe tbody tr th {\n",
       "        vertical-align: top;\n",
       "    }\n",
       "\n",
       "    .dataframe thead th {\n",
       "        text-align: right;\n",
       "    }\n",
       "</style>\n",
       "<table border=\"1\" class=\"dataframe\">\n",
       "  <thead>\n",
       "    <tr style=\"text-align: right;\">\n",
       "      <th></th>\n",
       "      <th>income_above_limit</th>\n",
       "    </tr>\n",
       "  </thead>\n",
       "  <tbody>\n",
       "    <tr>\n",
       "      <th>0</th>\n",
       "      <td>0</td>\n",
       "    </tr>\n",
       "    <tr>\n",
       "      <th>1</th>\n",
       "      <td>0</td>\n",
       "    </tr>\n",
       "    <tr>\n",
       "      <th>2</th>\n",
       "      <td>0</td>\n",
       "    </tr>\n",
       "    <tr>\n",
       "      <th>3</th>\n",
       "      <td>0</td>\n",
       "    </tr>\n",
       "    <tr>\n",
       "      <th>4</th>\n",
       "      <td>0</td>\n",
       "    </tr>\n",
       "  </tbody>\n",
       "</table>\n",
       "</div>"
      ],
      "text/plain": [
       "   income_above_limit\n",
       "0                   0\n",
       "1                   0\n",
       "2                   0\n",
       "3                   0\n",
       "4                   0"
      ]
     },
     "execution_count": 47,
     "metadata": {},
     "output_type": "execute_result"
    }
   ],
   "source": [
    "# Extract the target column\n",
    "target_df = train_df_final['income_above_limit']\n",
    "target_df = pd.DataFrame(target_df)\n",
    "target_df.head()"
   ]
  },
  {
   "cell_type": "code",
   "execution_count": 48,
   "id": "4ead6347",
   "metadata": {},
   "outputs": [
    {
     "data": {
      "text/html": [
       "<div>\n",
       "<style scoped>\n",
       "    .dataframe tbody tr th:only-of-type {\n",
       "        vertical-align: middle;\n",
       "    }\n",
       "\n",
       "    .dataframe tbody tr th {\n",
       "        vertical-align: top;\n",
       "    }\n",
       "\n",
       "    .dataframe thead th {\n",
       "        text-align: right;\n",
       "    }\n",
       "</style>\n",
       "<table border=\"1\" class=\"dataframe\">\n",
       "  <thead>\n",
       "    <tr style=\"text-align: right;\">\n",
       "      <th></th>\n",
       "      <th>age</th>\n",
       "      <th>gender</th>\n",
       "      <th>education</th>\n",
       "      <th>worker_class</th>\n",
       "      <th>marital_status</th>\n",
       "      <th>race</th>\n",
       "      <th>is_hispanic</th>\n",
       "      <th>employment_commitment</th>\n",
       "      <th>employment_stat</th>\n",
       "      <th>wage_per_hour</th>\n",
       "      <th>...</th>\n",
       "      <th>household_summary</th>\n",
       "      <th>vet_benefit</th>\n",
       "      <th>tax_status</th>\n",
       "      <th>gains</th>\n",
       "      <th>losses</th>\n",
       "      <th>stocks_status</th>\n",
       "      <th>citizenship</th>\n",
       "      <th>mig_year</th>\n",
       "      <th>country_of_birth_own</th>\n",
       "      <th>importance_of_record</th>\n",
       "    </tr>\n",
       "  </thead>\n",
       "  <tbody>\n",
       "    <tr>\n",
       "      <th>0</th>\n",
       "      <td>79</td>\n",
       "      <td>Female</td>\n",
       "      <td>High school graduate</td>\n",
       "      <td>Private</td>\n",
       "      <td>Widowed</td>\n",
       "      <td>White</td>\n",
       "      <td>All other</td>\n",
       "      <td>Not in labor force</td>\n",
       "      <td>0</td>\n",
       "      <td>0</td>\n",
       "      <td>...</td>\n",
       "      <td>Householder</td>\n",
       "      <td>2</td>\n",
       "      <td>Head of household</td>\n",
       "      <td>0</td>\n",
       "      <td>0</td>\n",
       "      <td>292</td>\n",
       "      <td>Native</td>\n",
       "      <td>95</td>\n",
       "      <td>US</td>\n",
       "      <td>1779.74</td>\n",
       "    </tr>\n",
       "    <tr>\n",
       "      <th>1</th>\n",
       "      <td>65</td>\n",
       "      <td>Female</td>\n",
       "      <td>High school graduate</td>\n",
       "      <td>Private</td>\n",
       "      <td>Widowed</td>\n",
       "      <td>White</td>\n",
       "      <td>All other</td>\n",
       "      <td>Children or Armed Forces</td>\n",
       "      <td>0</td>\n",
       "      <td>0</td>\n",
       "      <td>...</td>\n",
       "      <td>Householder</td>\n",
       "      <td>2</td>\n",
       "      <td>Single</td>\n",
       "      <td>0</td>\n",
       "      <td>0</td>\n",
       "      <td>0</td>\n",
       "      <td>Native</td>\n",
       "      <td>94</td>\n",
       "      <td>US</td>\n",
       "      <td>2366.75</td>\n",
       "    </tr>\n",
       "    <tr>\n",
       "      <th>2</th>\n",
       "      <td>21</td>\n",
       "      <td>Male</td>\n",
       "      <td>12th grade no diploma</td>\n",
       "      <td>Federal government</td>\n",
       "      <td>Never married</td>\n",
       "      <td>Black</td>\n",
       "      <td>All other</td>\n",
       "      <td>Children or Armed Forces</td>\n",
       "      <td>0</td>\n",
       "      <td>500</td>\n",
       "      <td>...</td>\n",
       "      <td>Child 18 or older</td>\n",
       "      <td>2</td>\n",
       "      <td>Single</td>\n",
       "      <td>0</td>\n",
       "      <td>0</td>\n",
       "      <td>0</td>\n",
       "      <td>Native</td>\n",
       "      <td>94</td>\n",
       "      <td>US</td>\n",
       "      <td>1693.42</td>\n",
       "    </tr>\n",
       "    <tr>\n",
       "      <th>3</th>\n",
       "      <td>2</td>\n",
       "      <td>Female</td>\n",
       "      <td>Children</td>\n",
       "      <td>Private</td>\n",
       "      <td>Never married</td>\n",
       "      <td>Asian or Pacific Islander</td>\n",
       "      <td>All other</td>\n",
       "      <td>Children or Armed Forces</td>\n",
       "      <td>0</td>\n",
       "      <td>0</td>\n",
       "      <td>...</td>\n",
       "      <td>Child under 18 never married</td>\n",
       "      <td>0</td>\n",
       "      <td>Nonfiler</td>\n",
       "      <td>0</td>\n",
       "      <td>0</td>\n",
       "      <td>0</td>\n",
       "      <td>Native</td>\n",
       "      <td>94</td>\n",
       "      <td>US</td>\n",
       "      <td>1380.27</td>\n",
       "    </tr>\n",
       "    <tr>\n",
       "      <th>4</th>\n",
       "      <td>70</td>\n",
       "      <td>Male</td>\n",
       "      <td>High school graduate</td>\n",
       "      <td>Private</td>\n",
       "      <td>Married-civilian spouse present</td>\n",
       "      <td>White</td>\n",
       "      <td>All other</td>\n",
       "      <td>Not in labor force</td>\n",
       "      <td>0</td>\n",
       "      <td>0</td>\n",
       "      <td>...</td>\n",
       "      <td>Spouse of householder</td>\n",
       "      <td>2</td>\n",
       "      <td>Joint both 65+</td>\n",
       "      <td>0</td>\n",
       "      <td>0</td>\n",
       "      <td>0</td>\n",
       "      <td>Native</td>\n",
       "      <td>95</td>\n",
       "      <td>US</td>\n",
       "      <td>1580.79</td>\n",
       "    </tr>\n",
       "  </tbody>\n",
       "</table>\n",
       "<p>5 rows × 27 columns</p>\n",
       "</div>"
      ],
      "text/plain": [
       "   age  gender              education        worker_class  \\\n",
       "0   79  Female   High school graduate             Private   \n",
       "1   65  Female   High school graduate             Private   \n",
       "2   21    Male  12th grade no diploma  Federal government   \n",
       "3    2  Female               Children             Private   \n",
       "4   70    Male   High school graduate             Private   \n",
       "\n",
       "                    marital_status                       race is_hispanic  \\\n",
       "0                          Widowed                      White   All other   \n",
       "1                          Widowed                      White   All other   \n",
       "2                    Never married                      Black   All other   \n",
       "3                    Never married  Asian or Pacific Islander   All other   \n",
       "4  Married-civilian spouse present                      White   All other   \n",
       "\n",
       "      employment_commitment  employment_stat  wage_per_hour  ...  \\\n",
       "0        Not in labor force                0              0  ...   \n",
       "1  Children or Armed Forces                0              0  ...   \n",
       "2  Children or Armed Forces                0            500  ...   \n",
       "3  Children or Armed Forces                0              0  ...   \n",
       "4        Not in labor force                0              0  ...   \n",
       "\n",
       "              household_summary  vet_benefit         tax_status  gains losses  \\\n",
       "0                   Householder            2  Head of household      0      0   \n",
       "1                   Householder            2             Single      0      0   \n",
       "2             Child 18 or older            2             Single      0      0   \n",
       "3  Child under 18 never married            0           Nonfiler      0      0   \n",
       "4         Spouse of householder            2     Joint both 65+      0      0   \n",
       "\n",
       "   stocks_status citizenship mig_year  country_of_birth_own  \\\n",
       "0            292      Native       95                    US   \n",
       "1              0      Native       94                    US   \n",
       "2              0      Native       94                    US   \n",
       "3              0      Native       94                    US   \n",
       "4              0      Native       95                    US   \n",
       "\n",
       "  importance_of_record  \n",
       "0              1779.74  \n",
       "1              2366.75  \n",
       "2              1693.42  \n",
       "3              1380.27  \n",
       "4              1580.79  \n",
       "\n",
       "[5 rows x 27 columns]"
      ]
     },
     "execution_count": 48,
     "metadata": {},
     "output_type": "execute_result"
    }
   ],
   "source": [
    "# Drop it from the train dataset\n",
    "train_df_final = train_df_final.drop('income_above_limit', axis=1)\n",
    "train_df_final.head()"
   ]
  },
  {
   "cell_type": "markdown",
   "id": "pUwhQmDOyc3A",
   "metadata": {
    "id": "pUwhQmDOyc3A"
   },
   "source": [
    "## Balancing the Training Set"
   ]
  },
  {
   "cell_type": "code",
   "execution_count": 49,
   "id": "X_blpJURyf6M",
   "metadata": {
    "colab": {
     "base_uri": "https://localhost:8080/"
    },
    "id": "X_blpJURyf6M",
    "outputId": "b5fbec57-2dfc-4848-f62d-f0d98745d228"
   },
   "outputs": [
    {
     "name": "stdout",
     "output_type": "stream",
     "text": [
      "Class distribution before balancing:\n",
      "income_above_limit\n",
      "0                     196501\n",
      "1                      12998\n",
      "dtype: int64\n"
     ]
    }
   ],
   "source": [
    "# Check the class distribution in the training set\n",
    "print(\"Class distribution before balancing:\")\n",
    "print(target_df.value_counts())"
   ]
  },
  {
   "cell_type": "code",
   "execution_count": 50,
   "id": "PKcBIUrpyqcu",
   "metadata": {
    "colab": {
     "base_uri": "https://localhost:8080/",
     "height": 564
    },
    "id": "PKcBIUrpyqcu",
    "outputId": "13412417-0851-468c-fe72-873de7f8f697"
   },
   "outputs": [
    {
     "data": {
      "image/png": "[encoded data removed]",
      "text/plain": [
       "<Figure size 800x600 with 1 Axes>"
      ]
     },
     "metadata": {},
     "output_type": "display_data"
    }
   ],
   "source": [
    "# Count the occurrences of each class in the dataset\n",
    "class_counts = target_df['income_above_limit'].value_counts()\n",
    "\n",
    "# Create a bar plot to visualize the class distribution\n",
    "plt.figure(figsize=(8, 6))\n",
    "sns.barplot(x=class_counts.index, y=class_counts.values, palette='viridis')\n",
    "plt.xlabel('Income Above Limit')\n",
    "plt.ylabel('Count')\n",
    "plt.title('Class Distribution of The Target Variable')\n",
    "plt.show()"
   ]
  },
  {
   "cell_type": "markdown",
   "id": "JsV5S_D5y13m",
   "metadata": {
    "id": "JsV5S_D5y13m"
   },
   "source": [
    "**Below limit Class:** There are 110332 instances of participants below the income threshold in the Training Set.\n",
    "\n",
    "**Above limit Class:** There are 10397 instances of participants below the income threshold in the Training Set.\n",
    "\n",
    "The class distribution shows that there is some **class imbalance**, with the **below limit class having more instances than the above limit class.** Addressing this class imbalance is important to ensure that the machine learning model can make accurate predictions for both classes and is not biased towards the majority class."
   ]
  },
  {
   "cell_type": "code",
   "execution_count": 51,
   "id": "uN-1x_ei0nX1",
   "metadata": {
    "colab": {
     "base_uri": "https://localhost:8080/"
    },
    "id": "uN-1x_ei0nX1",
    "outputId": "f6b331cd-f220-44da-b723-62d484184dec"
   },
   "outputs": [
    {
     "name": "stdout",
     "output_type": "stream",
     "text": [
      "\n",
      "Class distribution in the balanced training set:\n",
      "income_above_limit\n",
      "0                     196501\n",
      "1                     196501\n",
      "dtype: int64\n"
     ]
    }
   ],
   "source": [
    "# Balance the training set using Random Oversampling\n",
    "oversampler = RandomOverSampler(random_state=42)\n",
    "train_df_balanced, target_df_balanced = oversampler.fit_resample(train_df_final, target_df)\n",
    "\n",
    "# Check the class distribution after balancing\n",
    "balanced_class_counts = target_df_balanced.value_counts()\n",
    "print(\"\\nClass distribution in the balanced training set:\")\n",
    "print(balanced_class_counts)"
   ]
  },
  {
   "cell_type": "code",
   "execution_count": 52,
   "id": "a348a657",
   "metadata": {},
   "outputs": [
    {
     "data": {
      "text/plain": [
       "(393002, 27)"
      ]
     },
     "execution_count": 52,
     "metadata": {},
     "output_type": "execute_result"
    }
   ],
   "source": [
    "train_df_balanced.shape"
   ]
  },
  {
   "cell_type": "code",
   "execution_count": 53,
   "id": "d1f72cf0",
   "metadata": {
    "scrolled": true
   },
   "outputs": [
    {
     "data": {
      "text/plain": [
       "(393002, 1)"
      ]
     },
     "execution_count": 53,
     "metadata": {},
     "output_type": "execute_result"
    }
   ],
   "source": [
    "target_df_balanced.shape"
   ]
  },
  {
   "cell_type": "code",
   "execution_count": 54,
   "id": "PmgNSjch0nbA",
   "metadata": {
    "colab": {
     "base_uri": "https://localhost:8080/",
     "height": 564
    },
    "id": "PmgNSjch0nbA",
    "outputId": "c7d246d1-3282-45e6-da3f-6ca95aecc75d"
   },
   "outputs": [
    {
     "data": {
      "image/png": "[encoded data removed]",
      "text/plain": [
       "<Figure size 800x600 with 1 Axes>"
      ]
     },
     "metadata": {},
     "output_type": "display_data"
    }
   ],
   "source": [
    "# Count the occurrences of each class in the balanced dataset\n",
    "class_counts = target_df_balanced['income_above_limit'].value_counts()\n",
    "\n",
    "# Create a bar plot with the 'viridis' color palette\n",
    "plt.figure(figsize=(8, 6))\n",
    "sns.barplot(x=class_counts.index, y=class_counts.values, palette='viridis')\n",
    "plt.xlabel('Income Above Limit')\n",
    "plt.ylabel('Count')\n",
    "plt.title('Class Distribution')\n",
    "plt.show()"
   ]
  },
  {
   "cell_type": "markdown",
   "id": "eZ9cyAPb1H5M",
   "metadata": {
    "id": "eZ9cyAPb1H5M"
   },
   "source": [
    "The train set is now balanced."
   ]
  },
  {
   "cell_type": "markdown",
   "id": "b7456abe",
   "metadata": {},
   "source": [
    "## Encoding Categorical Variables"
   ]
  },
  {
   "cell_type": "code",
   "execution_count": 55,
   "id": "86781837",
   "metadata": {},
   "outputs": [
    {
     "data": {
      "text/plain": [
       "Index(['gender', 'education', 'worker_class', 'marital_status', 'race',\n",
       "       'is_hispanic', 'employment_commitment', 'industry_code_main',\n",
       "       'occupation_code_main', 'household_stat', 'household_summary',\n",
       "       'tax_status', 'citizenship', 'country_of_birth_own'],\n",
       "      dtype='object')"
      ]
     },
     "execution_count": 55,
     "metadata": {},
     "output_type": "execute_result"
    }
   ],
   "source": [
    "# Select only the categorical columns\n",
    "categorical_columns = train_df_final.select_dtypes(include=['object']).columns\n",
    "categorical_columns"
   ]
  },
  {
   "cell_type": "code",
   "execution_count": 56,
   "id": "7421606b",
   "metadata": {},
   "outputs": [
    {
     "data": {
      "text/html": [
       "<div>\n",
       "<style scoped>\n",
       "    .dataframe tbody tr th:only-of-type {\n",
       "        vertical-align: middle;\n",
       "    }\n",
       "\n",
       "    .dataframe tbody tr th {\n",
       "        vertical-align: top;\n",
       "    }\n",
       "\n",
       "    .dataframe thead th {\n",
       "        text-align: right;\n",
       "    }\n",
       "</style>\n",
       "<table border=\"1\" class=\"dataframe\">\n",
       "  <thead>\n",
       "    <tr style=\"text-align: right;\">\n",
       "      <th></th>\n",
       "      <th>age</th>\n",
       "      <th>gender</th>\n",
       "      <th>education</th>\n",
       "      <th>worker_class</th>\n",
       "      <th>marital_status</th>\n",
       "      <th>race</th>\n",
       "      <th>is_hispanic</th>\n",
       "      <th>employment_commitment</th>\n",
       "      <th>employment_stat</th>\n",
       "      <th>wage_per_hour</th>\n",
       "      <th>...</th>\n",
       "      <th>household_summary</th>\n",
       "      <th>vet_benefit</th>\n",
       "      <th>tax_status</th>\n",
       "      <th>gains</th>\n",
       "      <th>losses</th>\n",
       "      <th>stocks_status</th>\n",
       "      <th>citizenship</th>\n",
       "      <th>mig_year</th>\n",
       "      <th>country_of_birth_own</th>\n",
       "      <th>importance_of_record</th>\n",
       "    </tr>\n",
       "  </thead>\n",
       "  <tbody>\n",
       "    <tr>\n",
       "      <th>0</th>\n",
       "      <td>79</td>\n",
       "      <td>0.0</td>\n",
       "      <td>12.0</td>\n",
       "      <td>3.0</td>\n",
       "      <td>6.0</td>\n",
       "      <td>4.0</td>\n",
       "      <td>0.0</td>\n",
       "      <td>2.0</td>\n",
       "      <td>0</td>\n",
       "      <td>0</td>\n",
       "      <td>...</td>\n",
       "      <td>4.0</td>\n",
       "      <td>2</td>\n",
       "      <td>0.0</td>\n",
       "      <td>0</td>\n",
       "      <td>0</td>\n",
       "      <td>292</td>\n",
       "      <td>2.0</td>\n",
       "      <td>95</td>\n",
       "      <td>39.0</td>\n",
       "      <td>1779.74</td>\n",
       "    </tr>\n",
       "    <tr>\n",
       "      <th>1</th>\n",
       "      <td>65</td>\n",
       "      <td>0.0</td>\n",
       "      <td>12.0</td>\n",
       "      <td>3.0</td>\n",
       "      <td>6.0</td>\n",
       "      <td>4.0</td>\n",
       "      <td>0.0</td>\n",
       "      <td>0.0</td>\n",
       "      <td>0</td>\n",
       "      <td>0</td>\n",
       "      <td>...</td>\n",
       "      <td>4.0</td>\n",
       "      <td>2</td>\n",
       "      <td>5.0</td>\n",
       "      <td>0</td>\n",
       "      <td>0</td>\n",
       "      <td>0</td>\n",
       "      <td>2.0</td>\n",
       "      <td>94</td>\n",
       "      <td>39.0</td>\n",
       "      <td>2366.75</td>\n",
       "    </tr>\n",
       "    <tr>\n",
       "      <th>2</th>\n",
       "      <td>21</td>\n",
       "      <td>1.0</td>\n",
       "      <td>2.0</td>\n",
       "      <td>0.0</td>\n",
       "      <td>4.0</td>\n",
       "      <td>2.0</td>\n",
       "      <td>0.0</td>\n",
       "      <td>0.0</td>\n",
       "      <td>0</td>\n",
       "      <td>500</td>\n",
       "      <td>...</td>\n",
       "      <td>0.0</td>\n",
       "      <td>2</td>\n",
       "      <td>5.0</td>\n",
       "      <td>0</td>\n",
       "      <td>0</td>\n",
       "      <td>0</td>\n",
       "      <td>2.0</td>\n",
       "      <td>94</td>\n",
       "      <td>39.0</td>\n",
       "      <td>1693.42</td>\n",
       "    </tr>\n",
       "    <tr>\n",
       "      <th>3</th>\n",
       "      <td>2</td>\n",
       "      <td>0.0</td>\n",
       "      <td>10.0</td>\n",
       "      <td>3.0</td>\n",
       "      <td>4.0</td>\n",
       "      <td>1.0</td>\n",
       "      <td>0.0</td>\n",
       "      <td>0.0</td>\n",
       "      <td>0</td>\n",
       "      <td>0</td>\n",
       "      <td>...</td>\n",
       "      <td>2.0</td>\n",
       "      <td>0</td>\n",
       "      <td>4.0</td>\n",
       "      <td>0</td>\n",
       "      <td>0</td>\n",
       "      <td>0</td>\n",
       "      <td>2.0</td>\n",
       "      <td>94</td>\n",
       "      <td>39.0</td>\n",
       "      <td>1380.27</td>\n",
       "    </tr>\n",
       "    <tr>\n",
       "      <th>4</th>\n",
       "      <td>70</td>\n",
       "      <td>1.0</td>\n",
       "      <td>12.0</td>\n",
       "      <td>3.0</td>\n",
       "      <td>2.0</td>\n",
       "      <td>4.0</td>\n",
       "      <td>0.0</td>\n",
       "      <td>2.0</td>\n",
       "      <td>0</td>\n",
       "      <td>0</td>\n",
       "      <td>...</td>\n",
       "      <td>7.0</td>\n",
       "      <td>2</td>\n",
       "      <td>1.0</td>\n",
       "      <td>0</td>\n",
       "      <td>0</td>\n",
       "      <td>0</td>\n",
       "      <td>2.0</td>\n",
       "      <td>95</td>\n",
       "      <td>39.0</td>\n",
       "      <td>1580.79</td>\n",
       "    </tr>\n",
       "  </tbody>\n",
       "</table>\n",
       "<p>5 rows × 27 columns</p>\n",
       "</div>"
      ],
      "text/plain": [
       "   age  gender  education  worker_class  marital_status  race  is_hispanic  \\\n",
       "0   79     0.0       12.0           3.0             6.0   4.0          0.0   \n",
       "1   65     0.0       12.0           3.0             6.0   4.0          0.0   \n",
       "2   21     1.0        2.0           0.0             4.0   2.0          0.0   \n",
       "3    2     0.0       10.0           3.0             4.0   1.0          0.0   \n",
       "4   70     1.0       12.0           3.0             2.0   4.0          0.0   \n",
       "\n",
       "   employment_commitment  employment_stat  wage_per_hour  ...  \\\n",
       "0                    2.0                0              0  ...   \n",
       "1                    0.0                0              0  ...   \n",
       "2                    0.0                0            500  ...   \n",
       "3                    0.0                0              0  ...   \n",
       "4                    2.0                0              0  ...   \n",
       "\n",
       "   household_summary  vet_benefit  tax_status  gains  losses  stocks_status  \\\n",
       "0                4.0            2         0.0      0       0            292   \n",
       "1                4.0            2         5.0      0       0              0   \n",
       "2                0.0            2         5.0      0       0              0   \n",
       "3                2.0            0         4.0      0       0              0   \n",
       "4                7.0            2         1.0      0       0              0   \n",
       "\n",
       "   citizenship  mig_year  country_of_birth_own  importance_of_record  \n",
       "0          2.0        95                  39.0               1779.74  \n",
       "1          2.0        94                  39.0               2366.75  \n",
       "2          2.0        94                  39.0               1693.42  \n",
       "3          2.0        94                  39.0               1380.27  \n",
       "4          2.0        95                  39.0               1580.79  \n",
       "\n",
       "[5 rows x 27 columns]"
      ]
     },
     "execution_count": 56,
     "metadata": {},
     "output_type": "execute_result"
    }
   ],
   "source": [
    "# Initialize the OrdinalEncoder object\n",
    "ordinal_encoder = OrdinalEncoder()\n",
    "\n",
    "# Encode categorical columns\n",
    "train_df_encoded = pd.DataFrame(ordinal_encoder.fit_transform(train_df_balanced[categorical_columns]),\n",
    "                                columns=ordinal_encoder.get_feature_names_out(categorical_columns),\n",
    "                                index=train_df_balanced.index)\n",
    "\n",
    "# Combine with non-categorical columns\n",
    "train_df_combined = pd.concat([train_df_balanced[train_df_balanced.columns.difference(categorical_columns)], train_df_encoded], axis=1)\n",
    "\n",
    "# Reorder columns to match the original order\n",
    "train_df_combined = train_df_combined[train_df_balanced.columns]\n",
    "\n",
    "# Display the combined DataFrame\n",
    "train_df_combined.head()"
   ]
  },
  {
   "cell_type": "code",
   "execution_count": 57,
   "id": "77e09b87",
   "metadata": {
    "id": "77e09b87"
   },
   "outputs": [],
   "source": [
    "# Save the preprocessed datasets\n",
    "train_df_combined.to_csv('data/train_df_preprocessed.csv', index=False)\n",
    "test_df_final.to_csv('data/test_df_preprocessed.csv', index=False)"
   ]
  },
  {
   "cell_type": "markdown",
   "id": "33f4fa60",
   "metadata": {
    "id": "33f4fa60"
   },
   "source": [
    "# Modeling"
   ]
  },
  {
   "cell_type": "code",
   "execution_count": 58,
   "id": "N33xLj2kwsTd",
   "metadata": {
    "id": "N33xLj2kwsTd"
   },
   "outputs": [],
   "source": [
    "# Reading test dataset\n",
    "train_df_preprocessed = pd.read_csv('data/train_df_preprocessed.csv')\n",
    "test_df_preprocessed = pd.read_csv('data/test_df_preprocessed.csv')"
   ]
  },
  {
   "cell_type": "code",
   "execution_count": 59,
   "id": "ANIKi05zw1vY",
   "metadata": {
    "colab": {
     "base_uri": "https://localhost:8080/",
     "height": 446
    },
    "id": "ANIKi05zw1vY",
    "outputId": "49a7ec5a-9e08-41b4-9b07-a2ca86e366c0"
   },
   "outputs": [
    {
     "data": {
      "text/html": [
       "<div>\n",
       "<style scoped>\n",
       "    .dataframe tbody tr th:only-of-type {\n",
       "        vertical-align: middle;\n",
       "    }\n",
       "\n",
       "    .dataframe tbody tr th {\n",
       "        vertical-align: top;\n",
       "    }\n",
       "\n",
       "    .dataframe thead th {\n",
       "        text-align: right;\n",
       "    }\n",
       "</style>\n",
       "<table border=\"1\" class=\"dataframe\">\n",
       "  <thead>\n",
       "    <tr style=\"text-align: right;\">\n",
       "      <th></th>\n",
       "      <th>age</th>\n",
       "      <th>gender</th>\n",
       "      <th>education</th>\n",
       "      <th>worker_class</th>\n",
       "      <th>marital_status</th>\n",
       "      <th>race</th>\n",
       "      <th>is_hispanic</th>\n",
       "      <th>employment_commitment</th>\n",
       "      <th>employment_stat</th>\n",
       "      <th>wage_per_hour</th>\n",
       "      <th>...</th>\n",
       "      <th>household_summary</th>\n",
       "      <th>vet_benefit</th>\n",
       "      <th>tax_status</th>\n",
       "      <th>gains</th>\n",
       "      <th>losses</th>\n",
       "      <th>stocks_status</th>\n",
       "      <th>citizenship</th>\n",
       "      <th>mig_year</th>\n",
       "      <th>country_of_birth_own</th>\n",
       "      <th>importance_of_record</th>\n",
       "    </tr>\n",
       "  </thead>\n",
       "  <tbody>\n",
       "    <tr>\n",
       "      <th>0</th>\n",
       "      <td>79</td>\n",
       "      <td>0.0</td>\n",
       "      <td>12.0</td>\n",
       "      <td>3.0</td>\n",
       "      <td>6.0</td>\n",
       "      <td>4.0</td>\n",
       "      <td>0.0</td>\n",
       "      <td>2.0</td>\n",
       "      <td>0</td>\n",
       "      <td>0</td>\n",
       "      <td>...</td>\n",
       "      <td>4.0</td>\n",
       "      <td>2</td>\n",
       "      <td>0.0</td>\n",
       "      <td>0</td>\n",
       "      <td>0</td>\n",
       "      <td>292</td>\n",
       "      <td>2.0</td>\n",
       "      <td>95</td>\n",
       "      <td>39.0</td>\n",
       "      <td>1779.74</td>\n",
       "    </tr>\n",
       "    <tr>\n",
       "      <th>1</th>\n",
       "      <td>65</td>\n",
       "      <td>0.0</td>\n",
       "      <td>12.0</td>\n",
       "      <td>3.0</td>\n",
       "      <td>6.0</td>\n",
       "      <td>4.0</td>\n",
       "      <td>0.0</td>\n",
       "      <td>0.0</td>\n",
       "      <td>0</td>\n",
       "      <td>0</td>\n",
       "      <td>...</td>\n",
       "      <td>4.0</td>\n",
       "      <td>2</td>\n",
       "      <td>5.0</td>\n",
       "      <td>0</td>\n",
       "      <td>0</td>\n",
       "      <td>0</td>\n",
       "      <td>2.0</td>\n",
       "      <td>94</td>\n",
       "      <td>39.0</td>\n",
       "      <td>2366.75</td>\n",
       "    </tr>\n",
       "    <tr>\n",
       "      <th>2</th>\n",
       "      <td>21</td>\n",
       "      <td>1.0</td>\n",
       "      <td>2.0</td>\n",
       "      <td>0.0</td>\n",
       "      <td>4.0</td>\n",
       "      <td>2.0</td>\n",
       "      <td>0.0</td>\n",
       "      <td>0.0</td>\n",
       "      <td>0</td>\n",
       "      <td>500</td>\n",
       "      <td>...</td>\n",
       "      <td>0.0</td>\n",
       "      <td>2</td>\n",
       "      <td>5.0</td>\n",
       "      <td>0</td>\n",
       "      <td>0</td>\n",
       "      <td>0</td>\n",
       "      <td>2.0</td>\n",
       "      <td>94</td>\n",
       "      <td>39.0</td>\n",
       "      <td>1693.42</td>\n",
       "    </tr>\n",
       "    <tr>\n",
       "      <th>3</th>\n",
       "      <td>2</td>\n",
       "      <td>0.0</td>\n",
       "      <td>10.0</td>\n",
       "      <td>3.0</td>\n",
       "      <td>4.0</td>\n",
       "      <td>1.0</td>\n",
       "      <td>0.0</td>\n",
       "      <td>0.0</td>\n",
       "      <td>0</td>\n",
       "      <td>0</td>\n",
       "      <td>...</td>\n",
       "      <td>2.0</td>\n",
       "      <td>0</td>\n",
       "      <td>4.0</td>\n",
       "      <td>0</td>\n",
       "      <td>0</td>\n",
       "      <td>0</td>\n",
       "      <td>2.0</td>\n",
       "      <td>94</td>\n",
       "      <td>39.0</td>\n",
       "      <td>1380.27</td>\n",
       "    </tr>\n",
       "    <tr>\n",
       "      <th>4</th>\n",
       "      <td>70</td>\n",
       "      <td>1.0</td>\n",
       "      <td>12.0</td>\n",
       "      <td>3.0</td>\n",
       "      <td>2.0</td>\n",
       "      <td>4.0</td>\n",
       "      <td>0.0</td>\n",
       "      <td>2.0</td>\n",
       "      <td>0</td>\n",
       "      <td>0</td>\n",
       "      <td>...</td>\n",
       "      <td>7.0</td>\n",
       "      <td>2</td>\n",
       "      <td>1.0</td>\n",
       "      <td>0</td>\n",
       "      <td>0</td>\n",
       "      <td>0</td>\n",
       "      <td>2.0</td>\n",
       "      <td>95</td>\n",
       "      <td>39.0</td>\n",
       "      <td>1580.79</td>\n",
       "    </tr>\n",
       "  </tbody>\n",
       "</table>\n",
       "<p>5 rows × 27 columns</p>\n",
       "</div>"
      ],
      "text/plain": [
       "   age  gender  education  worker_class  marital_status  race  is_hispanic  \\\n",
       "0   79     0.0       12.0           3.0             6.0   4.0          0.0   \n",
       "1   65     0.0       12.0           3.0             6.0   4.0          0.0   \n",
       "2   21     1.0        2.0           0.0             4.0   2.0          0.0   \n",
       "3    2     0.0       10.0           3.0             4.0   1.0          0.0   \n",
       "4   70     1.0       12.0           3.0             2.0   4.0          0.0   \n",
       "\n",
       "   employment_commitment  employment_stat  wage_per_hour  ...  \\\n",
       "0                    2.0                0              0  ...   \n",
       "1                    0.0                0              0  ...   \n",
       "2                    0.0                0            500  ...   \n",
       "3                    0.0                0              0  ...   \n",
       "4                    2.0                0              0  ...   \n",
       "\n",
       "   household_summary  vet_benefit  tax_status  gains  losses  stocks_status  \\\n",
       "0                4.0            2         0.0      0       0            292   \n",
       "1                4.0            2         5.0      0       0              0   \n",
       "2                0.0            2         5.0      0       0              0   \n",
       "3                2.0            0         4.0      0       0              0   \n",
       "4                7.0            2         1.0      0       0              0   \n",
       "\n",
       "   citizenship  mig_year  country_of_birth_own  importance_of_record  \n",
       "0          2.0        95                  39.0               1779.74  \n",
       "1          2.0        94                  39.0               2366.75  \n",
       "2          2.0        94                  39.0               1693.42  \n",
       "3          2.0        94                  39.0               1380.27  \n",
       "4          2.0        95                  39.0               1580.79  \n",
       "\n",
       "[5 rows x 27 columns]"
      ]
     },
     "execution_count": 59,
     "metadata": {},
     "output_type": "execute_result"
    }
   ],
   "source": [
    "train_df_preprocessed.head()"
   ]
  },
  {
   "cell_type": "code",
   "execution_count": 60,
   "id": "9nIuNcsjfLAm",
   "metadata": {
    "colab": {
     "base_uri": "https://localhost:8080/"
    },
    "id": "9nIuNcsjfLAm",
    "outputId": "8375fd42-5f27-441d-d7c2-c3eafe575327"
   },
   "outputs": [
    {
     "data": {
      "text/plain": [
       "age                      0\n",
       "gender                   0\n",
       "education                0\n",
       "worker_class             0\n",
       "marital_status           0\n",
       "race                     0\n",
       "is_hispanic              0\n",
       "employment_commitment    0\n",
       "employment_stat          0\n",
       "wage_per_hour            0\n",
       "working_week_per_year    0\n",
       "industry_code            0\n",
       "industry_code_main       0\n",
       "occupation_code          0\n",
       "occupation_code_main     0\n",
       "total_employed           0\n",
       "household_stat           0\n",
       "household_summary        0\n",
       "vet_benefit              0\n",
       "tax_status               0\n",
       "gains                    0\n",
       "losses                   0\n",
       "stocks_status            0\n",
       "citizenship              0\n",
       "mig_year                 0\n",
       "country_of_birth_own     0\n",
       "importance_of_record     0\n",
       "dtype: int64"
      ]
     },
     "execution_count": 60,
     "metadata": {},
     "output_type": "execute_result"
    }
   ],
   "source": [
    "train_df_preprocessed.isnull().sum()"
   ]
  },
  {
   "cell_type": "code",
   "execution_count": 80,
   "id": "f5fe9ede",
   "metadata": {},
   "outputs": [
    {
     "data": {
      "text/plain": [
       "age                        int64\n",
       "gender                   float64\n",
       "education                float64\n",
       "worker_class             float64\n",
       "marital_status           float64\n",
       "race                     float64\n",
       "is_hispanic              float64\n",
       "employment_commitment    float64\n",
       "employment_stat            int64\n",
       "wage_per_hour              int64\n",
       "working_week_per_year      int64\n",
       "industry_code              int64\n",
       "industry_code_main       float64\n",
       "occupation_code            int64\n",
       "occupation_code_main     float64\n",
       "total_employed             int64\n",
       "household_stat           float64\n",
       "household_summary        float64\n",
       "vet_benefit                int64\n",
       "tax_status               float64\n",
       "gains                      int64\n",
       "losses                     int64\n",
       "stocks_status              int64\n",
       "citizenship              float64\n",
       "mig_year                   int64\n",
       "country_of_birth_own     float64\n",
       "importance_of_record     float64\n",
       "dtype: object"
      ]
     },
     "execution_count": 80,
     "metadata": {},
     "output_type": "execute_result"
    }
   ],
   "source": [
    "train_df_preprocessed.dtypes"
   ]
  },
  {
   "cell_type": "code",
   "execution_count": 61,
   "id": "92467dd2",
   "metadata": {},
   "outputs": [
    {
     "data": {
      "text/plain": [
       "(393002, 1)"
      ]
     },
     "execution_count": 61,
     "metadata": {},
     "output_type": "execute_result"
    }
   ],
   "source": [
    "target_df_balanced.shape"
   ]
  },
  {
   "cell_type": "code",
   "execution_count": 62,
   "id": "4ceda1b5",
   "metadata": {},
   "outputs": [
    {
     "data": {
      "text/plain": [
       "(393002, 27)"
      ]
     },
     "execution_count": 62,
     "metadata": {},
     "output_type": "execute_result"
    }
   ],
   "source": [
    "train_df_preprocessed.shape"
   ]
  },
  {
   "cell_type": "raw",
   "id": "636bed8e",
   "metadata": {},
   "source": [
    "test_df_preprocessed.shape"
   ]
  },
  {
   "cell_type": "markdown",
   "id": "JnI4cile0-bD",
   "metadata": {
    "id": "JnI4cile0-bD"
   },
   "source": [
    "## Dataset Splitting"
   ]
  },
  {
   "cell_type": "code",
   "execution_count": 63,
   "id": "iVF-kdTouWWF",
   "metadata": {
    "id": "iVF-kdTouWWF"
   },
   "outputs": [],
   "source": [
    "# Define your feature matrix 'X' and target variable 'y'\n",
    "X = train_df_preprocessed\n",
    "y = target_df_balanced['income_above_limit']\n",
    "\n",
    "# Split the data into a training set and an evaluation set (i.e., 80% training, 20% evaluation)\n",
    "X_train, X_eval, y_train, y_eval = train_test_split(X, y, test_size=0.2, random_state=42, stratify=y)"
   ]
  },
  {
   "cell_type": "markdown",
   "id": "8vRwFWNJx9xS",
   "metadata": {
    "id": "8vRwFWNJx9xS"
   },
   "source": [
    "- Training Set (X_train, y_train): This contains a random 80% portion of your data, used for training your model. The train_test_split function is configured to ensure that the class distribution (stratification) is preserved in this set, making it representative of the original data.\n",
    "\n",
    "- Evaluation Set (X_eval, y_eval): This holds the remaining 20% of your data and is used to assess your model's performance. It's also stratified to maintain a similar class distribution.\n",
    "\n",
    "The random_state parameter ensures reproducibility, as the same random split will occur if the same value is used in future runs.\n",
    "\n",
    " The stratify parameter is especially useful when dealing with class-imbalanced datasets to ensure that both sets have a proportional representation of classes."
   ]
  },
  {
   "cell_type": "code",
   "execution_count": 64,
   "id": "8f6121de",
   "metadata": {},
   "outputs": [
    {
     "name": "stdout",
     "output_type": "stream",
     "text": [
      "Shape of the Training Set (X_train, y_train): (314401, 27) (314401,)\n",
      "Shape of the Evaluation Set (X_eval, y_eval): (78601, 27) (78601,)\n"
     ]
    }
   ],
   "source": [
    "print(\"Shape of the Training Set (X_train, y_train):\", X_train.shape, y_train.shape)\n",
    "print(\"Shape of the Evaluation Set (X_eval, y_eval):\", X_eval.shape, y_eval.shape)"
   ]
  },
  {
   "cell_type": "markdown",
   "id": "42ae1ad9",
   "metadata": {},
   "source": [
    "## Scaling The Numerical Values in the Training and Evaluation Sets"
   ]
  },
  {
   "cell_type": "code",
   "execution_count": 65,
   "id": "50060360",
   "metadata": {},
   "outputs": [],
   "source": [
    "# Identify numerical and categorical columns\n",
    "numerical_columns = X_train.select_dtypes(include=['int64', 'float64']).columns\n",
    "\n",
    "X_train_numerical = X_train[numerical_columns]\n",
    "X_eval_numerical = X_eval[numerical_columns]"
   ]
  },
  {
   "cell_type": "code",
   "execution_count": 66,
   "id": "89be00c2",
   "metadata": {},
   "outputs": [],
   "source": [
    "# Scale the training and evaluation sets\n",
    "scaler = MinMaxScaler()\n",
    "\n",
    "# Scale the training data\n",
    "X_train_scaled = scaler.fit_transform(X_train_numerical)\n",
    "\n",
    "# Scale the evaluation data using the same scaler\n",
    "X_eval_scaled = scaler.transform(X_eval_numerical)"
   ]
  },
  {
   "cell_type": "code",
   "execution_count": 68,
   "id": "6f78102e",
   "metadata": {},
   "outputs": [
    {
     "name": "stdout",
     "output_type": "stream",
     "text": [
      "Shape of X_train_scaled_df: (314401, 27)\n",
      "Shape of X_eval_scaled_df: (78601, 27)\n",
      "Shape of y_train: (314401,)\n",
      "Shape of y_eval: (78601,)\n"
     ]
    }
   ],
   "source": [
    "# Convert scaled NumPy arrays back to DataFrames\n",
    "X_train_scaled_df = pd.DataFrame(X_train_scaled, columns=numerical_columns)\n",
    "X_eval_scaled_df = pd.DataFrame(X_eval_scaled, columns=numerical_columns)\n",
    "\n",
    "# Now, X_train_scaled_df and X_eval_scaled_df are DataFrames containing the scaled features.\n",
    "\n",
    "\n",
    "# Now, y_train_balanced_df is a DataFrame containing the balanced target variable.\n",
    "\n",
    "# Confirm the shapes of the DataFrames\n",
    "print(\"Shape of X_train_scaled_df:\", X_train_scaled_df.shape)\n",
    "print(\"Shape of X_eval_scaled_df:\", X_eval_scaled_df.shape)\n",
    "print(\"Shape of y_train:\", y_train.shape)\n",
    "print(\"Shape of y_eval:\", y_eval.shape)"
   ]
  },
  {
   "cell_type": "code",
   "execution_count": 81,
   "id": "2cbb7d95",
   "metadata": {},
   "outputs": [
    {
     "data": {
      "text/plain": [
       "age                      float64\n",
       "gender                    object\n",
       "education                 object\n",
       "worker_class              object\n",
       "marital_status            object\n",
       "race                      object\n",
       "is_hispanic               object\n",
       "employment_commitment     object\n",
       "employment_stat          float64\n",
       "wage_per_hour            float64\n",
       "working_week_per_year    float64\n",
       "industry_code            float64\n",
       "industry_code_main        object\n",
       "occupation_code          float64\n",
       "occupation_code_main      object\n",
       "total_employed           float64\n",
       "household_stat            object\n",
       "household_summary         object\n",
       "vet_benefit              float64\n",
       "tax_status                object\n",
       "gains                    float64\n",
       "losses                   float64\n",
       "stocks_status            float64\n",
       "citizenship               object\n",
       "mig_year                 float64\n",
       "country_of_birth_own      object\n",
       "importance_of_record     float64\n",
       "dtype: object"
      ]
     },
     "execution_count": 81,
     "metadata": {},
     "output_type": "execute_result"
    }
   ],
   "source": [
    "X_train_scaled_df.dtypes"
   ]
  },
  {
   "cell_type": "code",
   "execution_count": 82,
   "id": "14297c31",
   "metadata": {},
   "outputs": [
    {
     "data": {
      "text/plain": [
       "age                      float64\n",
       "gender                    object\n",
       "education                 object\n",
       "worker_class              object\n",
       "marital_status            object\n",
       "race                      object\n",
       "is_hispanic               object\n",
       "employment_commitment     object\n",
       "employment_stat          float64\n",
       "wage_per_hour            float64\n",
       "working_week_per_year    float64\n",
       "industry_code            float64\n",
       "industry_code_main        object\n",
       "occupation_code          float64\n",
       "occupation_code_main      object\n",
       "total_employed           float64\n",
       "household_stat            object\n",
       "household_summary         object\n",
       "vet_benefit              float64\n",
       "tax_status                object\n",
       "gains                    float64\n",
       "losses                   float64\n",
       "stocks_status            float64\n",
       "citizenship               object\n",
       "mig_year                 float64\n",
       "country_of_birth_own      object\n",
       "importance_of_record     float64\n",
       "dtype: object"
      ]
     },
     "execution_count": 82,
     "metadata": {},
     "output_type": "execute_result"
    }
   ],
   "source": [
    "X_eval_scaled_df.dtypes"
   ]
  },
  {
   "cell_type": "code",
   "execution_count": 83,
   "id": "b535cf43",
   "metadata": {},
   "outputs": [
    {
     "data": {
      "text/plain": [
       "dtype('int64')"
      ]
     },
     "execution_count": 83,
     "metadata": {},
     "output_type": "execute_result"
    }
   ],
   "source": [
    "y_train.dtypes"
   ]
  },
  {
   "cell_type": "code",
   "execution_count": 84,
   "id": "0b472132",
   "metadata": {},
   "outputs": [
    {
     "data": {
      "text/plain": [
       "dtype('int64')"
      ]
     },
     "execution_count": 84,
     "metadata": {},
     "output_type": "execute_result"
    }
   ],
   "source": [
    "y_eval.dtypes"
   ]
  },
  {
   "cell_type": "code",
   "execution_count": 69,
   "id": "39d998f8",
   "metadata": {},
   "outputs": [
    {
     "data": {
      "text/html": [
       "<div>\n",
       "<style scoped>\n",
       "    .dataframe tbody tr th:only-of-type {\n",
       "        vertical-align: middle;\n",
       "    }\n",
       "\n",
       "    .dataframe tbody tr th {\n",
       "        vertical-align: top;\n",
       "    }\n",
       "\n",
       "    .dataframe thead th {\n",
       "        text-align: right;\n",
       "    }\n",
       "</style>\n",
       "<table border=\"1\" class=\"dataframe\">\n",
       "  <thead>\n",
       "    <tr style=\"text-align: right;\">\n",
       "      <th></th>\n",
       "      <th>age</th>\n",
       "      <th>gender</th>\n",
       "      <th>education</th>\n",
       "      <th>worker_class</th>\n",
       "      <th>marital_status</th>\n",
       "      <th>race</th>\n",
       "      <th>is_hispanic</th>\n",
       "      <th>employment_commitment</th>\n",
       "      <th>employment_stat</th>\n",
       "      <th>wage_per_hour</th>\n",
       "      <th>...</th>\n",
       "      <th>household_summary</th>\n",
       "      <th>vet_benefit</th>\n",
       "      <th>tax_status</th>\n",
       "      <th>gains</th>\n",
       "      <th>losses</th>\n",
       "      <th>stocks_status</th>\n",
       "      <th>citizenship</th>\n",
       "      <th>mig_year</th>\n",
       "      <th>country_of_birth_own</th>\n",
       "      <th>importance_of_record</th>\n",
       "    </tr>\n",
       "  </thead>\n",
       "  <tbody>\n",
       "    <tr>\n",
       "      <th>0</th>\n",
       "      <td>0.066667</td>\n",
       "      <td>1.0</td>\n",
       "      <td>0.6250</td>\n",
       "      <td>0.428571</td>\n",
       "      <td>0.666667</td>\n",
       "      <td>1.0</td>\n",
       "      <td>0.000</td>\n",
       "      <td>0.000000</td>\n",
       "      <td>0.0</td>\n",
       "      <td>0.0</td>\n",
       "      <td>...</td>\n",
       "      <td>0.285714</td>\n",
       "      <td>0.0</td>\n",
       "      <td>0.8</td>\n",
       "      <td>0.000000</td>\n",
       "      <td>0.0</td>\n",
       "      <td>0.0</td>\n",
       "      <td>0.5</td>\n",
       "      <td>1.0</td>\n",
       "      <td>0.95122</td>\n",
       "      <td>0.070875</td>\n",
       "    </tr>\n",
       "    <tr>\n",
       "      <th>1</th>\n",
       "      <td>0.244444</td>\n",
       "      <td>0.0</td>\n",
       "      <td>0.4375</td>\n",
       "      <td>0.428571</td>\n",
       "      <td>0.666667</td>\n",
       "      <td>1.0</td>\n",
       "      <td>0.375</td>\n",
       "      <td>0.000000</td>\n",
       "      <td>0.0</td>\n",
       "      <td>0.0</td>\n",
       "      <td>...</td>\n",
       "      <td>0.000000</td>\n",
       "      <td>1.0</td>\n",
       "      <td>1.0</td>\n",
       "      <td>0.000000</td>\n",
       "      <td>0.0</td>\n",
       "      <td>0.0</td>\n",
       "      <td>0.5</td>\n",
       "      <td>0.0</td>\n",
       "      <td>0.95122</td>\n",
       "      <td>0.055959</td>\n",
       "    </tr>\n",
       "    <tr>\n",
       "      <th>2</th>\n",
       "      <td>0.477778</td>\n",
       "      <td>1.0</td>\n",
       "      <td>0.5625</td>\n",
       "      <td>0.714286</td>\n",
       "      <td>0.333333</td>\n",
       "      <td>1.0</td>\n",
       "      <td>0.000</td>\n",
       "      <td>0.142857</td>\n",
       "      <td>0.0</td>\n",
       "      <td>0.0</td>\n",
       "      <td>...</td>\n",
       "      <td>0.571429</td>\n",
       "      <td>1.0</td>\n",
       "      <td>0.4</td>\n",
       "      <td>0.000000</td>\n",
       "      <td>0.0</td>\n",
       "      <td>0.0</td>\n",
       "      <td>0.5</td>\n",
       "      <td>1.0</td>\n",
       "      <td>0.95122</td>\n",
       "      <td>0.178602</td>\n",
       "    </tr>\n",
       "    <tr>\n",
       "      <th>3</th>\n",
       "      <td>0.433333</td>\n",
       "      <td>0.0</td>\n",
       "      <td>0.8750</td>\n",
       "      <td>0.714286</td>\n",
       "      <td>0.000000</td>\n",
       "      <td>1.0</td>\n",
       "      <td>0.000</td>\n",
       "      <td>0.142857</td>\n",
       "      <td>1.0</td>\n",
       "      <td>0.0</td>\n",
       "      <td>...</td>\n",
       "      <td>0.571429</td>\n",
       "      <td>1.0</td>\n",
       "      <td>1.0</td>\n",
       "      <td>0.135501</td>\n",
       "      <td>0.0</td>\n",
       "      <td>0.0</td>\n",
       "      <td>0.5</td>\n",
       "      <td>1.0</td>\n",
       "      <td>0.95122</td>\n",
       "      <td>0.090342</td>\n",
       "    </tr>\n",
       "    <tr>\n",
       "      <th>4</th>\n",
       "      <td>0.544444</td>\n",
       "      <td>0.0</td>\n",
       "      <td>0.8750</td>\n",
       "      <td>0.142857</td>\n",
       "      <td>0.333333</td>\n",
       "      <td>1.0</td>\n",
       "      <td>0.000</td>\n",
       "      <td>0.142857</td>\n",
       "      <td>0.0</td>\n",
       "      <td>0.0</td>\n",
       "      <td>...</td>\n",
       "      <td>1.000000</td>\n",
       "      <td>1.0</td>\n",
       "      <td>0.4</td>\n",
       "      <td>0.000000</td>\n",
       "      <td>0.0</td>\n",
       "      <td>0.0</td>\n",
       "      <td>0.5</td>\n",
       "      <td>1.0</td>\n",
       "      <td>0.95122</td>\n",
       "      <td>0.071300</td>\n",
       "    </tr>\n",
       "  </tbody>\n",
       "</table>\n",
       "<p>5 rows × 27 columns</p>\n",
       "</div>"
      ],
      "text/plain": [
       "        age  gender  education  worker_class  marital_status  race  \\\n",
       "0  0.066667     1.0     0.6250      0.428571        0.666667   1.0   \n",
       "1  0.244444     0.0     0.4375      0.428571        0.666667   1.0   \n",
       "2  0.477778     1.0     0.5625      0.714286        0.333333   1.0   \n",
       "3  0.433333     0.0     0.8750      0.714286        0.000000   1.0   \n",
       "4  0.544444     0.0     0.8750      0.142857        0.333333   1.0   \n",
       "\n",
       "   is_hispanic  employment_commitment  employment_stat  wage_per_hour  ...  \\\n",
       "0        0.000               0.000000              0.0            0.0  ...   \n",
       "1        0.375               0.000000              0.0            0.0  ...   \n",
       "2        0.000               0.142857              0.0            0.0  ...   \n",
       "3        0.000               0.142857              1.0            0.0  ...   \n",
       "4        0.000               0.142857              0.0            0.0  ...   \n",
       "\n",
       "   household_summary  vet_benefit  tax_status     gains  losses  \\\n",
       "0           0.285714          0.0         0.8  0.000000     0.0   \n",
       "1           0.000000          1.0         1.0  0.000000     0.0   \n",
       "2           0.571429          1.0         0.4  0.000000     0.0   \n",
       "3           0.571429          1.0         1.0  0.135501     0.0   \n",
       "4           1.000000          1.0         0.4  0.000000     0.0   \n",
       "\n",
       "   stocks_status  citizenship  mig_year  country_of_birth_own  \\\n",
       "0            0.0          0.5       1.0               0.95122   \n",
       "1            0.0          0.5       0.0               0.95122   \n",
       "2            0.0          0.5       1.0               0.95122   \n",
       "3            0.0          0.5       1.0               0.95122   \n",
       "4            0.0          0.5       1.0               0.95122   \n",
       "\n",
       "   importance_of_record  \n",
       "0              0.070875  \n",
       "1              0.055959  \n",
       "2              0.178602  \n",
       "3              0.090342  \n",
       "4              0.071300  \n",
       "\n",
       "[5 rows x 27 columns]"
      ]
     },
     "execution_count": 69,
     "metadata": {},
     "output_type": "execute_result"
    }
   ],
   "source": [
    "X_train_scaled_df.head()"
   ]
  },
  {
   "cell_type": "markdown",
   "id": "c70e5e87",
   "metadata": {},
   "source": [
    "## Model Training and Evaluation"
   ]
  },
  {
   "cell_type": "code",
   "execution_count": null,
   "id": "34993409",
   "metadata": {},
   "outputs": [],
   "source": [
    "# Initialize an empty dictionary named 'Results' to store the evaluation results for different models.\n",
    "Results = {'Model':[], 'Acurracy':[], 'Precision':[], 'Recall':[], 'F1':[]}"
   ]
  },
  {
   "cell_type": "code",
   "execution_count": null,
   "id": "4a245b69",
   "metadata": {},
   "outputs": [],
   "source": [
    "# Converting the dictionary Results into a pandas DataFrame.\n",
    "Results = pd.DataFrame(Results)\n",
    "Results.head()"
   ]
  },
  {
   "cell_type": "markdown",
   "id": "PTRsY4zKlBXJ",
   "metadata": {
    "id": "PTRsY4zKlBXJ"
   },
   "source": [
    "### i. CatBoost Classifier\n",
    "\n",
    "In the context of our income prediction problem, we have encountered a dataset with numerous categorical features, some of which have a large number of unique values. This can pose challenges in terms of encoding and model performance. To address these issues, we have opted for CatBoost, an open-source boosting library developed by Yandex. Here's why we've chosen CatBoost as our modeling solution:\n",
    "\n",
    "**1. Automatic Categorical Feature Handling:** CatBoost offers a unique advantage by automatically handling categorical features. Unlike traditional models that require extensive feature encoding using techniques like One-Hot Encoding or Label Encoding, CatBoost can directly work with categorical data. This simplifies the preprocessing step and ensures that we can utilize our categorical features without manual intervention.\n",
    "\n",
    "**2. Handling Missing Values:** CatBoost excels in handling missing values. It utilizes an algorithm called Symmetric Weighted Quantile Sketch (SWQS) to automatically manage missing data. This not only simplifies the preprocessing process but also reduces the risk of overfitting, contributing to improved overall model performance.\n",
    "\n",
    "**3. Streamlined Feature Scaling:** Another benefit of CatBoost is its built-in feature scaling. It takes care of scaling all columns uniformly, saving us the effort of manually converting columns. This helps streamline the data preparation phase.\n",
    "\n",
    "**4. Built-in Cross-Validation:** CatBoost includes a built-in cross-validation method, simplifying the task of selecting the best hyperparameters for our model. This ensures that our model's performance is optimized without the need for extensive manual tuning.\n",
    "\n",
    "**5. Regularization Techniques:** CatBoost supports both L1 and L2 regularization methods. These techniques are valuable for reducing overfitting and enhancing the model's ability to generalize well to unseen data.\n",
    "\n",
    "By choosing CatBoost, we aim to efficiently address the challenges posed by our dataset, particularly the extensive set of categorical features with many unique values. CatBoost not only simplifies the modeling process but also enhances the model's performance. It's a robust solution for our income prediction problem.\n"
   ]
  },
  {
   "cell_type": "code",
   "execution_count": 77,
   "id": "ngmt4T157OTk",
   "metadata": {
    "colab": {
     "base_uri": "https://localhost:8080/"
    },
    "id": "ngmt4T157OTk",
    "outputId": "d1acec71-3bec-44bb-97dc-92e845552fe7"
   },
   "outputs": [
    {
     "name": "stdout",
     "output_type": "stream",
     "text": [
      "The indices of the categorical columns are:\n",
      "[ 1  2  3  4  5  6  7 12 14 16 17 19 23 25]\n",
      "\n",
      "Learning rate set to 0.5\n",
      "0:\tlearn: 0.3967261\ttotal: 779ms\tremaining: 38.2s\n",
      "1:\tlearn: 0.3417264\ttotal: 1.66s\tremaining: 39.8s\n",
      "2:\tlearn: 0.3205339\ttotal: 2.3s\tremaining: 36.1s\n",
      "3:\tlearn: 0.3094254\ttotal: 2.98s\tremaining: 34.3s\n",
      "4:\tlearn: 0.3041005\ttotal: 3.68s\tremaining: 33.1s\n",
      "5:\tlearn: 0.2993756\ttotal: 4.65s\tremaining: 34.1s\n",
      "6:\tlearn: 0.2955704\ttotal: 5.38s\tremaining: 33.1s\n",
      "7:\tlearn: 0.2924917\ttotal: 6.17s\tremaining: 32.4s\n",
      "8:\tlearn: 0.2902843\ttotal: 7s\tremaining: 31.9s\n",
      "9:\tlearn: 0.2869275\ttotal: 7.7s\tremaining: 30.8s\n",
      "10:\tlearn: 0.2850845\ttotal: 8.48s\tremaining: 30.1s\n",
      "11:\tlearn: 0.2830231\ttotal: 9.13s\tremaining: 28.9s\n",
      "12:\tlearn: 0.2803761\ttotal: 9.79s\tremaining: 27.9s\n",
      "13:\tlearn: 0.2793283\ttotal: 10.4s\tremaining: 26.8s\n",
      "14:\tlearn: 0.2779817\ttotal: 11s\tremaining: 25.8s\n",
      "15:\tlearn: 0.2768040\ttotal: 11.7s\tremaining: 24.9s\n",
      "16:\tlearn: 0.2752505\ttotal: 12.4s\tremaining: 24s\n",
      "17:\tlearn: 0.2741147\ttotal: 13s\tremaining: 23.1s\n",
      "18:\tlearn: 0.2732004\ttotal: 13.7s\tremaining: 22.3s\n",
      "19:\tlearn: 0.2719125\ttotal: 14.3s\tremaining: 21.5s\n",
      "20:\tlearn: 0.2712839\ttotal: 15s\tremaining: 20.7s\n",
      "21:\tlearn: 0.2698177\ttotal: 15.7s\tremaining: 19.9s\n",
      "22:\tlearn: 0.2689184\ttotal: 16.4s\tremaining: 19.2s\n",
      "23:\tlearn: 0.2681620\ttotal: 17.5s\tremaining: 18.9s\n",
      "24:\tlearn: 0.2670396\ttotal: 18.8s\tremaining: 18.8s\n",
      "25:\tlearn: 0.2658423\ttotal: 19.9s\tremaining: 18.4s\n",
      "26:\tlearn: 0.2650122\ttotal: 21.4s\tremaining: 18.3s\n",
      "27:\tlearn: 0.2643300\ttotal: 22.5s\tremaining: 17.7s\n",
      "28:\tlearn: 0.2634739\ttotal: 23.2s\tremaining: 16.8s\n",
      "29:\tlearn: 0.2625571\ttotal: 23.9s\tremaining: 16s\n",
      "30:\tlearn: 0.2619193\ttotal: 24.6s\tremaining: 15.1s\n",
      "31:\tlearn: 0.2612474\ttotal: 25.3s\tremaining: 14.2s\n",
      "32:\tlearn: 0.2605118\ttotal: 26s\tremaining: 13.4s\n",
      "33:\tlearn: 0.2597594\ttotal: 26.6s\tremaining: 12.5s\n",
      "34:\tlearn: 0.2590659\ttotal: 27.3s\tremaining: 11.7s\n",
      "35:\tlearn: 0.2583283\ttotal: 28s\tremaining: 10.9s\n",
      "36:\tlearn: 0.2579503\ttotal: 28.7s\tremaining: 10.1s\n",
      "37:\tlearn: 0.2574399\ttotal: 29.4s\tremaining: 9.27s\n",
      "38:\tlearn: 0.2565169\ttotal: 30s\tremaining: 8.46s\n",
      "39:\tlearn: 0.2559768\ttotal: 30.6s\tremaining: 7.65s\n",
      "40:\tlearn: 0.2552022\ttotal: 31.4s\tremaining: 6.9s\n",
      "41:\tlearn: 0.2544660\ttotal: 32.1s\tremaining: 6.12s\n",
      "42:\tlearn: 0.2539302\ttotal: 32.8s\tremaining: 5.33s\n",
      "43:\tlearn: 0.2533574\ttotal: 33.4s\tremaining: 4.56s\n",
      "44:\tlearn: 0.2528529\ttotal: 34.2s\tremaining: 3.79s\n",
      "45:\tlearn: 0.2523088\ttotal: 34.8s\tremaining: 3.02s\n",
      "46:\tlearn: 0.2516007\ttotal: 35.7s\tremaining: 2.28s\n",
      "47:\tlearn: 0.2508540\ttotal: 36.5s\tremaining: 1.52s\n",
      "48:\tlearn: 0.2502199\ttotal: 37.4s\tremaining: 763ms\n",
      "49:\tlearn: 0.2496906\ttotal: 38.2s\tremaining: 0us\n"
     ]
    }
   ],
   "source": [
    "# In this part, we will convert categorical columns to string data type and capture the indices where string datatype is \n",
    "# present.\n",
    "# These indices will be used for the CatBoost model.\n",
    "\n",
    "# Selecting object data type columns (categorical columns) in the training dataset\n",
    "cat_cols_index = np.where(train_df_balanced.dtypes == 'object')[0]\n",
    "print(\"The indices of the categorical columns are:\")\n",
    "print(cat_cols_index)\n",
    "print()\n",
    "\n",
    "\n",
    "for i in range(len(X_train_scaled_df.columns)):\n",
    "    if i in cat_cols_index:\n",
    "        X_train_scaled_df[X_train_scaled_df.columns[i]] = X_train_scaled_df[X_train_scaled_df.columns[i]].astype(str)\n",
    "        X_eval_scaled_df[X_train_scaled_df.columns[i]] = X_eval_scaled_df[X_train_scaled_df.columns[i]].astype(str)\n",
    "        # Replace 'test_df' with your test data variable if needed\n",
    "        test_df_preprocessed[X_train_scaled_df.columns[i]] = test_df_preprocessed[X_train_scaled_df.columns[i]].astype(str)\n",
    "\n",
    "# Initialize the CatBoostClassifier model\n",
    "model = CatBoostClassifier(random_state=42, n_estimators=50)\n",
    "\n",
    "# Fit the CatBoost model on the training data with categorical features specified\n",
    "catboost_model = model.fit(X_train_scaled_df, y_train, cat_features=cat_cols_index)"
   ]
  },
  {
   "cell_type": "code",
   "execution_count": 85,
   "id": "al5siLiD9rvb",
   "metadata": {
    "colab": {
     "base_uri": "https://localhost:8080/"
    },
    "id": "al5siLiD9rvb",
    "outputId": "34134a3a-d36b-43e9-cda1-2d479b8f3a37"
   },
   "outputs": [
    {
     "name": "stdout",
     "output_type": "stream",
     "text": [
      "The accuracy attained on the validation set is 89.42%\n"
     ]
    }
   ],
   "source": [
    "# Use the trained CatBoost model to make predictions on the evaluation set\n",
    "y_pred_eval = catboost_model.predict(X_eval_scaled_df)\n",
    "\n",
    "# Calculate the accuracy on the evaluation set\n",
    "accuracy = accuracy_score(y_pred_eval, y_eval)\n",
    "\n",
    "# Print the accuracy with a colored text message\n",
    "print(colored(f'The accuracy attained on the validation set is {accuracy:.2%}', 'green', attrs=['bold']))"
   ]
  },
  {
   "cell_type": "code",
   "execution_count": 87,
   "id": "97rmqddS_DAa",
   "metadata": {
    "colab": {
     "base_uri": "https://localhost:8080/"
    },
    "id": "97rmqddS_DAa",
    "outputId": "477eb959-7edb-400b-f68c-695da7e955fd"
   },
   "outputs": [
    {
     "name": "stdout",
     "output_type": "stream",
     "text": [
      "The classification report only on the validation data:\n",
      "              precision    recall  f1-score   support\n",
      "\n",
      "           0       0.91      0.87      0.89     39301\n",
      "           1       0.88      0.91      0.90     39300\n",
      "\n",
      "    accuracy                           0.89     78601\n",
      "   macro avg       0.89      0.89      0.89     78601\n",
      "weighted avg       0.89      0.89      0.89     78601\n",
      "\n",
      "The classification report only on the train data:\n",
      "              precision    recall  f1-score   support\n",
      "\n",
      "           0       0.91      0.87      0.89    157200\n",
      "           1       0.88      0.92      0.90    157201\n",
      "\n",
      "    accuracy                           0.90    314401\n",
      "   macro avg       0.90      0.90      0.90    314401\n",
      "weighted avg       0.90      0.90      0.90    314401\n",
      "\n"
     ]
    }
   ],
   "source": [
    "print('The classification report only on the validation data:')\n",
    "print(colored(classification_report(y_eval, model.predict(X_eval_scaled_df)),'blue',attrs=['bold']))\n",
    "\n",
    "print('The classification report only on the train data:')\n",
    "print(colored(classification_report(y_train, model.predict(X_train_scaled_df)),'green',attrs=['bold']))"
   ]
  },
  {
   "cell_type": "code",
   "execution_count": 89,
   "id": "1KKdJnvfJaLs",
   "metadata": {
    "colab": {
     "base_uri": "https://localhost:8080/"
    },
    "id": "1KKdJnvfJaLs",
    "outputId": "6577c88a-849d-48dc-a3f9-5cfb53e3cd5a"
   },
   "outputs": [
    {
     "name": "stdout",
     "output_type": "stream",
     "text": [
      "\n",
      "\n",
      "The classification report for the validation data:\n",
      "              precision    recall  f1-score   support\n",
      "\n",
      "           0       0.94      0.84      0.88     39301\n",
      "           1       0.85      0.94      0.90     39300\n",
      "\n",
      "    accuracy                           0.89     78601\n",
      "   macro avg       0.90      0.89      0.89     78601\n",
      "weighted avg       0.90      0.89      0.89     78601\n",
      "\n",
      "============================================================\n",
      "\n",
      "\n",
      "The classification report for the train data:\n",
      "              precision    recall  f1-score   support\n",
      "\n",
      "           0       0.94      0.84      0.89    157200\n",
      "           1       0.86      0.94      0.90    157201\n",
      "\n",
      "    accuracy                           0.89    314401\n",
      "   macro avg       0.90      0.89      0.89    314401\n",
      "weighted avg       0.90      0.89      0.89    314401\n",
      "\n"
     ]
    }
   ],
   "source": [
    "thresh     = 0.4\n",
    "train_pred = np.where(model.predict_proba(X_train_scaled_df)[:,1]>thresh,1,0)\n",
    "test_pred  = np.where(model.predict_proba(X_eval_scaled_df)[:,1]>thresh,1,0)\n",
    "\n",
    "print('\\n')\n",
    "print('The classification report for the validation data:')\n",
    "print(colored(classification_report(y_eval,test_pred),'blue',attrs=['bold']))\n",
    "print('===' * 20)\n",
    "print('\\n')\n",
    "\n",
    "print('The classification report for the train data:')\n",
    "print(colored(classification_report(y_train, train_pred),'green',attrs=['bold']))"
   ]
  },
  {
   "cell_type": "code",
   "execution_count": null,
   "id": "8K76l7bzgKeo",
   "metadata": {
    "id": "8K76l7bzgKeo"
   },
   "outputs": [],
   "source": [
    "from catboost import CatBoostClassifier\n",
    "from sklearn.model_selection import GridSearchCV\n",
    "from sklearn.metrics import make_scorer, f1_score\n",
    "\n",
    "# Define your CatBoostClassifier\n",
    "tuned_catboost_model = CatBoostClassifier(random_state=42)\n",
    "\n",
    "# Define the hyperparameter grid to search\n",
    "param_grid = {\n",
    "    'learning_rate': [0.001, 0.01, 0.1],  # Adjust learning rates\n",
    "    'depth': [4, 6, 8],  # Adjust depth\n",
    "    'l2_leaf_reg': [1, 3, 5],  # Adjust L2 regularization\n",
    "}\n",
    "\n",
    "# Define the scoring metric you want to optimize (e.g., F1-score)\n",
    "scoring = make_scorer(f1_score, average='binary')\n",
    "\n",
    "# Create a GridSearchCV instance\n",
    "grid_search = GridSearchCV(catboost_model, param_grid, cv=5, scoring=scoring, verbose=2, n_jobs=-1)\n",
    "\n",
    "# Fit the grid search to your training data\n",
    "grid_search.fit(X_train_scaled_df, y_train, cat_features=cat_cols_index)\n",
    "\n",
    "# Get the best parameters and estimator from the grid search\n",
    "best_params = grid_search.best_params_\n",
    "best_estimator = grid_search.best_estimator_\n",
    "\n",
    "# Use the best model to make predictions on your evaluation set\n",
    "y_pred_eval = best_estimator.predict(X_eval_scaled_df)\n",
    "\n",
    "# Calculate the F1-score on the evaluation set\n",
    "f1_eval = f1_score(y_eval, y_pred_eval)\n",
    "\n",
    "# Print the best parameters, F1-score, and other metrics\n",
    "print(\"Best Hyperparameters:\", best_params)\n",
    "print(\"F1-score on Evaluation Set:\", f1_eval)"
   ]
  },
  {
   "cell_type": "markdown",
   "id": "eJ7GBlMF5FiS",
   "metadata": {
    "id": "eJ7GBlMF5FiS"
   },
   "source": [
    "The model performance did not improve on evaluation. Therefore, we save the previous model."
   ]
  },
  {
   "cell_type": "markdown",
   "id": "7bZpglxRoTm-",
   "metadata": {
    "id": "7bZpglxRoTm-"
   },
   "source": [
    "### Save The Model and Key Components"
   ]
  },
  {
   "cell_type": "code",
   "execution_count": null,
   "id": "dBMDG7rEoVOX",
   "metadata": {
    "id": "dBMDG7rEoVOX"
   },
   "outputs": [],
   "source": [
    "# Extract and store the unique values\n",
    "unique_values = {}\n",
    "for column in train_df_preprocessed.columns:\n",
    "    unique_values[column] = train_df_preprocessed[column].unique()\n",
    "\n",
    "#Save unique values and model together in a single pickle file\n",
    "file_path = 'data/model_and_key_components.pkl'\n",
    "\n",
    "# Create a dictionary to store the components\n",
    "saved_components = {\n",
    "    'model': catboost_model,\n",
    "    'unique_values': unique_values\n",
    "}\n",
    "\n",
    "# Save all components in a single pickle file\n",
    "with open(file_path, 'wb') as file:\n",
    "    pickle.dump(saved_components, file)"
   ]
  },
  {
   "cell_type": "markdown",
   "id": "rKEDVWfkojJm",
   "metadata": {
    "id": "rKEDVWfkojJm"
   },
   "source": [
    "#### Test Prediction"
   ]
  },
  {
   "cell_type": "code",
   "execution_count": null,
   "id": "Kn98K6uiokeX",
   "metadata": {
    "colab": {
     "base_uri": "https://localhost:8080/",
     "height": 429
    },
    "id": "Kn98K6uiokeX",
    "outputId": "7052cec0-d785-4346-ae41-dd621a406c4a"
   },
   "outputs": [],
   "source": [
    "# View the head of the test dataset\n",
    "test_df_preprocessed.head()"
   ]
  },
  {
   "cell_type": "code",
   "execution_count": null,
   "id": "UbKGLZpyop1n",
   "metadata": {
    "colab": {
     "base_uri": "https://localhost:8080/",
     "height": 429
    },
    "id": "UbKGLZpyop1n",
    "outputId": "26c50c7e-36e5-4f4f-aa91-774b2b0d0128"
   },
   "outputs": [],
   "source": [
    "# Create a copy of the test_df\n",
    "test_pred = test_df_preprocessed.copy()\n",
    "test_pred.head()"
   ]
  },
  {
   "cell_type": "code",
   "execution_count": null,
   "id": "pca4DVhgosLA",
   "metadata": {
    "colab": {
     "base_uri": "https://localhost:8080/",
     "height": 429
    },
    "id": "pca4DVhgosLA",
    "outputId": "2e9261ba-6825-4828-d8b6-5e790ad6a2e9"
   },
   "outputs": [],
   "source": [
    "# Define the file path from where you want to load the model\n",
    "file_path = 'data/model_and_key_components.pkl'\n",
    "\n",
    "# Load the model and components\n",
    "with open(file_path, 'rb') as file:\n",
    "    loaded_components = pickle.load(file)\n",
    "\n",
    "# Load the model\n",
    "loaded_model = loaded_components['model']\n",
    "\n",
    "# Encode categorical columns\n",
    "test_pred = preprocessor.fit_transform(test_pred)\n",
    "\n",
    "\n",
    "# Perform Predictions\n",
    "y_pred = loaded_model.predict(test_pred)\n",
    "\n",
    "# Create a new DataFrame with the 'income_above_limit' predictions\n",
    "test_predictions = test_pred.copy()\n",
    "test_predictions['income_above_limit'] = y_pred\n",
    "\n",
    "# Display Predictions (first few rows)\n",
    "test_predictions.head()"
   ]
  },
  {
   "cell_type": "code",
   "execution_count": null,
   "id": "favyPsj0smef",
   "metadata": {
    "colab": {
     "base_uri": "https://localhost:8080/",
     "height": 206
    },
    "id": "favyPsj0smef",
    "outputId": "863322b4-9f75-4953-c160-8892d156db17"
   },
   "outputs": [],
   "source": [
    "# Merge the 'test_df' and 'test_predictions' based on the common column 'ID'\n",
    "merged_df = test_predictions.merge(test_df[['ID']], left_index=True, right_index=True)\n",
    "\n",
    "# Now 'merged_df' contains the 'ID' column in addition to the data from 'test_predictions'\n",
    "results = merged_df[['ID', 'income_above_limit']]\n",
    "results.head()"
   ]
  },
  {
   "cell_type": "code",
   "execution_count": null,
   "id": "iLz3jJONyZN7",
   "metadata": {
    "id": "iLz3jJONyZN7"
   },
   "outputs": [],
   "source": [
    "# Save the results dataframe to a csv file.\n",
    "results.to_csv('data/results.csv', index=False)"
   ]
  }
 ],
 "metadata": {
  "accelerator": "GPU",
  "colab": {
   "provenance": []
  },
  "kernelspec": {
   "display_name": "Python 3 (ipykernel)",
   "language": "python",
   "name": "python3"
  },
  "language_info": {
   "codemirror_mode": {
    "name": "ipython",
    "version": 3
   },
   "file_extension": ".py",
   "mimetype": "text/x-python",
   "name": "python",
   "nbconvert_exporter": "python",
   "pygments_lexer": "ipython3",
   "version": "3.9.13"
  }
 },
 "nbformat": 4,
 "nbformat_minor": 5
}
